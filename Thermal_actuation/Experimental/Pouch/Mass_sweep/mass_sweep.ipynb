{
 "cells": [
  {
   "cell_type": "code",
   "execution_count": 1,
   "metadata": {},
   "outputs": [],
   "source": [
    "import pandas as pd\n",
    "\n",
    "import numpy as np\n",
    "#import seaborn as sns\n",
    "import matplotlib.pyplot as plt\n",
    "import math\n",
    "import scienceplots\n",
    "plt.style.use(['science','nature','no-latex','vibrant'])\n",
    "plt.rcParams.update({\n",
    "    \"font.family\": \"Arial\",   # specify font family here\n",
    "    \"font.serif\": [\"sans-serif\"],  # specify font here\n",
    "    \"font.size\":11})          # specify font size here\n",
    "\n",
    "from scipy import constants\n",
    "\n",
    "#Import personal functions\n",
    "import sys\n",
    "sys.path.append(\"C:/Users/Olivi/Documents/Git/SoRoMa/Thermal_Soft_Robotics_data/Functions\")\n",
    "#sys.path.append(\"C:/Users\\Olivi\\OneDrive - TU Eindhoven\\Soft robotic matter\\GitHub\\Thermal_Soft_Robotics\\Functions\")\n",
    "#sys.path.append(\"//sun/overvelde/group-folder/PROJECTS/Thermal_soft_robotics_Olivier/Git/Thermal_Soft_Robotics/Functions\")\n",
    "import FluidicSetupFunctions\n",
    "from save_plot_func import save_plot"
   ]
  },
  {
   "cell_type": "code",
   "execution_count": 2,
   "metadata": {},
   "outputs": [
    {
     "name": "stdout",
     "output_type": "stream",
     "text": [
      "Loading... Folder 1 of 1, Sample 1 of 5\n",
      "Loading... Folder 1 of 1, Sample 2 of 5\n",
      "Loading... Folder 1 of 1, Sample 3 of 5\n",
      "Loading... Folder 1 of 1, Sample 4 of 5\n",
      "Loading... Folder 1 of 1, Sample 5 of 5\n"
     ]
    }
   ],
   "source": [
    "#Location = r\"\\\\sun\\overvelde\\group-folder\\PROJECTS\\Thermal_soft_robotics_Olivier\\Git\\Thermal_Soft_Robotics\\Thermal_actuation\\Experimental\\Fluidic\\Pouch\\Data\\05L\"\n",
    "Location = r\"C:\\Users\\Olivi\\Documents\\Git\\SoRoMa\\Thermal_soft_robotics_data\\Thermal_actuation\\Experimental\\Fluidic\\Pouch\\Mass_sweep\"\n",
    "Foldernames = [\"//Data\"]\n",
    "\n",
    "data = FluidicSetupFunctions.LoadData(Foldernames = Foldernames,Location=Location)"
   ]
  },
  {
   "cell_type": "code",
   "execution_count": 3,
   "metadata": {},
   "outputs": [
    {
     "data": {
      "text/plain": [
       "0          -62.607184\n",
       "1          -33.465978\n",
       "2          -10.201578\n",
       "3            7.771718\n",
       "4           21.039609\n",
       "              ...    \n",
       "1706895    136.692754\n",
       "1706896    134.557085\n",
       "1706897    136.430641\n",
       "1706898    143.211097\n",
       "1706899    155.796126\n",
       "Name: SSCDP30-2, Length: 1706900, dtype: float64"
      ]
     },
     "execution_count": 3,
     "metadata": {},
     "output_type": "execute_result"
    }
   ],
   "source": [
    "# Pop failed experiments\n",
    "data[0][1].pop('SSCDP15-4')\n",
    "data[0][2].pop('SSCDP15-4')\n",
    "data[0][3].pop('SSCDP30-2')"
   ]
  },
  {
   "cell_type": "code",
   "execution_count": 4,
   "metadata": {},
   "outputs": [
    {
     "data": {
      "text/plain": [
       "1.5000505145877818"
      ]
     },
     "execution_count": 4,
     "metadata": {},
     "output_type": "execute_result"
    }
   ],
   "source": [
    "# Pressure generation \n",
    "# 0 = volume of fixed container\n",
    "# v1 = volume of compressed air \n",
    "# p1 = desired pressure \n",
    "#Goal n_novec for given pressure \n",
    "p1 = 50e3\n",
    "P_amb = 1e5\n",
    "V_bottle = 0.525e-3\n",
    "rho_air = 1.204 # kg/m3 @ P_amb and 20 deg \n",
    "M_air = 28.9647e-3 # kg/mol\n",
    "n_air = rho_air*V_bottle/M_air \n",
    "n_air\n",
    "\n",
    "R = constants.R\n",
    "\n",
    "T_amb = 50+273\n",
    "\n",
    "v1= n_air*R*T_amb/(p1+P_amb)\n",
    "v1\n",
    "\n",
    "V_novec = V_bottle-v1\n",
    "n_novec = (p1+P_amb)*V_novec/(R*T_amb)\n",
    "\n",
    "# Vapor mass \n",
    "M = 200 # g/mol\n",
    "m_novec = M*n_novec\n",
    "m_novec\n"
   ]
  },
  {
   "cell_type": "code",
   "execution_count": 5,
   "metadata": {},
   "outputs": [
    {
     "data": {
      "image/png": "[encoded data removed]",
      "text/plain": [
       "<Figure size 600x300 with 1 Axes>"
      ]
     },
     "metadata": {},
     "output_type": "display_data"
    }
   ],
   "source": [
    "plt.figure(figsize=(6, 3))\n",
    "P_mass = {}\n",
    "df_sim_fit = pd.DataFrame()\n",
    "for i, df in enumerate(data[0]):\n",
    "    t = data[0][i]['Time'] / 60\n",
    "\n",
    "    samplename = data[1]['Samplename'][i]\n",
    "\n",
    "    # Splitting the samplename based on sensor identifiers\n",
    "    parts_ai11 = samplename.split('_ai4-')\n",
    "    number_ai11 = parts_ai11[0].rstrip('mg') if len(parts_ai11) > 1 else None\n",
    "\n",
    "    parts_ai2 = samplename.split('_ai2')\n",
    "    number_ai2 = parts_ai2[0].split('-')[-1].rstrip('mg') if len(parts_ai2) > 1 else None\n",
    "\n",
    "    if 'SSCDP15-4' in df.columns:\n",
    "        P = df['SSCDP15-4'] / 1000\n",
    "        label = f\"{number_ai11}\" if number_ai11 else None\n",
    "        plt.plot(t, P, label=label)\n",
    "        P_mass[number_ai11] = (max(P))\n",
    "\n",
    "    if 'SSCDP30-2' in df.columns:\n",
    "        P = df['SSCDP30-2'] / 1000\n",
    "        label = f\"{number_ai2}\" if number_ai2 else None\n",
    "        plt.plot(t, P, label=label)\n",
    "        P_mass[number_ai2] = max(P)\n",
    "\n",
    "    # store one run for sim fitting \n",
    "    '''\n",
    "    if number_ai11 == str(3570):\n",
    "        df_sim_fit = df\n",
    "        break\n",
    "    elif number_ai2 == str(3570):\n",
    "        df_sim_fit = df\n",
    "        break\n",
    " \n",
    "     \n",
    "    print(number_ai11, number_ai2)\n",
    "    '''\n",
    "\n",
    "    #if i == 3:\n",
    "        #break\n",
    "\n",
    "plt.ylabel('Pressure (kPa)')\n",
    "plt.xlabel('Time (min)')\n",
    "\n",
    "# Collect handles and labels\n",
    "handles, labels = plt.gca().get_legend_handles_labels()\n",
    "\n",
    "# Sort them by labels (alphabetically)\n",
    "sorted_handles_labels = sorted(zip(handles, labels), key=lambda x: x[1])\n",
    "sorted_handles, sorted_labels = zip(*sorted_handles_labels)\n",
    "\n",
    "# Create the legend with sorted handles and labels\n",
    "plt.legend(sorted_handles, sorted_labels,title='Mass novec [mg]')\n",
    "#plt.savefig('figures/mass_sweep_extended', dpi=300)\n",
    "plt.show()"
   ]
  },
  {
   "cell_type": "code",
   "execution_count": 6,
   "metadata": {},
   "outputs": [],
   "source": [
    "#df_sim_fit.to_csv('20240111_162222_3570mg.csv', index=False)"
   ]
  },
  {
   "cell_type": "code",
   "execution_count": 7,
   "metadata": {},
   "outputs": [
    {
     "name": "stdout",
     "output_type": "stream",
     "text": [
      "        1740       3570        900          0       7000      14000\n",
      "0  48.726477  83.974337  41.237871  14.835091  82.765737  87.838875\n"
     ]
    }
   ],
   "source": [
    "# Convert the dictionary to a DataFrame\n",
    "# Keys of the dictionary become the column headers, and values become the column data\n",
    "df_P_mass = pd.DataFrame(dict([(k, pd.Series(v)) for k, v in P_mass.items()]))\n",
    "\n",
    "print(df_P_mass)"
   ]
  },
  {
   "cell_type": "code",
   "execution_count": 19,
   "metadata": {},
   "outputs": [
    {
     "data": {
      "image/png": "[encoded data removed]",
      "text/plain": [
       "<Figure size 421.26x210.63 with 1 Axes>"
      ]
     },
     "metadata": {},
     "output_type": "display_data"
    }
   ],
   "source": [
    "\n",
    "# Sorting the dictionary by keys (convert keys to integers for numerical sorting)\n",
    "sorted_keys = sorted(P_mass, key=lambda x: int(x))\n",
    "sorted_values = [P_mass[key]-1 for key in sorted_keys]\n",
    "\n",
    "# Convert sorted keys to integers for plotting\n",
    "sorted_keys_int = [int(key)/1000 for key in sorted_keys]\n",
    "\n",
    "# Define variables\n",
    "m_ideal = np.linspace(0, 14, 100)  # Mass range in grams (assuming)\n",
    "V = 0.525e-3  # Volume in cubic meters\n",
    "R = constants.R  # Ideal gas constant\n",
    "M = 200  # Molar mass in g/mol\n",
    "T = 50 + 273  # Temperature in Kelvin\n",
    "P_amb = 101325  # Ambient pressure in Pascals (assuming standard atmospheric pressure)\n",
    "\n",
    "# Calculate initial moles of air\n",
    "T_amb = 20 + 273  # Ambient temperature in Kelvin\n",
    "n0_air = V * P_amb / (R * T_amb)\n",
    "\n",
    "# Convert mass to moles\n",
    "n = m_ideal / M\n",
    "\n",
    "# Calculate ideal pressure\n",
    "P_ideal = ((n + n0_air) * R * T) / V-P_amb\n",
    "\n",
    "Vapor_pressure = np.exp(-3548.6/T+22.978)\n",
    "\n",
    "# Plotting\n",
    "cm = 1/2.54\n",
    "w = 10.7\n",
    "plt.figure(figsize=(w*cm, w/2*cm))\n",
    "plt.plot(sorted_keys_int, sorted_values, marker='o', linestyle='--', label = 'Experimental')\n",
    "plt.plot(m_ideal,P_ideal/1000, label = 'Ideal gas law')\n",
    "#plt.axhline(Vapor_pressure/1000-P_amb/1000, label = 'Vapor pressure @ $T=50$ [$C^{\\circ}$]', color ='red')\n",
    "#plt.axhline(Vapor_pressure/1000, label = 'Vapor pressure-$P_{amb}$ @ $T=50$ [$C^{\\circ}$]', color ='red')\n",
    "plt.xlabel('Mass novec 7000 [g]')\n",
    "plt.ylabel('Pressure [kPa]')\n",
    "#plt.title('Steady state pressure')\n",
    "plt.ylim(0,200)\n",
    "plt.xlim(-0.5,15)\n",
    "plt.locator_params(axis='x', nbins=5)  # Change 'nbins' to the desired number of ticks\n",
    "plt.locator_params(axis='y', nbins=5) \n",
    "plt.legend()\n",
    "plt.savefig('figures/mass_sweep.svg', dpi=300)"
   ]
  }
 ],
 "metadata": {
  "kernelspec": {
   "display_name": "Python 3",
   "language": "python",
   "name": "python3"
  },
  "language_info": {
   "codemirror_mode": {
    "name": "ipython",
    "version": 3
   },
   "file_extension": ".py",
   "mimetype": "text/x-python",
   "name": "python",
   "nbconvert_exporter": "python",
   "pygments_lexer": "ipython3",
   "version": "3.11.4"
  }
 },
 "nbformat": 4,
 "nbformat_minor": 2
}
