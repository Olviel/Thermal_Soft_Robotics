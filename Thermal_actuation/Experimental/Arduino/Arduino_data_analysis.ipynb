{
 "cells": [
  {
   "cell_type": "code",
   "execution_count": 12,
   "metadata": {},
   "outputs": [],
   "source": [
    "import pandas as pd \n",
    "import matplotlib.pyplot as plt"
   ]
  },
  {
   "cell_type": "code",
   "execution_count": 15,
   "metadata": {},
   "outputs": [
    {
     "name": "stdout",
     "output_type": "stream",
     "text": [
      "        Time  Pressure    TC  AmbientT  AmbientV\n",
      "0          0  8791.125  2.92     42.57       693\n",
      "1          1  8791.125  2.83     26.45       528\n",
      "2          3  8791.125  2.83     25.31       515\n",
      "3          5  8446.375  1.30     23.30       492\n",
      "4          6  8791.125  3.83     24.78       509\n",
      "...      ...       ...   ...       ...       ...\n",
      "50952  82789  9135.875  7.71     27.78       543\n",
      "50953  82790  9135.875  6.53     27.78       543\n",
      "50954  82792  9135.875  6.80     27.52       540\n",
      "50955  82794  9135.875  5.09     26.72       531\n",
      "50956  82795  9135.875  4.37     26.63       530\n",
      "\n",
      "[50957 rows x 5 columns]\n"
     ]
    }
   ],
   "source": [
    "path = \"20230914_1810_data.CSV\"\n",
    "# Date is YYYYMMDD_HHMM\n",
    "df = pd.read_csv(path,header=None, sep=',')\n",
    "df.columns = ['Time', 'Pressure', 'TC', 'AmbientT', 'AmbientV']\n",
    "# Time in sec, pressure in V, TC (= thermocouple) in mV, AmbientT in C and AmbientV in mV \n",
    "#print(df['Pressure])\n",
    "\n",
    "# Convert miliseconds from arduino to seconds\n",
    "df['Time'] = pd.to_numeric(df['Time'], errors='coerce') \n",
    "#df['Time'] = df['Time'] / 1000 #Time in seconds\n",
    "\n",
    "#Convert voltaga reading from sensor to kPa\n",
    "#df['Pressure'] = ((df['Pressure']/1023)-0.04)/0.009\n",
    "Pmax = 5 #PSS\n",
    "df['Pressure'] = (df['Pressure']*2*Pmax/4)*6.895e3 # Pa\n",
    "\n",
    "# Display the first few rows of the DataFrame\n",
    "print(df)\n"
   ]
  },
  {
   "cell_type": "code",
   "execution_count": 17,
   "metadata": {},
   "outputs": [
    {
     "data": {
      "image/png": "[encoded data removed]",
      "text/plain": [
       "<Figure size 432x288 with 1 Axes>"
      ]
     },
     "metadata": {
      "needs_background": "light"
     },
     "output_type": "display_data"
    },
    {
     "data": {
      "text/plain": [
       "[<matplotlib.lines.Line2D at 0x22232bed730>]"
      ]
     },
     "execution_count": 17,
     "metadata": {},
     "output_type": "execute_result"
    },
    {
     "data": {
      "image/png": "[encoded data removed]",
      "text/plain": [
       "<Figure size 432x288 with 1 Axes>"
      ]
     },
     "metadata": {
      "needs_background": "light"
     },
     "output_type": "display_data"
    }
   ],
   "source": [
    "slice_start = 3600\n",
    "n_hours = 2\n",
    "slice_end=slice_start+n_hours*3600\n",
    "plt.plot(df['Time'][slice_start:slice_end]/3600,df['Pressure'][slice_start:slice_end])\n",
    "plt.show()\n",
    "\n",
    "plt.plot(df['Time'][slice_start:slice_end]/3600,df['TC'][slice_start:slice_end])"
   ]
  }
 ],
 "metadata": {
  "kernelspec": {
   "display_name": "base",
   "language": "python",
   "name": "python3"
  },
  "language_info": {
   "codemirror_mode": {
    "name": "ipython",
    "version": 3
   },
   "file_extension": ".py",
   "mimetype": "text/x-python",
   "name": "python",
   "nbconvert_exporter": "python",
   "pygments_lexer": "ipython3",
   "version": "3.8.8"
  },
  "orig_nbformat": 4
 },
 "nbformat": 4,
 "nbformat_minor": 2
}
