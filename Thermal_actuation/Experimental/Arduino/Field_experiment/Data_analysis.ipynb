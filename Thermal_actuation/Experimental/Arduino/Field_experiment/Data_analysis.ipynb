{
 "cells": [
  {
   "cell_type": "code",
   "execution_count": 36,
   "metadata": {},
   "outputs": [],
   "source": [
    "import pandas as pd \n",
    "import matplotlib.pyplot as plt"
   ]
  },
  {
   "cell_type": "code",
   "execution_count": 45,
   "metadata": {},
   "outputs": [
    {
     "name": "stdout",
     "output_type": "stream",
     "text": [
      "0       0.04\n",
      "1       0.30\n",
      "2       0.04\n",
      "3       0.04\n",
      "4       0.04\n",
      "        ... \n",
      "7057    0.05\n",
      "7058    0.05\n",
      "7059    0.05\n",
      "7060    0.05\n",
      "7061    0.05\n",
      "Name: Pressure, Length: 7062, dtype: float64\n",
      "        Time  Pressure  Temperature\n",
      "0      0.309 -4.440100         0.68\n",
      "1      6.394 -4.411861         1.41\n",
      "2     12.481 -4.440100         0.64\n",
      "3     18.566 -4.440100         0.64\n",
      "4     24.650 -4.440100         0.72\n",
      "...      ...       ...          ...\n",
      "7057   0.082 -4.439014         0.20\n",
      "7058   0.082 -4.439014         0.20\n",
      "7059   0.082 -4.439014         0.20\n",
      "7060   0.082 -4.439014         0.20\n",
      "7061   0.082 -4.439014         0.20\n",
      "\n",
      "[7062 rows x 3 columns]\n"
     ]
    }
   ],
   "source": [
    "path = \"DATA.CSV\"\n",
    "df = pd.read_csv(path,header=None, sep=',')\n",
    "df.columns = ['Time', 'Pressure', 'Temperature']\n",
    "print(df['Pressure'])\n",
    "\n",
    "# Convert miliseconds from arduino to seconds\n",
    "df['Time'] = pd.to_numeric(df['Time'], errors='coerce') \n",
    "df['Time'] = df['Time'] / 1000 #Time in seconds\n",
    "\n",
    "#Convert voltaga reading from sensor to kPa\n",
    "df['Pressure'] = ((df['Pressure']/1023)-0.04)/0.009\n",
    "\n",
    "# Display the first few rows of the DataFrame\n",
    "print(df)\n"
   ]
  },
  {
   "cell_type": "code",
   "execution_count": 47,
   "metadata": {},
   "outputs": [
    {
     "data": {
      "text/plain": [
       "[<matplotlib.lines.Line2D at 0x25aaafdbf70>]"
      ]
     },
     "execution_count": 47,
     "metadata": {},
     "output_type": "execute_result"
    },
    {
     "data": {
      "image/png": "[encoded data removed]",
      "text/plain": [
       "<Figure size 432x288 with 1 Axes>"
      ]
     },
     "metadata": {
      "needs_background": "light"
     },
     "output_type": "display_data"
    }
   ],
   "source": [
    "slice_start = 3600\n",
    "n_hours = 2\n",
    "slice_end=slice_start+n_hours*3600\n",
    "plt.plot(df['Time'][slice_start:slice_end]/3600,df['Pressure'][slice_start:slice_end])"
   ]
  }
 ],
 "metadata": {
  "kernelspec": {
   "display_name": "base",
   "language": "python",
   "name": "python3"
  },
  "language_info": {
   "codemirror_mode": {
    "name": "ipython",
    "version": 3
   },
   "file_extension": ".py",
   "mimetype": "text/x-python",
   "name": "python",
   "nbconvert_exporter": "python",
   "pygments_lexer": "ipython3",
   "version": "3.8.8"
  },
  "orig_nbformat": 4
 },
 "nbformat": 4,
 "nbformat_minor": 2
}
