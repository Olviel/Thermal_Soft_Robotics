{
 "cells": [
  {
   "cell_type": "code",
   "execution_count": 2,
   "metadata": {},
   "outputs": [],
   "source": [
    "import pandas as pd\n",
    "import matplotlib.pyplot as plt\n",
    "import matplotlib.cm as cm # Colormap for time\n",
    "import numpy as np\n",
    "\n",
    "import sys\n",
    "sys.path.append(\"C:/Users/Olivi/OneDrive - TU Eindhoven/Soft robotic matter/GitHub/Thermal_Soft_Robotics\")\n",
    "import FluidicSetupFunctions\n"
   ]
  },
  {
   "cell_type": "code",
   "execution_count": 3,
   "metadata": {},
   "outputs": [
    {
     "name": "stdout",
     "output_type": "stream",
     "text": [
      "Loading... Folder 1 of 1, Sample 1 of 4\n",
      "Loading... Folder 1 of 1, Sample 2 of 4\n",
      "Loading... Folder 1 of 1, Sample 3 of 4\n",
      "Loading... Folder 1 of 1, Sample 4 of 4\n"
     ]
    }
   ],
   "source": [
    "#Location = r\"C:\\Users\\Olivi\\OneDrive - TU Eindhoven\\Soft robotic matter\\data_analysis\"\n",
    "Location = r\"C:\\\\Users\\Olivi\\OneDrive - TU Eindhoven\\Soft robotic matter\\GitHub\\Thermal_Soft_Robotics\\Thermal_actuation\\Experimental\\Fluidic\\Seal_leak_test\"\n",
    "Foldernames = [\"\\\\Data\"]\n",
    "\n",
    "data = FluidicSetupFunctions.LoadData(Foldernames = Foldernames,Location=Location)"
   ]
  },
  {
   "cell_type": "code",
   "execution_count": 4,
   "metadata": {},
   "outputs": [
    {
     "name": "stdout",
     "output_type": "stream",
     "text": [
      "        presFesto5-1      MPX700-10      Time\n",
      "0           0.000263      46.504836     0.002\n",
      "1           0.000081       7.198731     0.004\n",
      "2          -0.000044     -19.946867     0.006\n",
      "3          -0.000117     -36.429517     0.008\n",
      "4          -0.000147     -43.746778     0.010\n",
      "...              ...            ...       ...\n",
      "720445      1.400342  138800.578756  1440.892\n",
      "720446      1.400039  138797.208670  1440.894\n",
      "720447      1.399643  138794.234613  1440.896\n",
      "720448      1.399144  138791.710516  1440.898\n",
      "720449      1.398533  138789.690314  1440.900\n",
      "\n",
      "[720450 rows x 3 columns]\n"
     ]
    },
    {
     "data": {
      "text/plain": [
       "Text(0, 0.5, 'Pressure [kPa]')"
      ]
     },
     "execution_count": 4,
     "metadata": {},
     "output_type": "execute_result"
    },
    {
     "data": {
      "image/png": "[encoded data removed]",
      "text/plain": [
       "<Figure size 432x288 with 1 Axes>"
      ]
     },
     "metadata": {
      "needs_background": "light"
     },
     "output_type": "display_data"
    }
   ],
   "source": [
    "print(data[0][-1])\n",
    "\n",
    "P = data[0][-1]['MPX700-10']\n",
    "t = data[0][-1]['Time']\n",
    "setpoint= data[0][-1]['presFesto5-1']\n",
    "\n",
    "plt.plot(t/60,P/1000)\n",
    "#plt.plot(t,setpoint)\n",
    "plt.ylim(130,145)\n",
    "plt.xlabel('Time [min]')\n",
    "plt.ylabel('Pressure [kPa]')"
   ]
  }
 ],
 "metadata": {
  "kernelspec": {
   "display_name": "base",
   "language": "python",
   "name": "python3"
  },
  "language_info": {
   "codemirror_mode": {
    "name": "ipython",
    "version": 3
   },
   "file_extension": ".py",
   "mimetype": "text/x-python",
   "name": "python",
   "nbconvert_exporter": "python",
   "pygments_lexer": "ipython3",
   "version": "3.8.8"
  },
  "orig_nbformat": 4
 },
 "nbformat": 4,
 "nbformat_minor": 2
}
