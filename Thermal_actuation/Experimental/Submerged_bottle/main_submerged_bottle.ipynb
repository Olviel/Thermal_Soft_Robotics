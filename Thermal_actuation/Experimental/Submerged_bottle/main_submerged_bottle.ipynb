{
 "cells": [
  {
   "cell_type": "code",
   "execution_count": 4,
   "metadata": {},
   "outputs": [],
   "source": [
    "import pandas as pd\n",
    "\n",
    "import numpy as np\n",
    "import seaborn as sns\n",
    "import matplotlib.pyplot as plt\n",
    "import scienceplots\n",
    "plt.style.use(['science','nature','no-latex','vibrant'])\n",
    "\n",
    "#Import personal functions\n",
    "import sys\n",
    "#sys.path.append(\"C:/Users/Olivi/OneDrive - TU Eindhoven/Soft robotic matter/GitHub/Thermal_Soft_Robotics/Functions\")\n",
    "sys.path.append(\"//sun/overvelde/group-folder/PROJECTS/Thermal_soft_robotics_Olivier/Git/Thermal_Soft_Robotics/Functions\")\n",
    "import FluidicSetupFunctions\n",
    "from save_plot_func import save_plot\n"
   ]
  },
  {
   "cell_type": "code",
   "execution_count": 5,
   "metadata": {},
   "outputs": [
    {
     "name": "stdout",
     "output_type": "stream",
     "text": [
      "Loading... Folder 1 of 1, Sample 1 of 2\n",
      "Loading... Folder 1 of 1, Sample 2 of 2\n",
      "<bound method NDFrame.head of           SSCDP05-3     Time\n",
      "0         20.153909    0.001\n",
      "1         19.297387    0.002\n",
      "2         18.490556    0.003\n",
      "3         17.741783    0.004\n",
      "4         17.059434    0.005\n",
      "...             ...      ...\n",
      "228895  7463.540188  228.896\n",
      "228896  7462.631073  228.897\n",
      "228897  7462.167693  228.898\n",
      "228898  7462.260414  228.899\n",
      "228899  7463.019604  228.900\n",
      "\n",
      "[228900 rows x 2 columns]>\n"
     ]
    }
   ],
   "source": [
    "#Location = r\"C:\\Users\\Olivi\\OneDrive - TU Eindhoven\\Soft robotic matter\\data_analysis\"\n",
    "Location = r\"//sun/overvelde/group-folder/PROJECTS/Thermal_soft_robotics_Olivier/Git/Thermal_Soft_Robotics/Thermal_actuation/Experimental/Fluidic/Submerged_bottle\"\n",
    "Foldernames = [\"/Data_v2\"]\n",
    "\n",
    "data = FluidicSetupFunctions.LoadData(Foldernames = Foldernames,Location=Location)\n",
    "\n",
    "print(data[0][-1].head)\n",
    "\n",
    "#check check\n"
   ]
  },
  {
   "cell_type": "code",
   "execution_count": 6,
   "metadata": {},
   "outputs": [
    {
     "data": {
      "text/html": [
       "<div>\n",
       "<style scoped>\n",
       "    .dataframe tbody tr th:only-of-type {\n",
       "        vertical-align: middle;\n",
       "    }\n",
       "\n",
       "    .dataframe tbody tr th {\n",
       "        vertical-align: top;\n",
       "    }\n",
       "\n",
       "    .dataframe thead th {\n",
       "        text-align: right;\n",
       "    }\n",
       "</style>\n",
       "<table border=\"1\" class=\"dataframe\">\n",
       "  <thead>\n",
       "    <tr style=\"text-align: right;\">\n",
       "      <th></th>\n",
       "      <th>SSCDP05-3</th>\n",
       "      <th>Time</th>\n",
       "    </tr>\n",
       "  </thead>\n",
       "  <tbody>\n",
       "    <tr>\n",
       "      <th>0</th>\n",
       "      <td>-11.685286</td>\n",
       "      <td>0.001</td>\n",
       "    </tr>\n",
       "    <tr>\n",
       "      <th>1</th>\n",
       "      <td>-8.040202</td>\n",
       "      <td>0.002</td>\n",
       "    </tr>\n",
       "    <tr>\n",
       "      <th>2</th>\n",
       "      <td>-5.222184</td>\n",
       "      <td>0.003</td>\n",
       "    </tr>\n",
       "    <tr>\n",
       "      <th>3</th>\n",
       "      <td>-3.160908</td>\n",
       "      <td>0.004</td>\n",
       "    </tr>\n",
       "    <tr>\n",
       "      <th>4</th>\n",
       "      <td>-1.786051</td>\n",
       "      <td>0.005</td>\n",
       "    </tr>\n",
       "    <tr>\n",
       "      <th>...</th>\n",
       "      <td>...</td>\n",
       "      <td>...</td>\n",
       "    </tr>\n",
       "    <tr>\n",
       "      <th>70095</th>\n",
       "      <td>4.321220</td>\n",
       "      <td>70.096</td>\n",
       "    </tr>\n",
       "    <tr>\n",
       "      <th>70096</th>\n",
       "      <td>4.407026</td>\n",
       "      <td>70.097</td>\n",
       "    </tr>\n",
       "    <tr>\n",
       "      <th>70097</th>\n",
       "      <td>3.754560</td>\n",
       "      <td>70.098</td>\n",
       "    </tr>\n",
       "    <tr>\n",
       "      <th>70098</th>\n",
       "      <td>2.241303</td>\n",
       "      <td>70.099</td>\n",
       "    </tr>\n",
       "    <tr>\n",
       "      <th>70099</th>\n",
       "      <td>-0.255263</td>\n",
       "      <td>70.100</td>\n",
       "    </tr>\n",
       "  </tbody>\n",
       "</table>\n",
       "<p>70100 rows × 2 columns</p>\n",
       "</div>"
      ],
      "text/plain": [
       "       SSCDP05-3    Time\n",
       "0     -11.685286   0.001\n",
       "1      -8.040202   0.002\n",
       "2      -5.222184   0.003\n",
       "3      -3.160908   0.004\n",
       "4      -1.786051   0.005\n",
       "...          ...     ...\n",
       "70095   4.321220  70.096\n",
       "70096   4.407026  70.097\n",
       "70097   3.754560  70.098\n",
       "70098   2.241303  70.099\n",
       "70099  -0.255263  70.100\n",
       "\n",
       "[70100 rows x 2 columns]"
      ]
     },
     "execution_count": 6,
     "metadata": {},
     "output_type": "execute_result"
    }
   ],
   "source": [
    "data[0][0]"
   ]
  },
  {
   "cell_type": "code",
   "execution_count": 9,
   "metadata": {},
   "outputs": [
    {
     "data": {
      "image/png": "[encoded data removed]",
      "text/plain": [
       "<Figure size 400x400 with 1 Axes>"
      ]
     },
     "metadata": {},
     "output_type": "display_data"
    }
   ],
   "source": [
    "plt.figure(figsize=(4,4))\n",
    "for i in range(len(data[0])):   \n",
    "    P = data[0][i]['SSCDP05-3']/1000\n",
    "    t = data[0][i]['Time']\n",
    "\n",
    "    plt.plot(t,P)\n",
    "\n",
    "plt.xlabel('Time [$s$]')\n",
    "plt.show()"
   ]
  },
  {
   "cell_type": "code",
   "execution_count": 12,
   "metadata": {},
   "outputs": [
    {
     "data": {
      "image/png": "[encoded data removed]",
      "text/plain": [
       "<Figure size 400x400 with 1 Axes>"
      ]
     },
     "metadata": {},
     "output_type": "display_data"
    }
   ],
   "source": [
    "plt.figure(figsize=(4,4))\n",
    "   \n",
    "P = data[0][-1]['SSCDP05-3']/1000\n",
    "t = data[0][-1]['Time']\n",
    "\n",
    "plt.plot(t,P)\n",
    "\n",
    "plt.xlabel('Time [$s$]')\n",
    "plt.ylabel('Pressure [$kPa$]')\n",
    "save_plot(\"tank_warm_water\")"
   ]
  }
 ],
 "metadata": {
  "kernelspec": {
   "display_name": "Python 3",
   "language": "python",
   "name": "python3"
  },
  "language_info": {
   "codemirror_mode": {
    "name": "ipython",
    "version": 3
   },
   "file_extension": ".py",
   "mimetype": "text/x-python",
   "name": "python",
   "nbconvert_exporter": "python",
   "pygments_lexer": "ipython3",
   "version": "3.11.6"
  }
 },
 "nbformat": 4,
 "nbformat_minor": 2
}
