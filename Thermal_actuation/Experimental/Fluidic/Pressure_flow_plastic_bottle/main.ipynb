{
 "cells": [
  {
   "cell_type": "code",
   "execution_count": 2,
   "metadata": {},
   "outputs": [],
   "source": [
    "import pandas as pd\n",
    "import numpy as np\n",
    "import seaborn as sns\n",
    "import matplotlib.pyplot as plt\n",
    "\n",
    "#Import personal functions\n",
    "import sys\n",
    "#sys.path.append(\"C:/Users/Olivi/OneDrive - TU Eindhoven/Soft robotic matter/GitHub/Thermal_Soft_Robotics/Functions\")\n",
    "sys.path.append(\"//sun/overvelde/group-folder/PROJECTS/Thermal_soft_robotics_Olivier/Git/Thermal_Soft_Robotics/Functions\")\n",
    "import FluidicSetupFunctions\n",
    "from save_plot_func import save_plot\n",
    "\n",
    "# Set figure style\n",
    "import scienceplots\n",
    "plt.style.use(['science','nature','no-latex','vibrant'])\n",
    "\n"
   ]
  },
  {
   "cell_type": "code",
   "execution_count": 4,
   "metadata": {},
   "outputs": [
    {
     "name": "stdout",
     "output_type": "stream",
     "text": [
      "Loading... Folder 1 of 1, Sample 1 of 8\n",
      "Loading... Folder 1 of 1, Sample 2 of 8\n",
      "Loading... Folder 1 of 1, Sample 3 of 8\n",
      "Loading... Folder 1 of 1, Sample 4 of 8\n",
      "Loading... Folder 1 of 1, Sample 5 of 8\n",
      "Loading... Folder 1 of 1, Sample 6 of 8\n",
      "Loading... Folder 1 of 1, Sample 7 of 8\n",
      "Loading... Folder 1 of 1, Sample 8 of 8\n",
      "<bound method NDFrame.head of        presFesto-0  AWM20-12  SSCDP05-3    Time\n",
      "0         0.000387 -0.002912 -15.255849   0.001\n",
      "1         0.000155 -0.001955 -14.905454   0.002\n",
      "2        -0.000019 -0.001086 -14.891623   0.003\n",
      "3        -0.000140 -0.000304 -15.169332   0.004\n",
      "4        -0.000213  0.000392 -15.693559   0.005\n",
      "...            ...       ...        ...     ...\n",
      "19595     0.072877  0.066065   3.291364  19.596\n",
      "19596     0.072835  0.066664   0.243335  19.597\n",
      "19597     0.072798  0.067566  -4.106382  19.598\n",
      "19598     0.072769  0.068807  -9.915566  19.599\n",
      "19599     0.072749  0.070422 -17.341999  19.600\n",
      "\n",
      "[19600 rows x 4 columns]>\n"
     ]
    }
   ],
   "source": [
    "#Location = r\"C:\\Users\\Olivi\\OneDrive - TU Eindhoven\\Soft robotic matter\\data_analysis\"\n",
    "Location = r\"//sun/overvelde/group-folder/PROJECTS/Thermal_soft_robotics_Olivier/Git/Thermal_Soft_Robotics/Thermal_actuation/Experimental/Fluidic/Pressure_flow_plastic_bottle\"\n",
    "Foldernames = [\"/Data\"]\n",
    "\n",
    "data = FluidicSetupFunctions.LoadData(Foldernames = Foldernames,Location=Location)\n",
    "\n",
    "print(data[0][-1].head)"
   ]
  },
  {
   "cell_type": "code",
   "execution_count": 52,
   "metadata": {},
   "outputs": [
    {
     "ename": "KeyError",
     "evalue": "10000",
     "output_type": "error",
     "traceback": [
      "\u001b[1;31m---------------------------------------------------------------------------\u001b[0m",
      "\u001b[1;31mValueError\u001b[0m                                Traceback (most recent call last)",
      "File \u001b[1;32m~\\AppData\\Local\\Packages\\PythonSoftwareFoundation.Python.3.11_qbz5n2kfra8p0\\LocalCache\\local-packages\\Python311\\site-packages\\pandas\\core\\indexes\\range.py:414\u001b[0m, in \u001b[0;36mRangeIndex.get_loc\u001b[1;34m(self, key)\u001b[0m\n\u001b[0;32m    413\u001b[0m \u001b[39mtry\u001b[39;00m:\n\u001b[1;32m--> 414\u001b[0m     \u001b[39mreturn\u001b[39;00m \u001b[39mself\u001b[39;49m\u001b[39m.\u001b[39;49m_range\u001b[39m.\u001b[39;49mindex(new_key)\n\u001b[0;32m    415\u001b[0m \u001b[39mexcept\u001b[39;00m \u001b[39mValueError\u001b[39;00m \u001b[39mas\u001b[39;00m err:\n",
      "\u001b[1;31mValueError\u001b[0m: 10000 is not in range",
      "\nThe above exception was the direct cause of the following exception:\n",
      "\u001b[1;31mKeyError\u001b[0m                                  Traceback (most recent call last)",
      "\u001b[1;32mUntitled-1.ipynb Cell 3\u001b[0m line \u001b[0;36m5\n\u001b[0;32m      <a href='vscode-notebook-cell:Untitled-1.ipynb?jupyter-notebook#X10sdW50aXRsZWQ%3D?line=1'>2</a>\u001b[0m cutoff \u001b[39m=\u001b[39m\u001b[39m10\u001b[39m\n\u001b[0;32m      <a href='vscode-notebook-cell:Untitled-1.ipynb?jupyter-notebook#X10sdW50aXRsZWQ%3D?line=2'>3</a>\u001b[0m f\u001b[39m=\u001b[39mdata[\u001b[39m1\u001b[39m][\u001b[39m'\u001b[39m\u001b[39mSamplerate\u001b[39m\u001b[39m'\u001b[39m][i]\n\u001b[1;32m----> <a href='vscode-notebook-cell:Untitled-1.ipynb?jupyter-notebook#X10sdW50aXRsZWQ%3D?line=4'>5</a>\u001b[0m new_zero \u001b[39m=\u001b[39m data[\u001b[39m0\u001b[39;49m][i][\u001b[39m'\u001b[39;49m\u001b[39mTime\u001b[39;49m\u001b[39m'\u001b[39;49m][cutoff\u001b[39m*\u001b[39;49mf]\n\u001b[0;32m      <a href='vscode-notebook-cell:Untitled-1.ipynb?jupyter-notebook#X10sdW50aXRsZWQ%3D?line=5'>6</a>\u001b[0m data[\u001b[39m0\u001b[39m][i][\u001b[39m'\u001b[39m\u001b[39mTime\u001b[39m\u001b[39m'\u001b[39m]\u001b[39m=\u001b[39mdata[\u001b[39m0\u001b[39m][i][\u001b[39m'\u001b[39m\u001b[39mTime\u001b[39m\u001b[39m'\u001b[39m]\u001b[39m-\u001b[39mnew_zero\n\u001b[0;32m      <a href='vscode-notebook-cell:Untitled-1.ipynb?jupyter-notebook#X10sdW50aXRsZWQ%3D?line=6'>7</a>\u001b[0m data[\u001b[39m0\u001b[39m][i]\u001b[39m=\u001b[39mdata[\u001b[39m0\u001b[39m][i]\u001b[39m.\u001b[39miloc[cutoff\u001b[39m*\u001b[39mf:]\n",
      "File \u001b[1;32m~\\AppData\\Local\\Packages\\PythonSoftwareFoundation.Python.3.11_qbz5n2kfra8p0\\LocalCache\\local-packages\\Python311\\site-packages\\pandas\\core\\series.py:1040\u001b[0m, in \u001b[0;36mSeries.__getitem__\u001b[1;34m(self, key)\u001b[0m\n\u001b[0;32m   1037\u001b[0m     \u001b[39mreturn\u001b[39;00m \u001b[39mself\u001b[39m\u001b[39m.\u001b[39m_values[key]\n\u001b[0;32m   1039\u001b[0m \u001b[39melif\u001b[39;00m key_is_scalar:\n\u001b[1;32m-> 1040\u001b[0m     \u001b[39mreturn\u001b[39;00m \u001b[39mself\u001b[39;49m\u001b[39m.\u001b[39;49m_get_value(key)\n\u001b[0;32m   1042\u001b[0m \u001b[39m# Convert generator to list before going through hashable part\u001b[39;00m\n\u001b[0;32m   1043\u001b[0m \u001b[39m# (We will iterate through the generator there to check for slices)\u001b[39;00m\n\u001b[0;32m   1044\u001b[0m \u001b[39mif\u001b[39;00m is_iterator(key):\n",
      "File \u001b[1;32m~\\AppData\\Local\\Packages\\PythonSoftwareFoundation.Python.3.11_qbz5n2kfra8p0\\LocalCache\\local-packages\\Python311\\site-packages\\pandas\\core\\series.py:1156\u001b[0m, in \u001b[0;36mSeries._get_value\u001b[1;34m(self, label, takeable)\u001b[0m\n\u001b[0;32m   1153\u001b[0m     \u001b[39mreturn\u001b[39;00m \u001b[39mself\u001b[39m\u001b[39m.\u001b[39m_values[label]\n\u001b[0;32m   1155\u001b[0m \u001b[39m# Similar to Index.get_value, but we do not fall back to positional\u001b[39;00m\n\u001b[1;32m-> 1156\u001b[0m loc \u001b[39m=\u001b[39m \u001b[39mself\u001b[39;49m\u001b[39m.\u001b[39;49mindex\u001b[39m.\u001b[39;49mget_loc(label)\n\u001b[0;32m   1158\u001b[0m \u001b[39mif\u001b[39;00m is_integer(loc):\n\u001b[0;32m   1159\u001b[0m     \u001b[39mreturn\u001b[39;00m \u001b[39mself\u001b[39m\u001b[39m.\u001b[39m_values[loc]\n",
      "File \u001b[1;32m~\\AppData\\Local\\Packages\\PythonSoftwareFoundation.Python.3.11_qbz5n2kfra8p0\\LocalCache\\local-packages\\Python311\\site-packages\\pandas\\core\\indexes\\range.py:416\u001b[0m, in \u001b[0;36mRangeIndex.get_loc\u001b[1;34m(self, key)\u001b[0m\n\u001b[0;32m    414\u001b[0m         \u001b[39mreturn\u001b[39;00m \u001b[39mself\u001b[39m\u001b[39m.\u001b[39m_range\u001b[39m.\u001b[39mindex(new_key)\n\u001b[0;32m    415\u001b[0m     \u001b[39mexcept\u001b[39;00m \u001b[39mValueError\u001b[39;00m \u001b[39mas\u001b[39;00m err:\n\u001b[1;32m--> 416\u001b[0m         \u001b[39mraise\u001b[39;00m \u001b[39mKeyError\u001b[39;00m(key) \u001b[39mfrom\u001b[39;00m \u001b[39merr\u001b[39;00m\n\u001b[0;32m    417\u001b[0m \u001b[39mif\u001b[39;00m \u001b[39misinstance\u001b[39m(key, Hashable):\n\u001b[0;32m    418\u001b[0m     \u001b[39mraise\u001b[39;00m \u001b[39mKeyError\u001b[39;00m(key)\n",
      "\u001b[1;31mKeyError\u001b[0m: 10000"
     ]
    }
   ],
   "source": [
    "for i in range(len(data[0])):\n",
    "    cutoff =10\n",
    "    f=data[1]['Samplerate'][i]\n",
    "    \n",
    "    new_zero = data[0][i]['Time'][cutoff*f]\n",
    "    data[0][i]['Time']=data[0][i]['Time']-new_zero\n",
    "    data[0][i]=data[0][i].iloc[cutoff*f:]"
   ]
  },
  {
   "cell_type": "code",
   "execution_count": 51,
   "metadata": {},
   "outputs": [
    {
     "data": {
      "text/plain": [
       "{'Samplerate': [1000, 1000, 1000, 1000, 1000, 1000, 1000, 1000],\n",
       " 'Samplename': ['p10kpa',\n",
       "  'p30kpa',\n",
       "  'p50kpa',\n",
       "  'p80kpa',\n",
       "  'p100kpa',\n",
       "  'p2_25kpa',\n",
       "  'p5kpa',\n",
       "  'p8kpa'],\n",
       " 'Offset': [{'presFesto-0': 5.040482444444444,\n",
       "   'AWM20-12': 1.0205983333333335,\n",
       "   'SSCDP05-3': 2.5123115555555557},\n",
       "  {'presFesto-0': 5.0394526666666675,\n",
       "   'AWM20-12': 1.020833777777778,\n",
       "   'SSCDP05-3': 2.509509},\n",
       "  {'presFesto-0': 5.040506777777778,\n",
       "   'AWM20-12': 1.0207154444444446,\n",
       "   'SSCDP05-3': 2.5090715555555554},\n",
       "  {'presFesto-0': 5.039768222222222,\n",
       "   'AWM20-12': 1.0207822222222223,\n",
       "   'SSCDP05-3': 2.5083496666666667},\n",
       "  {'presFesto-0': 5.040312222222223,\n",
       "   'AWM20-12': 1.020766,\n",
       "   'SSCDP05-3': 2.510386666666667},\n",
       "  {'presFesto-0': 5.0387960000000005,\n",
       "   'AWM20-12': 1.0211664444444446,\n",
       "   'SSCDP05-3': 2.5086287777777776},\n",
       "  {'presFesto-0': 5.038554777777778,\n",
       "   'AWM20-12': 1.020697888888889,\n",
       "   'SSCDP05-3': 2.5076973333333337},\n",
       "  {'presFesto-0': 5.038341555555555,\n",
       "   'AWM20-12': 1.0204916666666666,\n",
       "   'SSCDP05-3': 2.509126333333333}]}"
      ]
     },
     "execution_count": 51,
     "metadata": {},
     "output_type": "execute_result"
    }
   ],
   "source": [
    "data[1]"
   ]
  },
  {
   "cell_type": "code",
   "execution_count": 33,
   "metadata": {},
   "outputs": [
    {
     "data": {
      "text/plain": [
       "[<matplotlib.lines.Line2D at 0x22d45689910>]"
      ]
     },
     "execution_count": 33,
     "metadata": {},
     "output_type": "execute_result"
    },
    {
     "data": {
      "image/png": "[encoded data removed]",
      "text/plain": [
       "<Figure size 330x250 with 1 Axes>"
      ]
     },
     "metadata": {},
     "output_type": "display_data"
    }
   ],
   "source": [
    "treshold=70\n",
    "difference=np.diff(data[0][0]['SSCDP05-3'])\n",
    "\n",
    "indices = np.where(difference < -treshold)\n",
    "\n",
    "sharp_decrease= data[0][0]['SSCDP05-3'][indices[0]]\n",
    "plt.plot(data[0][0]['Time'][:-indices[0][0]],data[0][0]['SSCDP05-3'][indices[0][0]:])"
   ]
  },
  {
   "cell_type": "code",
   "execution_count": 49,
   "metadata": {},
   "outputs": [
    {
     "name": "stdout",
     "output_type": "stream",
     "text": [
      "71\n",
      "292\n",
      "1540\n",
      "12919\n",
      "2030\n",
      "115\n",
      "90\n",
      "100\n"
     ]
    },
    {
     "data": {
      "text/plain": [
       "<matplotlib.legend.Legend at 0x22d4a0e27d0>"
      ]
     },
     "execution_count": 49,
     "metadata": {},
     "output_type": "execute_result"
    },
    {
     "data": {
      "image/png": "[encoded data removed]",
      "text/plain": [
       "<Figure size 330x250 with 1 Axes>"
      ]
     },
     "metadata": {},
     "output_type": "display_data"
    }
   ],
   "source": [
    "data[0][0]['SSCDP05-3']\n",
    "for i in range(len(data[0])):\n",
    "    treshold=100\n",
    "    difference=np.diff(data[0][i]['SSCDP05-3'])\n",
    "    indices = np.argmax(difference)\n",
    "    print(indices)\n",
    "\n",
    "    plt.plot(data[0][i]['Time'][:-indices],data[0][i]['SSCDP05-3'][indices:],label=data[1]['Samplename'][i])\n",
    "    #plt.plot(data[0][i]['Time'],data[0][i]['SSCDP05-3'],label = data[1]['Samplename'][i])\n",
    "\n",
    "plt.legend()"
   ]
  },
  {
   "cell_type": "code",
   "execution_count": 41,
   "metadata": {},
   "outputs": [
    {
     "data": {
      "text/plain": [
       "12.17725972540029"
      ]
     },
     "execution_count": 41,
     "metadata": {},
     "output_type": "execute_result"
    }
   ],
   "source": [
    "np.max(difference)"
   ]
  }
 ],
 "metadata": {
  "kernelspec": {
   "display_name": "Python 3",
   "language": "python",
   "name": "python3"
  },
  "language_info": {
   "codemirror_mode": {
    "name": "ipython",
    "version": 3
   },
   "file_extension": ".py",
   "mimetype": "text/x-python",
   "name": "python",
   "nbconvert_exporter": "python",
   "pygments_lexer": "ipython3",
   "version": "3.11.6"
  }
 },
 "nbformat": 4,
 "nbformat_minor": 2
}
