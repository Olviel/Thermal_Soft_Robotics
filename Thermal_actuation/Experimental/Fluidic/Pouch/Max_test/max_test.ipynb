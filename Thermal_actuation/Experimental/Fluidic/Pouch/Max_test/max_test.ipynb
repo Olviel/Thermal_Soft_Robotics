{
 "cells": [
  {
   "cell_type": "code",
   "execution_count": 6,
   "metadata": {},
   "outputs": [],
   "source": [
    "import pandas as pd\n",
    "\n",
    "import numpy as np\n",
    "import seaborn as sns\n",
    "import matplotlib.pyplot as plt\n",
    "import math\n",
    "import scienceplots\n",
    "plt.style.use(['science','nature','no-latex','vibrant'])\n",
    "plt.rcParams.update({\n",
    "    \"font.family\": \"Arial\",   # specify font family here\n",
    "    \"font.serif\": [\"sans-serif\"],  # specify font here\n",
    "    \"font.size\":11})          # specify font size here\n",
    "from scipy import constants\n",
    "import re\n",
    "\n",
    "#Import personal functions\n",
    "import sys\n",
    "#sys.path.append(\"C:/Users\\Olivi\\OneDrive - TU Eindhoven\\Soft robotic matter\\GitHub\\Thermal_Soft_Robotics\\Functions\")\n",
    "#sys.path.append(\"//sun/overvelde/group-folder/PROJECTS/Thermal_soft_robotics_Olivier/Git/Thermal_Soft_Robotics/Functions\")\n",
    "sys.path.append(\"C:/Users/Olivi/Documents/Git/SoRoMa/Thermal_Soft_Robotics_data/Functions\")\n",
    "\n",
    "import FluidicSetupFunctions\n",
    "from save_plot_func import save_plot"
   ]
  },
  {
   "cell_type": "code",
   "execution_count": 2,
   "metadata": {},
   "outputs": [
    {
     "name": "stdout",
     "output_type": "stream",
     "text": [
      "Loading... Folder 1 of 1, Sample 1 of 3\n",
      "Loading... Folder 1 of 1, Sample 2 of 3\n",
      "Loading... Folder 1 of 1, Sample 3 of 3\n"
     ]
    }
   ],
   "source": [
    "#Location = r\"\\\\sun\\overvelde\\group-folder\\PROJECTS\\Thermal_soft_robotics_Olivier\\Git\\Thermal_Soft_Robotics\\Thermal_actuation\\Experimental\\Fluidic\\Pouch\\Data\\Max_test\"\n",
    "Location = r\"C:\\Users\\Olivi\\Documents\\Git\\SoRoMa\\Thermal_soft_robotics_data\\Thermal_actuation\\Experimental\\Fluidic\\Pouch\\Data\\Max_test\"\n",
    "\n",
    "Foldernames = [\"//Data\"]\n",
    "\n",
    "data = FluidicSetupFunctions.LoadData(Foldernames = Foldernames,Location=Location)"
   ]
  },
  {
   "cell_type": "code",
   "execution_count": 3,
   "metadata": {},
   "outputs": [
    {
     "data": {
      "text/plain": [
       "'100x200'"
      ]
     },
     "execution_count": 3,
     "metadata": {},
     "output_type": "execute_result"
    }
   ],
   "source": [
    "data[1]['Samplename'][0]"
   ]
  },
  {
   "cell_type": "code",
   "execution_count": 4,
   "metadata": {},
   "outputs": [
    {
     "data": {
      "text/plain": [
       "<matplotlib.legend.Legend at 0x21ce4a67050>"
      ]
     },
     "execution_count": 4,
     "metadata": {},
     "output_type": "execute_result"
    },
    {
     "data": {
      "image/png": "[encoded data removed]",
      "text/plain": [
       "<Figure size 330x250 with 1 Axes>"
      ]
     },
     "metadata": {},
     "output_type": "display_data"
    }
   ],
   "source": [
    "max_P = []\n",
    "labels = []\n",
    "width = [] \n",
    "\n",
    "for i, df in enumerate(data[0]):\n",
    "    t = data[0][i]['Time']/60\n",
    "    P = data[0][i]['MPX700-11']/1000\n",
    "    label = data[1]['Samplename'][i]\n",
    "    width.append(int(label.split('x')[1])) \n",
    "    max_P.append(max(P))\n",
    "    labels.append(label)\n",
    "    plt.plot(t,P,label=label)\n",
    "\n",
    "plt.legend(title='Pouch size [mm]')"
   ]
  },
  {
   "cell_type": "code",
   "execution_count": 11,
   "metadata": {},
   "outputs": [
    {
     "data": {
      "image/png": "[encoded data removed]",
      "text/plain": [
       "<Figure size 300x300 with 1 Axes>"
      ]
     },
     "metadata": {},
     "output_type": "display_data"
    }
   ],
   "source": [
    "plt.figure(figsize = (3,3))\n",
    "plt.plot(width,max_P,marker='o',linestyle='none',color='k')\n",
    "plt.ylabel('Pressure [kPa]')\n",
    "plt.xlabel('Width [mm]')\n",
    "plt.ylim(0,250)\n",
    "plt.xlim(0,250)\n",
    "#plt.title('Exploding pressure for fixed L = 100 [mm] and varying width')\n",
    "#plt.savefig('max_pressure_pouch.png',dpi=300,bbox_inches='tight')\n"
   ]
  }
 ],
 "metadata": {
  "kernelspec": {
   "display_name": "Python 3",
   "language": "python",
   "name": "python3"
  },
  "language_info": {
   "codemirror_mode": {
    "name": "ipython",
    "version": 3
   },
   "file_extension": ".py",
   "mimetype": "text/x-python",
   "name": "python",
   "nbconvert_exporter": "python",
   "pygments_lexer": "ipython3",
   "version": "3.11.4"
  }
 },
 "nbformat": 4,
 "nbformat_minor": 2
}
