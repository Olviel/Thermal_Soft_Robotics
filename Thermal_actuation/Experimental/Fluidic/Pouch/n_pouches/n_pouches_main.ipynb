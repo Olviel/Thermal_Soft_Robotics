{
 "cells": [
  {
   "cell_type": "code",
   "execution_count": 3,
   "metadata": {},
   "outputs": [],
   "source": [
    "import pandas as pd\n",
    "\n",
    "import numpy as np\n",
    "import seaborn as sns\n",
    "import matplotlib.pyplot as plt\n",
    "import math\n",
    "import scienceplots\n",
    "plt.style.use(['science','nature','no-latex','vibrant'])\n",
    "from scipy import constants\n",
    "\n",
    "#Import personal functions\n",
    "import sys\n",
    "#sys.path.append(\"C:/Users\\Olivi\\OneDrive - TU Eindhoven\\Soft robotic matter\\GitHub\\Thermal_Soft_Robotics\\Functions\")\n",
    "#sys.path.append(\"//sun/overvelde/group-folder/PROJECTS/Thermal_soft_robotics_Olivier/Git/Thermal_Soft_Robotics/Functions\")\n",
    "sys.path.append(\"C:/Users/Olivi/Documents/Git/SoRoMa/Thermal_soft_robotics_data/Functions\")\n",
    "import FluidicSetupFunctions\n",
    "from save_plot_func import save_plot"
   ]
  },
  {
   "cell_type": "code",
   "execution_count": 5,
   "metadata": {},
   "outputs": [
    {
     "name": "stdout",
     "output_type": "stream",
     "text": [
      "Loading... Folder 1 of 1, Sample 1 of 2\n",
      "Loading... Folder 1 of 1, Sample 2 of 2\n"
     ]
    }
   ],
   "source": [
    "#Location = r\"\\\\sun\\overvelde\\group-folder\\PROJECTS\\Thermal_soft_robotics_Olivier\\Git\\Thermal_Soft_Robotics\\Thermal_actuation\\Experimental\\Fluidic\\Pouch\\Data\\n_pouches\"\n",
    "Location = r\"C:\\Users\\Olivi\\Documents\\Git\\SoRoMa\\Thermal_soft_robotics_data\\Thermal_actuation\\Experimental\\Fluidic\\Pouch\\n_pouches\"\n",
    "\n",
    "Foldernames = [\"//Data\"]\n",
    "\n",
    "data = FluidicSetupFunctions.LoadData(Foldernames = Foldernames,Location=Location)"
   ]
  },
  {
   "cell_type": "code",
   "execution_count": 10,
   "metadata": {},
   "outputs": [
    {
     "data": {
      "text/plain": [
       "['05L_1740mg_novec', '05L_n2_ai2_n3_ai4']"
      ]
     },
     "execution_count": 10,
     "metadata": {},
     "output_type": "execute_result"
    }
   ],
   "source": [
    "data[1]['Samplename']"
   ]
  },
  {
   "cell_type": "code",
   "execution_count": 10,
   "metadata": {},
   "outputs": [
    {
     "data": {
      "image/png": "[encoded data removed]",
      "text/plain": [
       "<Figure size 192.913x192.913 with 1 Axes>"
      ]
     },
     "metadata": {},
     "output_type": "display_data"
    }
   ],
   "source": [
    "cm = 1/2.54\n",
    "w = 4.9*cm\n",
    "plt.figure(figsize=(w,w))\n",
    "for i, df in enumerate(data[0]):\n",
    "    t = data[0][i]['Time']/60\n",
    "\n",
    "    if 'SSCDP15-4' in df.columns:\n",
    "        P = data[0][i]['SSCDP15-4']/1000\n",
    "        \n",
    "        if i ==1:\n",
    "            label = '3'\n",
    "        else:\n",
    "            label = '1'\n",
    "        plt.plot(t,P, label= label)\n",
    "\n",
    "    if 'SSCDP30-2' in df.columns:\n",
    "        P = data[0][i]['SSCDP30-2']/1000\n",
    "        label =  '2'\n",
    "        plt.plot(t,P, label= label)\n",
    "\n",
    "    #if i ==1:\n",
    "        #break \n",
    "\n",
    "plt.ylabel('Pressure (kPa)')\n",
    "plt.xlabel('Time (min)')\n",
    "\n",
    "# Collect handles and labels\n",
    "handles, labels = plt.gca().get_legend_handles_labels()\n",
    "\n",
    "# Sort them by labels (alphabetically)\n",
    "sorted_handles_labels = sorted(zip(handles, labels), key=lambda x: x[1])\n",
    "sorted_handles, sorted_labels = zip(*sorted_handles_labels)\n",
    "\n",
    "# Create the legend with sorted handles and labels\n",
    "plt.legend(sorted_handles, sorted_labels,title='Number of pouches')\n",
    "\n",
    "plt.savefig('figures/n_pouches.svg',dpi=300)\n"
   ]
  },
  {
   "cell_type": "code",
   "execution_count": 7,
   "metadata": {},
   "outputs": [
    {
     "data": {
      "text/plain": [
       "range(0, 2)"
      ]
     },
     "execution_count": 7,
     "metadata": {},
     "output_type": "execute_result"
    }
   ],
   "source": [
    "range(len(data[0]))"
   ]
  }
 ],
 "metadata": {
  "kernelspec": {
   "display_name": "Python 3",
   "language": "python",
   "name": "python3"
  },
  "language_info": {
   "codemirror_mode": {
    "name": "ipython",
    "version": 3
   },
   "file_extension": ".py",
   "mimetype": "text/x-python",
   "name": "python",
   "nbconvert_exporter": "python",
   "pygments_lexer": "ipython3",
   "version": "3.11.4"
  }
 },
 "nbformat": 4,
 "nbformat_minor": 2
}
