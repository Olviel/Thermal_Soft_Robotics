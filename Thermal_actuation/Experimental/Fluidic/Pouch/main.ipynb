{
 "cells": [
  {
   "cell_type": "code",
   "execution_count": 13,
   "metadata": {},
   "outputs": [],
   "source": [
    "import pandas as pd\n",
    "\n",
    "import numpy as np\n",
    "import seaborn as sns\n",
    "import matplotlib.pyplot as plt\n",
    "import math\n",
    "import scienceplots\n",
    "plt.style.use(['science','nature','no-latex','vibrant'])\n",
    "\n",
    "#Import personal functions\n",
    "import sys\n",
    "#sys.path.append(\"C:/Users/Olivi/OneDrive - TU Eindhoven/Soft robotic matter/GitHub/Thermal_Soft_Robotics/Functions\")\n",
    "sys.path.append(\"//sun/overvelde/group-folder/PROJECTS/Thermal_soft_robotics_Olivier/Git/Thermal_Soft_Robotics/Functions\")\n",
    "import FluidicSetupFunctions\n",
    "from save_plot_func import save_plot"
   ]
  },
  {
   "cell_type": "code",
   "execution_count": 16,
   "metadata": {},
   "outputs": [
    {
     "name": "stdout",
     "output_type": "stream",
     "text": [
      "Loading... Folder 1 of 1, Sample 1 of 5\n",
      "Loading... Folder 1 of 1, Sample 2 of 5\n",
      "Loading... Folder 1 of 1, Sample 3 of 5\n",
      "Loading... Folder 1 of 1, Sample 4 of 5\n",
      "Loading... Folder 1 of 1, Sample 5 of 5\n"
     ]
    }
   ],
   "source": [
    "Location = r\"\\\\sun\\overvelde\\group-folder\\PROJECTS\\Thermal_soft_robotics_Olivier\\Git\\Thermal_Soft_Robotics\\Thermal_actuation\\Experimental\\Fluidic\\Pouch\"\n",
    "Foldernames = [\"//Data\"]\n",
    "\n",
    "data = FluidicSetupFunctions.LoadData(Foldernames = Foldernames,Location=Location)"
   ]
  },
  {
   "cell_type": "code",
   "execution_count": 38,
   "metadata": {},
   "outputs": [
    {
     "data": {
      "image/png": "[encoded data removed]",
      "text/plain": [
       "<Figure size 330x250 with 1 Axes>"
      ]
     },
     "metadata": {},
     "output_type": "display_data"
    }
   ],
   "source": [
    "import numpy as np\n",
    "import matplotlib.pyplot as plt\n",
    "\n",
    "# Your data\n",
    "P = np.array(data[0][-1]['SSCDP05-3'])  # Pressure data in Pa\n",
    "Q = np.array(data[0][-1]['AWM5-12'])   # Flow rate data in SLPM\n",
    "\n",
    "# Sampling frequency is 1000 Hz, so time interval is 0.001 seconds\n",
    "sampling_frequency = 1000  # Hz\n",
    "time_interval = 1 / sampling_frequency  # seconds\n",
    "\n",
    "# Convert SLPM to liters per time interval (1 SLPM = 1/60 L/s)\n",
    "Q_lps = Q / 60  # Liters per second\n",
    "Q_per_interval = Q_lps * time_interval  # Liters per 0.001 seconds\n",
    "\n",
    "# Time array\n",
    "time = np.arange(len(Q)) * time_interval\n",
    "\n",
    "# Numerical integration (cumulative sum) to get Volume in liters\n",
    "Volume = np.cumsum(Q_per_interval)\n",
    "\n",
    "# Convert P to kilopascals if necessary\n",
    "Pressure = P / 1000\n",
    "\n",
    "# Plotting Pressure-Volume curve\n",
    "plt.plot(Pressure, Volume)\n",
    "plt.xlabel('Volume (Liters)')\n",
    "plt.ylabel('Pressure (kPa)')\n",
    "plt.title('Pressure-Volume Curve')\n",
    "plt.xlim(None,1)\n",
    "plt.ylim(-0.1,0.1)\n",
    "plt.show()\n"
   ]
  },
  {
   "cell_type": "code",
   "execution_count": 49,
   "metadata": {},
   "outputs": [
    {
     "data": {
      "text/plain": [
       "array([0.18453219])"
      ]
     },
     "execution_count": 49,
     "metadata": {},
     "output_type": "execute_result"
    }
   ],
   "source": [
    "# Determine volume by finding where the pressure is higher than 0\n",
    "Volume[np.argwhere(Pressure>1e-1)][0]*1000"
   ]
  }
 ],
 "metadata": {
  "kernelspec": {
   "display_name": "Python 3",
   "language": "python",
   "name": "python3"
  },
  "language_info": {
   "codemirror_mode": {
    "name": "ipython",
    "version": 3
   },
   "file_extension": ".py",
   "mimetype": "text/x-python",
   "name": "python",
   "nbconvert_exporter": "python",
   "pygments_lexer": "ipython3",
   "version": "3.11.7"
  }
 },
 "nbformat": 4,
 "nbformat_minor": 2
}
