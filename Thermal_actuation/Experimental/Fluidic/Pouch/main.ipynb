{
 "cells": [
  {
   "cell_type": "code",
   "execution_count": 55,
   "metadata": {},
   "outputs": [],
   "source": [
    "import pandas as pd\n",
    "\n",
    "import numpy as np\n",
    "import seaborn as sns\n",
    "import matplotlib.pyplot as plt\n",
    "import math\n",
    "import scienceplots\n",
    "plt.style.use(['science','nature','no-latex','vibrant'])\n",
    "from scipy import constants\n",
    "\n",
    "#Import personal functions\n",
    "import sys\n",
    "#sys.path.append(\"C:/Users/Olivi/OneDrive - TU Eindhoven/Soft robotic matter/GitHub/Thermal_Soft_Robotics/Functions\")\n",
    "sys.path.append(\"//sun/overvelde/group-folder/PROJECTS/Thermal_soft_robotics_Olivier/Git/Thermal_Soft_Robotics/Functions\")\n",
    "import FluidicSetupFunctions\n",
    "from save_plot_func import save_plot"
   ]
  },
  {
   "cell_type": "code",
   "execution_count": 16,
   "metadata": {},
   "outputs": [
    {
     "name": "stdout",
     "output_type": "stream",
     "text": [
      "Loading... Folder 1 of 1, Sample 1 of 5\n",
      "Loading... Folder 1 of 1, Sample 2 of 5\n",
      "Loading... Folder 1 of 1, Sample 3 of 5\n",
      "Loading... Folder 1 of 1, Sample 4 of 5\n",
      "Loading... Folder 1 of 1, Sample 5 of 5\n"
     ]
    }
   ],
   "source": [
    "Location = r\"\\\\sun\\overvelde\\group-folder\\PROJECTS\\Thermal_soft_robotics_Olivier\\Git\\Thermal_Soft_Robotics\\Thermal_actuation\\Experimental\\Fluidic\\Pouch\"\n",
    "Foldernames = [\"//Data\"]\n",
    "\n",
    "data = FluidicSetupFunctions.LoadData(Foldernames = Foldernames,Location=Location)"
   ]
  },
  {
   "cell_type": "code",
   "execution_count": 50,
   "metadata": {},
   "outputs": [
    {
     "data": {
      "image/png": "[encoded data removed]",
      "text/plain": [
       "<Figure size 330x250 with 1 Axes>"
      ]
     },
     "metadata": {},
     "output_type": "display_data"
    }
   ],
   "source": [
    "import numpy as np\n",
    "import matplotlib.pyplot as plt\n",
    "\n",
    "# Your data\n",
    "P = np.array(data[0][-1]['SSCDP05-3'])  # Pressure data in Pa\n",
    "Q = np.array(data[0][-1]['AWM5-12'])   # Flow rate data in SLPM\n",
    "\n",
    "# Sampling frequency is 1000 Hz, so time interval is 0.001 seconds\n",
    "sampling_frequency = 1000  # Hz\n",
    "time_interval = 1 / sampling_frequency  # seconds\n",
    "\n",
    "# Convert SLPM to liters per time interval (1 SLPM = 1/60 L/s)\n",
    "Q_lps = Q / 60  # Liters per second\n",
    "Q_per_interval = Q_lps * time_interval  # Liters per 0.001 seconds\n",
    "\n",
    "# Time array\n",
    "time = np.arange(len(Q)) * time_interval\n",
    "\n",
    "# Numerical integration (cumulative sum) to get Volume in liters\n",
    "Volume = np.cumsum(Q_per_interval)\n",
    "\n",
    "# Convert P to kilopascals if necessary\n",
    "Pressure = P / 1000\n",
    "\n",
    "# Plotting Pressure-Volume curve\n",
    "plt.plot(Pressure, Volume)\n",
    "plt.xlabel('Volume ($L$)')\n",
    "plt.ylabel('Pressure ($kPa$)')\n",
    "plt.title('Pressure-Volume Curve')\n",
    "plt.xlim(None,1)\n",
    "plt.ylim(-0.1,0.1)\n",
    "plt.show()\n"
   ]
  },
  {
   "cell_type": "code",
   "execution_count": 49,
   "metadata": {},
   "outputs": [
    {
     "data": {
      "text/plain": [
       "array([0.18453219])"
      ]
     },
     "execution_count": 49,
     "metadata": {},
     "output_type": "execute_result"
    }
   ],
   "source": [
    "# Determine volume by finding where the pressure is higher than 0\n",
    "Volume[np.argwhere(Pressure>1e-1)][0]*1000 #L "
   ]
  },
  {
   "cell_type": "code",
   "execution_count": 61,
   "metadata": {},
   "outputs": [
    {
     "data": {
      "text/plain": [
       "3.214133866782886"
      ]
     },
     "execution_count": 61,
     "metadata": {},
     "output_type": "execute_result"
    }
   ],
   "source": [
    "# Pressure generation \n",
    "# 0 = volume of fixed container\n",
    "# v1 = volume of compressed air \n",
    "# p1 = desired pressure \n",
    "#Goal n_novec for given pressure \n",
    "p1 = 50e3\n",
    "P_amb = 1e5\n",
    "V_bottle = 1e-3\n",
    "rho_air = 1.204 # kg/m3 @ P_amb and 20 deg \n",
    "M_air = 28.9647e-3 # kg/mol\n",
    "n_air = rho_air*V_bottle/M_air \n",
    "n_air\n",
    "\n",
    "R = constants.R\n",
    "\n",
    "T_amb = 40+273\n",
    "\n",
    "v1= n_air*R*T_amb/(p1+P_amb)\n",
    "v1\n",
    "\n",
    "V_novec = V_bottle-v1\n",
    "n_novec = (p1+P_amb)*V_novec/(R*T_amb)\n",
    "\n",
    "# Vapor mass \n",
    "M = 200 # g/mol\n",
    "m_novec = M*n_novec\n",
    "m_novec\n"
   ]
  }
 ],
 "metadata": {
  "kernelspec": {
   "display_name": "Python 3",
   "language": "python",
   "name": "python3"
  },
  "language_info": {
   "codemirror_mode": {
    "name": "ipython",
    "version": 3
   },
   "file_extension": ".py",
   "mimetype": "text/x-python",
   "name": "python",
   "nbconvert_exporter": "python",
   "pygments_lexer": "ipython3",
   "version": "3.11.7"
  }
 },
 "nbformat": 4,
 "nbformat_minor": 2
}
