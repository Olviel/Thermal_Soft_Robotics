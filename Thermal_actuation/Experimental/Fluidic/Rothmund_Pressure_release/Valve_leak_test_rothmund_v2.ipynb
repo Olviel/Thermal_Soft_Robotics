{
 "cells": [
  {
   "cell_type": "code",
   "execution_count": 1,
   "metadata": {},
   "outputs": [],
   "source": [
    "import pandas as pd\n",
    "import matplotlib.pyplot as plt\n",
    "import matplotlib.cm as cm # Colormap for time\n",
    "import numpy as np\n",
    "from datetime import datetime\n",
    "import os\n",
    "\n",
    "\n",
    "\n",
    "#Import personal functions\n",
    "import sys\n",
    "#sys.path.append(\"C:/Users/Olivi/OneDrive - TU Eindhoven/Soft robotic matter/GitHub/Thermal_Soft_Robotics/Functions\")\n",
    "sys.path.append(\"//sun/overvelde/group-folder/PROJECTS/Thermal_soft_robotics_Olivier/Git/Thermal_Soft_Robotics/Functions\")\n",
    "import FluidicSetupFunctions\n",
    "from save_plot_func import save_plot\n"
   ]
  },
  {
   "cell_type": "code",
   "execution_count": 2,
   "metadata": {},
   "outputs": [
    {
     "name": "stdout",
     "output_type": "stream",
     "text": [
      "Loading... Folder 1 of 1, Sample 1 of 2\n",
      "Loading... Folder 1 of 1, Sample 2 of 2\n"
     ]
    }
   ],
   "source": [
    "#Location = r\"C:\\Users\\Olivi\\OneDrive - TU Eindhoven\\Soft robotic matter\\data_analysis\"\n",
    "Location = r\"//sun/overvelde/group-folder/PROJECTS/Thermal_soft_robotics_Olivier/Git/Thermal_Soft_Robotics/Thermal_actuation/Experimental/Fluidic/Rothmund_Pressure_release\"\n",
    "\n",
    "#Location = r\"C:\\\\Users\\Olivi\\OneDrive - TU Eindhoven\\Soft robotic matter\\GitHub\\Thermal_Soft_Robotics\\Thermal_actuation\\Experimental\\Fluidic\\Membrane_valve_leak_test\"\n",
    "Foldernames = [\"/Data/v2\"]\n",
    "\n",
    "data = FluidicSetupFunctions.LoadData(Foldernames = Foldernames,Location=Location)"
   ]
  },
  {
   "cell_type": "code",
   "execution_count": null,
   "metadata": {},
   "outputs": [],
   "source": [
    "data[0][0]"
   ]
  },
  {
   "cell_type": "code",
   "execution_count": null,
   "metadata": {},
   "outputs": [],
   "source": [
    "#Plot the profiles over time\n",
    "#k =0\n",
    "for i, df in enumerate(data[0]):\n",
    "    flow = data[0][i]['AWM5-5'].values #SLPM\n",
    "    time = data[0][i]['Time']\n",
    "    P_setpoint = data[0][i]['presFesto-1'].values\n",
    "    # Check which sensor data is available in the DataFrame columns\n",
    "    if 'SSCDP15-3' in df.columns:\n",
    "        P = df['SSCDP15-3'].values\n",
    "        #label = len(df['SSCDP15-3'].values)/1000 #'SSCDP15-3'\n",
    "    elif 'MPX100-3' in df.columns:\n",
    "        P = df['MPX100-3'].values\n",
    "        #label = len(df['MPX100-3'].values)/1000 #'SSCDP15-3'\n",
    "    elif 'MPX700-2' in df.columns:\n",
    "        P = df['MPX700-2'].values\n",
    "        #label = len(df['MPX700-2'].values)/1000#'MPX700-2'\n",
    "    elif 'SSCDP05-3' in df.columns:\n",
    "        P = df['SSCDP05-3'].values\n",
    "    #label = len(df['MPX700-2'].values)/1000#'MPX700-2'\n",
    "    else:\n",
    "        print(f\"Skipping experiment {i+1}: No recognizable sensor data.\")\n",
    "        # Skip this iteration and move to the next experiment\n",
    "        \n",
    "    break\n",
    "\n",
    "plt.plot(time,flow, label = 'Flow')\n",
    "plt.plot(time,P/1000, label = \"Pressure\")\n",
    "plt.plot(time, P_setpoint)\n",
    "plt.plot(time,data[0][i]['presFesto-1']*100,label =\"P setpoint\")\n",
    "plt.legend()\n",
    "plt.xlabel('Time [s]')\n",
    "#plt.ylim(-0.1,0.1)\n",
    "plt.grid()"
   ]
  },
  {
   "cell_type": "code",
   "execution_count": null,
   "metadata": {},
   "outputs": [],
   "source": [
    "plt.figure()  # Create a new figure for each experiment\n",
    "for i, df in enumerate(data[0]):\n",
    "    \n",
    "    # Check which sensor data is available in the DataFrame columns\n",
    "    if 'SSCDP15-3' in df.columns:\n",
    "        P = df['SSCDP15-3'].values\n",
    "        #label = len(df['SSCDP15-3'].values)/1000 #'SSCDP15-3'\n",
    "    elif 'MPX100-3' in df.columns:\n",
    "        P = df['MPX100-3'].values\n",
    "        #label = len(df['MPX100-3'].values)/1000 #'SSCDP15-3'\n",
    "    elif 'MPX700-2' in df.columns:\n",
    "        P = df['MPX700-2'].values\n",
    "        #label = len(df['MPX700-2'].values)/1000#'MPX700-2'\n",
    "    elif 'SSCDP05-3' in df.columns:\n",
    "        P = df['SSCDP05-3'].values\n",
    "    #label = len(df['MPX700-2'].values)/1000#'MPX700-2'\n",
    "    else:\n",
    "        print(f\"Skipping experiment {i+1}: No recognizable sensor data.\")\n",
    "        continue  # Skip this iteration and move to the next experiment\n",
    "        \n",
    "    # Assuming Time is common in all DataFrames and is in a column named 'Time'\n",
    "    #Time = df['Time'].values\n",
    "    flow = data[0][i]['AWM5-5'].values #SLPM\n",
    "\n",
    "    plt.scatter( P/1000,flow, label=data[1]['Samplename'][i][5:],marker='.', linewidth=0.000001)\n",
    "    plt.xlabel('Pressure [$kPa$]')\n",
    "    plt.ylabel('Flow [$SLPM$]')\n",
    "    plt.legend(loc='upper left')\n",
    "    #plt.title(f'Experiment {i+1}')\n",
    "  \n",
    "#plt.xlim(0,8) \n",
    "plt.grid()\n",
    "#plt.xlim(0,5)\n",
    "plt.show() "
   ]
  },
  {
   "cell_type": "code",
   "execution_count": null,
   "metadata": {},
   "outputs": [],
   "source": [
    "# \n",
    "start = 0\n",
    "run_count = 1  # Counter for run number\n",
    "while start < len(data[0][0]['DigOut-1']):\n",
    "    start = np.argmax(data[0][0]['DigOut-1'][start:] == 1) + start  # Correcting index for slicing\n",
    "    end = np.argmax(data[0][0]['DigOut-1'][start:] == 0) + start  # Correcting index for slicing\n",
    "    \n",
    "    if end <= start:  # Break if no more valid segments are found\n",
    "        break\n",
    "\n",
    "    # Uncomment to plot the data\n",
    "    plt.figure()\n",
    "    plt.title(f\"Run {run_count}\")\n",
    "    plt.plot(data[0][0]['DigOut-1'][start:end], label='digiout')\n",
    "    plt.plot(time[start:end], flow[start:end], label='Flow')\n",
    "    plt.plot(time[start:end], P[start:end] / 1000, label='Pressure')\n",
    "    plt.legend()\n",
    "    plt.show()\n",
    "    \n",
    "    print(start, end)\n",
    "    \n",
    "    start = end + 5  # Move to next segment\n",
    "    run_count += 1  # Increment run counter\n"
   ]
  },
  {
   "cell_type": "markdown",
   "metadata": {},
   "source": [
    "# Create a colormap\n",
    "colormap = cm.get_cmap('viridis')\n",
    "\n",
    "# Normalize the time variable to fit the colormap scale\n",
    "norm_time = (time - time.min()) / (time.max() - time.min())\n",
    "\n",
    "# Loop through and plot each segment with corresponding color\n",
    "for i in range(len(time) - 1):\n",
    "    plt.scatter(P[i:i+10]/1000, flow[i:i+10], color=colormap(norm_time[i]))\n",
    "\n",
    "# Add a colorbar to represent the time variable\n",
    "sm = cm.ScalarMappable(cmap=colormap, norm=plt.Normalize(vmin=time.min(), vmax=time.max()))\n",
    "sm.set_array([])\n",
    "plt.colorbar(sm, label='Time [s]')\n",
    "\n",
    "plt.xlabel('Pressure [kPa]')\n",
    "plt.ylabel('Flow [SLPM]')\n",
    "plt.title('Pressure vs Flow Colored by Time')\n",
    "#plt.xlim(5,7)\n",
    "#plt.ylim(-0.25, 1)\n",
    "\n",
    "\n",
    "save_plot('Pressure_vs_flow')\n"
   ]
  }
 ],
 "metadata": {
  "kernelspec": {
   "display_name": "base",
   "language": "python",
   "name": "python3"
  },
  "language_info": {
   "codemirror_mode": {
    "name": "ipython",
    "version": 3
   },
   "file_extension": ".py",
   "mimetype": "text/x-python",
   "name": "python",
   "nbconvert_exporter": "python",
   "pygments_lexer": "ipython3",
   "version": "3.11.6"
  },
  "orig_nbformat": 4
 },
 "nbformat": 4,
 "nbformat_minor": 2
}
