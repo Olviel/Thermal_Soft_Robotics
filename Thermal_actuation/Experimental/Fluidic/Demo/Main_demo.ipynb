{
 "cells": [
  {
   "cell_type": "code",
   "execution_count": 3,
   "metadata": {},
   "outputs": [],
   "source": [
    "import pandas as pd\n",
    "\n",
    "import numpy as np\n",
    "import seaborn as sns\n",
    "import matplotlib.pyplot as plt\n",
    "import math\n",
    "import scienceplots\n",
    "plt.style.use(['science','nature','no-latex','vibrant'])\n",
    "from scipy import constants\n",
    "\n",
    "#Import personal functions\n",
    "import sys\n",
    "#sys.path.append(\"C:/Users\\Olivi\\OneDrive - TU Eindhoven\\Soft robotic matter\\GitHub\\Thermal_Soft_Robotics\\Functions\")\n",
    "sys.path.append(\"//sun/overvelde/group-folder/PROJECTS/Thermal_soft_robotics_Olivier/Git/Thermal_Soft_Robotics/Functions\")\n",
    "import FluidicSetupFunctions\n",
    "from save_plot_func import save_plot"
   ]
  },
  {
   "cell_type": "code",
   "execution_count": 10,
   "metadata": {},
   "outputs": [
    {
     "name": "stdout",
     "output_type": "stream",
     "text": [
      "Loading... Folder 1 of 1, Sample 1 of 9\n",
      "Loading... Folder 1 of 1, Sample 2 of 9\n",
      "Loading... Folder 1 of 1, Sample 3 of 9\n",
      "Loading... Folder 1 of 1, Sample 4 of 9\n",
      "Loading... Folder 1 of 1, Sample 5 of 9\n",
      "Loading... Folder 1 of 1, Sample 6 of 9\n",
      "Loading... Folder 1 of 1, Sample 7 of 9\n"
     ]
    },
    {
     "ename": "ValueError",
     "evalue": "If mode is 'interp', window_length must be less than or equal to the size of x.",
     "output_type": "error",
     "traceback": [
      "\u001b[1;31m---------------------------------------------------------------------------\u001b[0m",
      "\u001b[1;31mValueError\u001b[0m                                Traceback (most recent call last)",
      "Cell \u001b[1;32mIn[10], line 4\u001b[0m\n\u001b[0;32m      1\u001b[0m Location \u001b[38;5;241m=\u001b[39m \u001b[38;5;124mr\u001b[39m\u001b[38;5;124m\"\u001b[39m\u001b[38;5;130;01m\\\\\u001b[39;00m\u001b[38;5;124msun\u001b[39m\u001b[38;5;124m\\\u001b[39m\u001b[38;5;124movervelde\u001b[39m\u001b[38;5;124m\\\u001b[39m\u001b[38;5;124mgroup-folder\u001b[39m\u001b[38;5;124m\\\u001b[39m\u001b[38;5;124mPROJECTS\u001b[39m\u001b[38;5;124m\\\u001b[39m\u001b[38;5;124mThermal_soft_robotics_Olivier\u001b[39m\u001b[38;5;124m\\\u001b[39m\u001b[38;5;124mGit\u001b[39m\u001b[38;5;124m\\\u001b[39m\u001b[38;5;124mThermal_Soft_Robotics\u001b[39m\u001b[38;5;124m\\\u001b[39m\u001b[38;5;124mThermal_actuation\u001b[39m\u001b[38;5;124m\\\u001b[39m\u001b[38;5;124mExperimental\u001b[39m\u001b[38;5;124m\\\u001b[39m\u001b[38;5;124mFluidic\u001b[39m\u001b[38;5;124m\\\u001b[39m\u001b[38;5;124mDemo\u001b[39m\u001b[38;5;124m\"\u001b[39m\n\u001b[0;32m      2\u001b[0m Foldernames \u001b[38;5;241m=\u001b[39m [\u001b[38;5;124m\"\u001b[39m\u001b[38;5;124m//Data\u001b[39m\u001b[38;5;124m\"\u001b[39m]\n\u001b[1;32m----> 4\u001b[0m data \u001b[38;5;241m=\u001b[39m \u001b[43mFluidicSetupFunctions\u001b[49m\u001b[38;5;241;43m.\u001b[39;49m\u001b[43mLoadData\u001b[49m\u001b[43m(\u001b[49m\u001b[43mFoldernames\u001b[49m\u001b[43m \u001b[49m\u001b[38;5;241;43m=\u001b[39;49m\u001b[43m \u001b[49m\u001b[43mFoldernames\u001b[49m\u001b[43m,\u001b[49m\u001b[43mLocation\u001b[49m\u001b[38;5;241;43m=\u001b[39;49m\u001b[43mLocation\u001b[49m\u001b[43m)\u001b[49m\n",
      "File \u001b[1;32m//sun/overvelde\\group-folder/PROJECTS/Thermal_soft_robotics_Olivier/Git/Thermal_Soft_Robotics/Functions\\FluidicSetupFunctions.py:59\u001b[0m, in \u001b[0;36mLoadData\u001b[1;34m(Foldernames, Location)\u001b[0m\n\u001b[0;32m     57\u001b[0m offset \u001b[38;5;241m=\u001b[39m df[header]\u001b[38;5;241m.\u001b[39mhead(\u001b[38;5;241m9\u001b[39m\u001b[38;5;241m*\u001b[39mSamplerate)\u001b[38;5;241m.\u001b[39mmean()\n\u001b[0;32m     58\u001b[0m Offset[header] \u001b[38;5;241m=\u001b[39m offset\n\u001b[1;32m---> 59\u001b[0m df[header] \u001b[38;5;241m=\u001b[39m \u001b[43msavgol_filter\u001b[49m\u001b[43m(\u001b[49m\u001b[43mdf\u001b[49m\u001b[43m[\u001b[49m\u001b[43mheader\u001b[49m\u001b[43m]\u001b[49m\u001b[43m \u001b[49m\u001b[38;5;241;43m-\u001b[39;49m\u001b[43m \u001b[49m\u001b[43moffset\u001b[49m\u001b[43m,\u001b[49m\u001b[43m \u001b[49m\u001b[38;5;241;43m21\u001b[39;49m\u001b[43m,\u001b[49m\u001b[43m \u001b[49m\u001b[38;5;241;43m3\u001b[39;49m\u001b[43m)\u001b[49m\n\u001b[0;32m     60\u001b[0m \u001b[38;5;28;01mif\u001b[39;00m \u001b[38;5;124m\"\u001b[39m\u001b[38;5;124mBrooks\u001b[39m\u001b[38;5;124m\"\u001b[39m \u001b[38;5;129;01min\u001b[39;00m header:          \u001b[38;5;66;03m# Unit: SLPM\u001b[39;00m\n\u001b[0;32m     61\u001b[0m     df[header] \u001b[38;5;241m=\u001b[39m df[header]\u001b[38;5;241m/\u001b[39m\u001b[38;5;241m2\u001b[39m\n",
      "File \u001b[1;32m~\\AppData\\Local\\Packages\\PythonSoftwareFoundation.Python.3.11_qbz5n2kfra8p0\\LocalCache\\local-packages\\Python311\\site-packages\\scipy\\signal\\_savitzky_golay.py:345\u001b[0m, in \u001b[0;36msavgol_filter\u001b[1;34m(x, window_length, polyorder, deriv, delta, axis, mode, cval)\u001b[0m\n\u001b[0;32m    343\u001b[0m \u001b[38;5;28;01mif\u001b[39;00m mode \u001b[38;5;241m==\u001b[39m \u001b[38;5;124m\"\u001b[39m\u001b[38;5;124minterp\u001b[39m\u001b[38;5;124m\"\u001b[39m:\n\u001b[0;32m    344\u001b[0m     \u001b[38;5;28;01mif\u001b[39;00m window_length \u001b[38;5;241m>\u001b[39m x\u001b[38;5;241m.\u001b[39mshape[axis]:\n\u001b[1;32m--> 345\u001b[0m         \u001b[38;5;28;01mraise\u001b[39;00m \u001b[38;5;167;01mValueError\u001b[39;00m(\u001b[38;5;124m\"\u001b[39m\u001b[38;5;124mIf mode is \u001b[39m\u001b[38;5;124m'\u001b[39m\u001b[38;5;124minterp\u001b[39m\u001b[38;5;124m'\u001b[39m\u001b[38;5;124m, window_length must be less \u001b[39m\u001b[38;5;124m\"\u001b[39m\n\u001b[0;32m    346\u001b[0m                          \u001b[38;5;124m\"\u001b[39m\u001b[38;5;124mthan or equal to the size of x.\u001b[39m\u001b[38;5;124m\"\u001b[39m)\n\u001b[0;32m    348\u001b[0m     \u001b[38;5;66;03m# Do not pad. Instead, for the elements within `window_length // 2`\u001b[39;00m\n\u001b[0;32m    349\u001b[0m     \u001b[38;5;66;03m# of the ends of the sequence, use the polynomial that is fitted to\u001b[39;00m\n\u001b[0;32m    350\u001b[0m     \u001b[38;5;66;03m# the last `window_length` elements.\u001b[39;00m\n\u001b[0;32m    351\u001b[0m     y \u001b[38;5;241m=\u001b[39m convolve1d(x, coeffs, axis\u001b[38;5;241m=\u001b[39maxis, mode\u001b[38;5;241m=\u001b[39m\u001b[38;5;124m\"\u001b[39m\u001b[38;5;124mconstant\u001b[39m\u001b[38;5;124m\"\u001b[39m)\n",
      "\u001b[1;31mValueError\u001b[0m: If mode is 'interp', window_length must be less than or equal to the size of x."
     ]
    }
   ],
   "source": [
    "Location = r\"\\\\sun\\overvelde\\group-folder\\PROJECTS\\Thermal_soft_robotics_Olivier\\Git\\Thermal_Soft_Robotics\\Thermal_actuation\\Experimental\\Fluidic\\Demo\"\n",
    "Foldernames = [\"//Data\"]\n",
    "\n",
    "data = FluidicSetupFunctions.LoadData(Foldernames = Foldernames,Location=Location)"
   ]
  },
  {
   "cell_type": "code",
   "execution_count": 36,
   "metadata": {},
   "outputs": [],
   "source": [
    "data[1]['Samplename']"
   ]
  },
  {
   "cell_type": "code",
   "execution_count": 52,
   "metadata": {},
   "outputs": [
    {
     "name": "stdout",
     "output_type": "stream",
     "text": [
      "[19.822233264181374, 11.530714733805027]\n"
     ]
    },
    {
     "data": {
      "image/png": "[encoded data removed]",
      "text/plain": [
       "<Figure size 330x250 with 2 Axes>"
      ]
     },
     "metadata": {},
     "output_type": "display_data"
    }
   ],
   "source": [
    "df = data[0][1]\n",
    "time_column = 'Time'\n",
    "fig, ax1 = plt.subplots()\n",
    "ax2 = ax1.twinx()\n",
    "ax2.set_ylabel('Flow', color='green')\n",
    "ax1.set_ylabel('Pressure', color='blue')\n",
    "V = []\n",
    "\n",
    "# Iterate through each column (except the time column)\n",
    "for column in df.columns:\n",
    "    if column != time_column:\n",
    "        if 'AWM' in column:\n",
    "            # Plot on right y-axis\n",
    "            ax2.plot(df[time_column], df[column], label=column, color='green')\n",
    "            V.append(np.trapz(df[column], df[time_column]))\n",
    "        \n",
    "        elif 'MPX' in column:\n",
    "            continue \n",
    "\n",
    "        else:\n",
    "            # Plot on left y-axis\n",
    "            ax1.plot(df[time_column], df[column]/1000, label=column, color='blue')\n",
    "#ax1.set_xlim(1500,1750)\n",
    "ax1.legend(loc='upper left')\n",
    "ax2.legend(loc='upper right')\n",
    "print(V)"
   ]
  },
  {
   "cell_type": "code",
   "execution_count": 51,
   "metadata": {},
   "outputs": [
    {
     "name": "stdout",
     "output_type": "stream",
     "text": [
      "Time of minimum gradient: 1714.985\n"
     ]
    }
   ],
   "source": [
    "gradient = np.gradient(df['SSCDP15-4'], df['Time'])\n",
    "\n",
    "# Find the index of the minimum value in the gradient\n",
    "min_index = np.argmin(gradient)\n",
    "\n",
    "# Retrieve the corresponding time\n",
    "min_gradient_time = df['Time'].iloc[min_index]\n",
    "\n",
    "print(\"Time of minimum gradient:\", min_gradient_time)"
   ]
  },
  {
   "cell_type": "code",
   "execution_count": 46,
   "metadata": {},
   "outputs": [
    {
     "data": {
      "text/plain": [
       "[<matplotlib.lines.Line2D at 0x2bcf66179d0>]"
      ]
     },
     "execution_count": 46,
     "metadata": {},
     "output_type": "execute_result"
    },
    {
     "data": {
      "image/png": "[encoded data removed]",
      "text/plain": [
       "<Figure size 330x250 with 1 Axes>"
      ]
     },
     "metadata": {},
     "output_type": "display_data"
    }
   ],
   "source": [
    "plt.plot(df['Time'], gradient)\n",
    "#plt.ylim(-5,1)"
   ]
  },
  {
   "cell_type": "code",
   "execution_count": 11,
   "metadata": {},
   "outputs": [
    {
     "data": {
      "text/plain": [
       "[<matplotlib.lines.Line2D at 0x2ba05a3e7d0>]"
      ]
     },
     "execution_count": 11,
     "metadata": {},
     "output_type": "execute_result"
    },
    {
     "data": {
      "image/png": "[encoded data removed]",
      "text/plain": [
       "<Figure size 330x250 with 1 Axes>"
      ]
     },
     "metadata": {},
     "output_type": "display_data"
    }
   ],
   "source": [
    "P = data[0][-1][\"SSCDP15-4\"]\n",
    "t = data[0][-1][\"Time\"]/60\n",
    "plt.plot(t,P)\n"
   ]
  }
 ],
 "metadata": {
  "kernelspec": {
   "display_name": "Python 3",
   "language": "python",
   "name": "python3"
  },
  "language_info": {
   "codemirror_mode": {
    "name": "ipython",
    "version": 3
   },
   "file_extension": ".py",
   "mimetype": "text/x-python",
   "name": "python",
   "nbconvert_exporter": "python",
   "pygments_lexer": "ipython3",
   "version": "3.11.7"
  }
 },
 "nbformat": 4,
 "nbformat_minor": 2
}
