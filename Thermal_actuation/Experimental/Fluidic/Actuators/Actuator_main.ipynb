{
 "cells": [
  {
   "cell_type": "code",
   "execution_count": 2,
   "metadata": {},
   "outputs": [],
   "source": [
    "import pandas as pd\n",
    "\n",
    "import numpy as np\n",
    "import seaborn as sns\n",
    "import matplotlib.pyplot as plt\n",
    "import matplotlib.cm as cm # Colormap for time\n",
    "import scienceplots\n",
    "plt.style.use(['science','nature','no-latex','vibrant'])\n",
    "\n",
    "\n",
    "from scipy.optimize import curve_fit\n",
    "from scipy.optimize import minimize\n",
    "\n",
    "\n",
    "#Import personal functions\n",
    "import sys\n",
    "#sys.path.append(\"C:/Users/Olivi/OneDrive - TU Eindhoven/Soft robotic matter/GitHub/Thermal_Soft_Robotics/Functions\")\n",
    "sys.path.append(\"//sun/overvelde/group-folder/PROJECTS/Thermal_soft_robotics_Olivier/Git/Thermal_Soft_Robotics/Functions\")\n",
    "import FluidicSetupFunctions\n",
    "from save_plot_func import save_plot\n"
   ]
  },
  {
   "cell_type": "code",
   "execution_count": 4,
   "metadata": {},
   "outputs": [
    {
     "name": "stdout",
     "output_type": "stream",
     "text": [
      "Loading... Folder 1 of 1, Sample 1 of 5\n",
      "Loading... Folder 1 of 1, Sample 2 of 5\n",
      "Loading... Folder 1 of 1, Sample 3 of 5\n",
      "Loading... Folder 1 of 1, Sample 4 of 5\n",
      "Loading... Folder 1 of 1, Sample 5 of 5\n",
      "<bound method NDFrame.head of         flowFesto-1  DigOut-1   SSCDP30-9     Time\n",
      "0          0.000037       0.0   50.559083    0.001\n",
      "1         -0.000010       0.0   40.280822    0.002\n",
      "2         -0.000120       0.0   31.262755    0.003\n",
      "3         -0.000281       0.0   23.466631    0.004\n",
      "4         -0.000481       0.0   16.854201    0.005\n",
      "...             ...       ...         ...      ...\n",
      "211295     0.001067       0.0  230.873302  211.296\n",
      "211296     0.001259       0.0  234.478685  211.297\n",
      "211297     0.001422       0.0  237.512370  211.298\n",
      "211298     0.001553       0.0  239.694656  211.299\n",
      "211299     0.001645       0.0  240.745842  211.300\n",
      "\n",
      "[211300 rows x 4 columns]>\n"
     ]
    }
   ],
   "source": [
    "#Location = r\"C:\\Users\\Olivi\\OneDrive - TU Eindhoven\\Soft robotic matter\\data_analysis\"\n",
    "Location = r\"//sun/overvelde/group-folder/PROJECTS/Thermal_soft_robotics_Olivier/Git/Thermal_Soft_Robotics/Thermal_actuation/Experimental/Fluidic/Actuators\"\n",
    "Foldernames = [\"/Data\"]\n",
    "\n",
    "data = FluidicSetupFunctions.LoadData(Foldernames = Foldernames,Location=Location)\n",
    "\n",
    "print(data[0][-1].head)\n",
    "\n",
    "#check check\n"
   ]
  },
  {
   "cell_type": "code",
   "execution_count": 22,
   "metadata": {},
   "outputs": [
    {
     "data": {
      "image/png": "[encoded data removed]",
      "text/plain": [
       "<Figure size 330x250 with 2 Axes>"
      ]
     },
     "metadata": {},
     "output_type": "display_data"
    }
   ],
   "source": [
    "P = data[0][0]['SSCDP30-9']/1000\n",
    "t = data[0][0]['Time']\n",
    "Q = data[0][0]['flowFesto-1']\n",
    "\n",
    "\n",
    "ax1=plt.subplot(211)\n",
    "plt.plot(t,P)\n",
    "plt.ylabel('Pressure [$kPa$]')\n",
    "\n",
    "ax2 = plt.subplot(212,sharex=ax1)\n",
    "plt.plot(t,Q)\n",
    "plt.xlabel('Time[$s$]')\n",
    "plt.ylabel('Flow [$SLPM$]')\n",
    "plt.show()"
   ]
  },
  {
   "cell_type": "markdown",
   "metadata": {},
   "source": [
    "Prepare data: slice per run"
   ]
  },
  {
   "cell_type": "code",
   "execution_count": 307,
   "metadata": {},
   "outputs": [
    {
     "name": "stdout",
     "output_type": "stream",
     "text": [
      "0\n",
      "1\n",
      "2\n",
      "3\n"
     ]
    }
   ],
   "source": [
    "# Slice data per run \n",
    "\n",
    "data_sliced = []\n",
    "for index,value in enumerate(data[0]):\n",
    "    runs = [] # new list for all the runs in data[0]\n",
    "    start = 0\n",
    "    run_count = 1  # Counter for run numbe\n",
    "    #flow = data[0][index]['AWM5-5'].values\n",
    "\n",
    "    # Check which pressure sensor is used \n",
    "    df = data[0][index]\n",
    "    print(index)\n",
    "\n",
    "    P = data[0][0]['SSCDP30-9']/1000\n",
    "    t = data[0][0]['Time']\n",
    "    Q = data[0][0]['flowFesto-1']\n",
    "   \n",
    "\n",
    "    while start < len(data[0][index]['DigOut-1']):\n",
    "        start = np.argmax(data[0][index]['DigOut-1'][start:] == 1) +start  # Correcting index for slicing\n",
    "        end = np.argmax(data[0][index]['DigOut-1'][start:] == 0)+start   # Correcting index for slicing\n",
    "        \n",
    "        if end <= start:  # Break if no more valid segments are found\n",
    "            break\n",
    "\n",
    "        # Reschale the flow data to compensate for drifting \n",
    "        first_value = Q[start]\n",
    "        flow_rescaled =Q[start:end] - first_value\n",
    "      \n",
    "        # Create a DataFrame for this run\n",
    "        run_df = pd.DataFrame({\n",
    "            'Time': np.arange(start, end),  # You can replace this with the actual time data if you have it\n",
    "            'Rescaled_Flow': flow_rescaled[:end - start],\n",
    "            'Pressure': P[start:end]/1000   # Assuming P is already an array\n",
    "        })\n",
    "\n",
    "        # Append this DataFrame to the list\n",
    "        runs.append(run_df)   \n",
    "\n",
    "        start = end + 5  # Move to next segment\n",
    "        run_count += 1  # Increment run counter\n",
    "    data_sliced.append(runs)\n",
    "\n",
    "#Remove wrong measurement\n",
    "#data_sliced[0].pop(8)   # touched setup with finger and messed up flow measurement\n"
   ]
  },
  {
   "cell_type": "code",
   "execution_count": null,
   "metadata": {},
   "outputs": [],
   "source": [
    "len(data_sliced)"
   ]
  },
  {
   "cell_type": "markdown",
   "metadata": {},
   "source": [
    "Extract opening and closing pressure"
   ]
  },
  {
   "cell_type": "code",
   "execution_count": 308,
   "metadata": {},
   "outputs": [],
   "source": [
    "\n",
    "# Function for moving average smoothing\n",
    "def moving_average(data, window_size):\n",
    "    return np.convolve(data, np.ones(window_size)/window_size, mode='same')\n",
    "\n",
    "# Plot sliced data and extract opening pressure \n",
    "P_open = []\n",
    "P_close = []\n",
    "\n",
    "open_threshold = 0.1 # slpm\n",
    "close_threshold = 0.09 # slpm\n",
    "\n",
    "# Window size for smoothing\n",
    "window_size = 100  # You can adjust this value based on your requirements\n",
    "\n",
    "# Initialize a flag to indicate whether the threshold has been crossed from below\n",
    "crossed_threshold = False\n",
    "\n",
    "for sample in data_sliced:   \n",
    "    # Initialize lists for each sample\n",
    "    P_open_sample = []\n",
    "    P_close_sample = []\n",
    "    \n",
    "    for run in sample:\n",
    "        Q_raw = run['Rescaled_Flow']\n",
    "        P_raw = run['Pressure']\n",
    "        \n",
    "        # Apply moving average smoothing\n",
    "        Q = moving_average(Q_raw, window_size)\n",
    "        P_sliced = moving_average(P_raw, window_size)\n",
    "        \n",
    "        # Extract opening pressure\n",
    "        opening_index = np.argmax(Q > open_threshold)  # If the flow passes a certain threshold, then we can assume it is open\n",
    "        P_open_sample.append(P_sliced[opening_index])  # Use previous index to recover the pressure \n",
    "        \n",
    "        # Loop through the data\n",
    "        for jj in range(1, len(Q)):\n",
    "            # Check for crossing the threshold from below to above\n",
    "            if Q[jj] > close_threshold:\n",
    "                crossed_threshold = True\n",
    "            \n",
    "            # Check for crossing the threshold from above to below after it's been crossed from below\n",
    "            if crossed_threshold and Q[jj] < close_threshold:\n",
    "                P_close_sample.append(P_sliced[jj])\n",
    "                \n",
    "                # Reset the flag if you are only interested in the first such occurrence\n",
    "                crossed_threshold = False\n",
    "                break\n",
    "    \n",
    "    # Append the lists for each sample to the main lists\n",
    "    P_open.append(P_open_sample)\n",
    "    P_close.append(P_close_sample)"
   ]
  },
  {
   "cell_type": "markdown",
   "metadata": {},
   "source": [
    "Results"
   ]
  }
 ],
 "metadata": {
  "kernelspec": {
   "display_name": "base",
   "language": "python",
   "name": "python3"
  },
  "language_info": {
   "codemirror_mode": {
    "name": "ipython",
    "version": 3
   },
   "file_extension": ".py",
   "mimetype": "text/x-python",
   "name": "python",
   "nbconvert_exporter": "python",
   "pygments_lexer": "ipython3",
   "version": "3.11.6"
  },
  "orig_nbformat": 4
 },
 "nbformat": 4,
 "nbformat_minor": 2
}
