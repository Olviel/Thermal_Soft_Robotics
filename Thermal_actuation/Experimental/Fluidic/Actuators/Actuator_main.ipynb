{
 "cells": [
  {
   "cell_type": "code",
   "execution_count": 2,
   "metadata": {},
   "outputs": [],
   "source": [
    "import pandas as pd\n",
    "\n",
    "import numpy as np\n",
    "import seaborn as sns\n",
    "import matplotlib.pyplot as plt\n",
    "import matplotlib.cm as cm # Colormap for time\n",
    "import re\n",
    "import scienceplots\n",
    "plt.style.use(['science','nature','no-latex','vibrant'])\n",
    "\n",
    "from scipy.signal import find_peaks, butter, filtfilt\n",
    "\n",
    "\n",
    "\n",
    "#Import personal functions\n",
    "import sys\n",
    "#sys.path.append(\"C:/Users/Olivi/OneDrive - TU Eindhoven/Soft robotic matter/GitHub/Thermal_Soft_Robotics/Functions\")\n",
    "sys.path.append(\"//sun/overvelde/group-folder/PROJECTS/Thermal_soft_robotics_Olivier/Git/Thermal_Soft_Robotics/Functions\")\n",
    "import FluidicSetupFunctions\n",
    "from save_plot_func import save_plot\n"
   ]
  },
  {
   "cell_type": "code",
   "execution_count": 3,
   "metadata": {},
   "outputs": [
    {
     "name": "stdout",
     "output_type": "stream",
     "text": [
      "Loading... Folder 1 of 1, Sample 1 of 5\n",
      "Loading... Folder 1 of 1, Sample 2 of 5\n",
      "Loading... Folder 1 of 1, Sample 3 of 5\n",
      "Loading... Folder 1 of 1, Sample 4 of 5\n",
      "Loading... Folder 1 of 1, Sample 5 of 5\n",
      "<bound method NDFrame.head of         flowFesto-1  DigOut-1   SSCDP30-9     Time\n",
      "0          0.000037       0.0   50.559083    0.001\n",
      "1         -0.000010       0.0   40.280822    0.002\n",
      "2         -0.000120       0.0   31.262755    0.003\n",
      "3         -0.000281       0.0   23.466631    0.004\n",
      "4         -0.000481       0.0   16.854201    0.005\n",
      "...             ...       ...         ...      ...\n",
      "211295     0.001067       0.0  230.873302  211.296\n",
      "211296     0.001259       0.0  234.478685  211.297\n",
      "211297     0.001422       0.0  237.512370  211.298\n",
      "211298     0.001553       0.0  239.694656  211.299\n",
      "211299     0.001645       0.0  240.745842  211.300\n",
      "\n",
      "[211300 rows x 4 columns]>\n"
     ]
    }
   ],
   "source": [
    "#Location = r\"C:\\Users\\Olivi\\OneDrive - TU Eindhoven\\Soft robotic matter\\data_analysis\"\n",
    "Location = r\"//sun/overvelde/group-folder/PROJECTS/Thermal_soft_robotics_Olivier/Git/Thermal_Soft_Robotics/Thermal_actuation/Experimental/Fluidic/Actuators\"\n",
    "Foldernames = [\"/Data/width_sweep\"]\n",
    "\n",
    "data = FluidicSetupFunctions.LoadData(Foldernames = Foldernames,Location=Location)\n",
    "\n",
    "print(data[0][-1].head)\n"
   ]
  },
  {
   "cell_type": "code",
   "execution_count": 4,
   "metadata": {},
   "outputs": [
    {
     "name": "stdout",
     "output_type": "stream",
     "text": [
      "['2_', '2_1']\n",
      "['2_w2_1', '4_w4_1', '6_w8_1', '1_w16_1', '0_w32_1']\n"
     ]
    }
   ],
   "source": [
    "#Extract names for plotting\n",
    "items = data[1]['Samplename']\n",
    "print(items[0].split('w'))\n",
    "\n",
    "# Use regular expression to match 'w' followed by any number of digits\n",
    "Sample_names = [re.match(r'w(\\d+)_', item).group(1) if re.match(r'(w\\d+)_', item) else item for item in items]\n",
    "\n",
    "print(Sample_names)"
   ]
  },
  {
   "cell_type": "code",
   "execution_count": 5,
   "metadata": {},
   "outputs": [
    {
     "data": {
      "image/png": "[encoded data removed]",
      "text/plain": [
       "<Figure size 330x250 with 3 Axes>"
      ]
     },
     "metadata": {},
     "output_type": "display_data"
    }
   ],
   "source": [
    "P = data[0][0]['SSCDP30-9']/1000\n",
    "t = data[0][0]['Time']\n",
    "Q = data[0][0]['flowFesto-1']\n",
    "digout = data[0][0]['DigOut-1']\n",
    "\n",
    "\n",
    "ax1=plt.subplot(311)\n",
    "plt.plot(t,P)\n",
    "\n",
    "plt.ylabel('Pressure [$kPa$]')\n",
    "\n",
    "ax2 = plt.subplot(312,sharex=ax1)\n",
    "plt.plot(t,Q)\n",
    "plt.xlabel('Time[$s$]')\n",
    "plt.ylabel('Flow [$SLPM$]')\n",
    "\n",
    "\n",
    "ax3 = plt.subplot(313,sharex=ax1)\n",
    "plt.plot(t,digout)\n",
    "\n",
    "plt.show()"
   ]
  },
  {
   "cell_type": "markdown",
   "metadata": {},
   "source": [
    "Prepare data: slice per run"
   ]
  },
  {
   "cell_type": "code",
   "execution_count": 6,
   "metadata": {},
   "outputs": [
    {
     "name": "stdout",
     "output_type": "stream",
     "text": [
      "0\n",
      "1\n",
      "2\n",
      "3\n",
      "4\n"
     ]
    }
   ],
   "source": [
    "# Slice data per run \n",
    "data_sliced = []\n",
    "for index,value in enumerate(data[0]):\n",
    "    runs = [] # new list for all the runs in data[0]\n",
    "    start = 0\n",
    "    run_count = 1  # Counter for run number\n",
    "\n",
    "    df = data[0][index]\n",
    "    print(index)\n",
    "\n",
    "    P = data[0][index]['SSCDP30-9']\n",
    "    t = data[0][index]['Time']\n",
    "    Q = data[0][index]['flowFesto-1']\n",
    "    dig_out = data[0][index]['DigOut-1']  \n",
    "   \n",
    "\n",
    "    while start < len(data[0][index]['DigOut-1']):\n",
    "        # Find the next '1' in 'DigOut-1' starting from 'start'.\n",
    "        next_ones = np.where(dig_out[start:] == 1)[0]\n",
    "        if next_ones.size == 0:  # If there are no more '1's, exit the loop.\n",
    "            break\n",
    "        start += next_ones[0]  # Adjust 'start' to the new index.\n",
    "\n",
    "        # Find the next '0' in 'DigOut-1' starting from the new 'start'.\n",
    "        next_zeros = np.where(dig_out[start:] == 0)[0]\n",
    "        if next_zeros.size == 0:  # If there are no '0's following the '1's, take the rest of the array.\n",
    "            end = len(dig_out)\n",
    "        else:\n",
    "            end = start + next_zeros[0]  # Adjust 'end' to the new index.\n",
    "        \n",
    "        \n",
    "      \n",
    "        # Create a DataFrame for this run\n",
    "        run_df = pd.DataFrame({\n",
    "            'Time': t[start:end]-t[start], \n",
    "            'Flow': Q[start:end],\n",
    "            'Pressure': P[start:end]/1000   \n",
    "        })\n",
    "\n",
    "        # Append this DataFrame to the list\n",
    "        runs.append(run_df)   \n",
    "\n",
    "        start = end + 5  # Move to next segment\n",
    "        run_count += 1  # Increment run counter\n",
    "\n",
    "   \n",
    "    data_sliced.append(runs)\n",
    "   \n",
    "\n"
   ]
  },
  {
   "cell_type": "code",
   "execution_count": 7,
   "metadata": {},
   "outputs": [],
   "source": [
    "# Butterworth filter design\n",
    "def butter_lowpass(cutoff, fs, order=5):\n",
    "    nyq = 0.5 * fs\n",
    "    normal_cutoff = cutoff / nyq\n",
    "    b, a = butter(order, normal_cutoff, btype='low', analog=False)\n",
    "    return b, a\n",
    "\n",
    "def butter_lowpass_filter(data, cutoff, fs, order=5):\n",
    "    b, a = butter_lowpass(cutoff, fs, order=order)\n",
    "    y = filtfilt(b, a, data)\n",
    "    return y\n",
    "\n",
    "# Function for moving average smoothing\n",
    "def moving_average(data, window_size):\n",
    "    return np.convolve(data, np.ones(window_size)/window_size, mode='same')\n",
    "\n",
    "\n"
   ]
  },
  {
   "cell_type": "code",
   "execution_count": 8,
   "metadata": {},
   "outputs": [
    {
     "name": "stdout",
     "output_type": "stream",
     "text": [
      "1640\n"
     ]
    },
    {
     "data": {
      "text/plain": [
       "177.73924352443913"
      ]
     },
     "execution_count": 8,
     "metadata": {},
     "output_type": "execute_result"
    },
    {
     "data": {
      "image/png": "[encoded data removed]",
      "text/plain": [
       "<Figure size 330x250 with 1 Axes>"
      ]
     },
     "metadata": {},
     "output_type": "display_data"
    }
   ],
   "source": [
    "len(data_sliced[0])\n",
    "data_sliced[0][0]\n",
    "plt.plot(data_sliced[0][-1][\"Time\"],data_sliced[0][-1][\"Pressure\"])\n",
    "np.mean(data_sliced[0][-1][\"Flow\"])\n",
    "\n",
    "peaks,_ = find_peaks(data_sliced[0][-1][\"Pressure\"])\n",
    "n_peaks=len(peaks)\n",
    "print(n_peaks)\n",
    "len(data_sliced[0][-1][\"Time\"]/1000)\n",
    "measurement_t = len(data_sliced[0][-1][\"Time\"])/1000\n",
    "f = n_peaks/measurement_t \n",
    "f"
   ]
  },
  {
   "cell_type": "code",
   "execution_count": 9,
   "metadata": {},
   "outputs": [
    {
     "name": "stdout",
     "output_type": "stream",
     "text": [
      "[-0.0, -0.0, 0.03, 0.07]\n",
      "[0.0, 0.0, 0.09906875371507827, 6.502655250894115]\n",
      "[-0.0, -0.0, 0.0, 0.06, 0.41, 0.91]\n",
      "[0.0, 0.0, 0.0, 2.890749601275917, 30.674235633901006, 20.066889632107024]\n",
      "[-0.0, -0.0, 0.02, 0.08, 0.43, 0.93, 1.92, 2.93]\n",
      "[0.0, 0.0, 0.49810719266786213, 2.189708370657908, 4.476721050537207, 6.25, 8.667928663943409, 18.333997608609007]\n",
      "[-0.0, -0.0, 0.0, 0.06, 0.4, 0.91, 1.9]\n",
      "[0.0, 0.0, 0.0, 0.0, 0.0, 0.09976057462090983, 0.0]\n",
      "[-0.0, -0.0, 0.0, 0.05, 0.4, 0.91, 1.9, 2.9]\n",
      "[0.0, 0.0, 0.0, 0.0, 0.0, 0.0, 0.0, 0.0]\n"
     ]
    },
    {
     "data": {
      "image/png": "[encoded data removed]",
      "text/plain": [
       "<Figure size 800x400 with 1 Axes>"
      ]
     },
     "metadata": {},
     "output_type": "display_data"
    }
   ],
   "source": [
    "# Define sampling rate and cutoff frequency\n",
    "fs = 1000  # example sampling rate\n",
    "cutoff = 150  # cutoff frequency in Hz for low-pass filter\n",
    "\n",
    "# Window size for smoothing\n",
    "window_size = 100 \n",
    "\n",
    "plt.figure(figsize=(8, 4))\n",
    "\n",
    "Q_mean = []\n",
    "f=[]\n",
    "results = []\n",
    "sample_names=[2,4,8,16,32]\n",
    "\n",
    "for index, runs_data in enumerate(data_sliced):\n",
    "    Q_mean = []\n",
    "    f=[]\n",
    "    for i,run_data in enumerate(runs_data):\n",
    "        #print(i,run_data)\n",
    "        time = run_data[\"Time\"]\n",
    "        P_raw = run_data[\"Pressure\"]\n",
    "        \n",
    "        \n",
    "        # Filter the signal\n",
    "        filtered_pressure = butter_lowpass_filter(P_raw, cutoff, fs)\n",
    "        P = moving_average(filtered_pressure,window_size)\n",
    "\n",
    "        # Find peaks with dynamic thresholding and minimum distance\n",
    "        peaks, _ = find_peaks(P,height=40)\n",
    "        n_peaks = len(peaks)\n",
    "\n",
    "    \n",
    "        measurement_t = len(run_data[\"Time\"])/1000\n",
    "        f.append(n_peaks/measurement_t )\n",
    "\n",
    "\n",
    "    # Correct usage of np.round and np.mean for labeling\n",
    "        mean_flow = np.round(np.mean(run_data[\"Flow\"]), 2)\n",
    "        Q_mean.append(mean_flow)\n",
    "\n",
    "    # zip and store results \n",
    "    results.append(zip(f,Q_mean))\n",
    "    print(Q_mean)\n",
    "    print(f)\n",
    "   \n",
    "    plt.plot(Q_mean,f,label=sample_names[index],marker='x')\n",
    "\n",
    "plt.xlabel(\"Q [$SLPM$]\")\n",
    "plt.ylabel(\"f [$Hz$]\")\n",
    "plt.legend(title='Width [$mm$]')\n",
    "plt.show()\n",
    "\n"
   ]
  },
  {
   "cell_type": "markdown",
   "metadata": {},
   "source": [
    "Open aruco data\n"
   ]
  },
  {
   "cell_type": "code",
   "execution_count": 16,
   "metadata": {},
   "outputs": [
    {
     "name": "stdout",
     "output_type": "stream",
     "text": [
      "\\\\sun\\overvelde\\group-folder\\PROJECTS\\Thermal_soft_robotics_Olivier\\Git\\Thermal_Soft_Robotics\\Thermal_actuation\\Experimental\\Fluidic\\Actuators\\Data\\Angle_sweep_aruco\\w8_phi_0_output_data.csv\n"
     ]
    },
    {
     "data": {
      "text/html": [
       "<div>\n",
       "<style scoped>\n",
       "    .dataframe tbody tr th:only-of-type {\n",
       "        vertical-align: middle;\n",
       "    }\n",
       "\n",
       "    .dataframe tbody tr th {\n",
       "        vertical-align: top;\n",
       "    }\n",
       "\n",
       "    .dataframe thead th {\n",
       "        text-align: right;\n",
       "    }\n",
       "</style>\n",
       "<table border=\"1\" class=\"dataframe\">\n",
       "  <thead>\n",
       "    <tr style=\"text-align: right;\">\n",
       "      <th></th>\n",
       "      <th>Unnamed: 0</th>\n",
       "      <th>x_center</th>\n",
       "      <th>y_center</th>\n",
       "      <th>theta</th>\n",
       "      <th>frame_number</th>\n",
       "      <th>time</th>\n",
       "    </tr>\n",
       "  </thead>\n",
       "  <tbody>\n",
       "    <tr>\n",
       "      <th>0</th>\n",
       "      <td>0</td>\n",
       "      <td>952.75</td>\n",
       "      <td>583.75</td>\n",
       "      <td>-60.753353</td>\n",
       "      <td>0.0</td>\n",
       "      <td>0.00</td>\n",
       "    </tr>\n",
       "    <tr>\n",
       "      <th>1</th>\n",
       "      <td>1</td>\n",
       "      <td>952.50</td>\n",
       "      <td>583.50</td>\n",
       "      <td>-60.612197</td>\n",
       "      <td>1.0</td>\n",
       "      <td>0.02</td>\n",
       "    </tr>\n",
       "    <tr>\n",
       "      <th>2</th>\n",
       "      <td>2</td>\n",
       "      <td>952.75</td>\n",
       "      <td>583.75</td>\n",
       "      <td>-60.753353</td>\n",
       "      <td>2.0</td>\n",
       "      <td>0.04</td>\n",
       "    </tr>\n",
       "    <tr>\n",
       "      <th>3</th>\n",
       "      <td>3</td>\n",
       "      <td>952.75</td>\n",
       "      <td>583.75</td>\n",
       "      <td>-60.753353</td>\n",
       "      <td>3.0</td>\n",
       "      <td>0.06</td>\n",
       "    </tr>\n",
       "    <tr>\n",
       "      <th>4</th>\n",
       "      <td>4</td>\n",
       "      <td>952.50</td>\n",
       "      <td>583.50</td>\n",
       "      <td>-60.612197</td>\n",
       "      <td>4.0</td>\n",
       "      <td>0.08</td>\n",
       "    </tr>\n",
       "  </tbody>\n",
       "</table>\n",
       "</div>"
      ],
      "text/plain": [
       "   Unnamed: 0  x_center  y_center      theta  frame_number  time\n",
       "0           0    952.75    583.75 -60.753353           0.0  0.00\n",
       "1           1    952.50    583.50 -60.612197           1.0  0.02\n",
       "2           2    952.75    583.75 -60.753353           2.0  0.04\n",
       "3           3    952.75    583.75 -60.753353           3.0  0.06\n",
       "4           4    952.50    583.50 -60.612197           4.0  0.08"
      ]
     },
     "execution_count": 16,
     "metadata": {},
     "output_type": "execute_result"
    }
   ],
   "source": [
    "from pathlib import Path\n",
    "\n",
    "# Define the path components\n",
    "network_path = r\"\\\\sun\\overvelde\"\n",
    "folder_path = \"group-folder\\PROJECTS\\Thermal_soft_robotics_Olivier\\Git\\Thermal_Soft_Robotics\\Thermal_actuation\\Experimental\\Fluidic\\Actuators\\Data\\Angle_sweep_aruco\"\n",
    "file_name = \"w8_phi_0_output_data.csv\"\n",
    "\n",
    "# Combine the components into a Path object\n",
    "full_path = Path(network_path) / folder_path / file_name\n",
    "\n",
    "# Print the full path\n",
    "print(full_path)\n",
    "df_angle = pd.read_csv(full_path)\n",
    "\n",
    "# convert sample freq to time \n",
    "fs = 50\n",
    "df_angle['time']=df_angle['frame_number']/50\n",
    "df_angle.head()\n"
   ]
  },
  {
   "cell_type": "code",
   "execution_count": 26,
   "metadata": {},
   "outputs": [
    {
     "data": {
      "text/plain": [
       "[<matplotlib.lines.Line2D at 0x194981282d0>]"
      ]
     },
     "execution_count": 26,
     "metadata": {},
     "output_type": "execute_result"
    },
    {
     "data": {
      "image/png": "[encoded data removed]",
      "text/plain": [
       "<Figure size 330x250 with 1 Axes>"
      ]
     },
     "metadata": {},
     "output_type": "display_data"
    }
   ],
   "source": [
    "fig, ax =plt.subplots()\n",
    "\n",
    "ax.plot(df_angle['time'],df_angle['x_center'])\n",
    "ax.plot(df_angle['time'],df_angle['y_center'])"
   ]
  }
 ],
 "metadata": {
  "kernelspec": {
   "display_name": "base",
   "language": "python",
   "name": "python3"
  },
  "language_info": {
   "codemirror_mode": {
    "name": "ipython",
    "version": 3
   },
   "file_extension": ".py",
   "mimetype": "text/x-python",
   "name": "python",
   "nbconvert_exporter": "python",
   "pygments_lexer": "ipython3",
   "version": "3.11.6"
  },
  "orig_nbformat": 4
 },
 "nbformat": 4,
 "nbformat_minor": 2
}
