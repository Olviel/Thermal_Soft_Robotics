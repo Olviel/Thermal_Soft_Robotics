{
 "cells": [
  {
   "cell_type": "code",
   "execution_count": 1,
   "metadata": {},
   "outputs": [],
   "source": [
    "import pandas as pd\n",
    "\n",
    "import numpy as np\n",
    "import seaborn as sns\n",
    "import matplotlib.pyplot as plt\n",
    "import matplotlib.cm as cm # Colormap for time\n",
    "import re\n",
    "import scienceplots\n",
    "plt.style.use(['science','nature','no-latex','vibrant'])\n",
    "\n",
    "from scipy.signal import find_peaks, butter, filtfilt\n",
    "\n",
    "\n",
    "\n",
    "#Import personal functions\n",
    "import sys\n",
    "#sys.path.append(\"C:/Users/Olivi/OneDrive - TU Eindhoven/Soft robotic matter/GitHub/Thermal_Soft_Robotics/Functions\")\n",
    "sys.path.append(\"//sun/overvelde/group-folder/PROJECTS/Thermal_soft_robotics_Olivier/Git/Thermal_Soft_Robotics/Functions\")\n",
    "import FluidicSetupFunctions\n",
    "from save_plot_func import save_plot\n"
   ]
  },
  {
   "cell_type": "code",
   "execution_count": 2,
   "metadata": {},
   "outputs": [
    {
     "name": "stdout",
     "output_type": "stream",
     "text": [
      "Loading... Folder 1 of 1, Sample 1 of 4\n",
      "Loading... Folder 1 of 1, Sample 2 of 4\n",
      "Loading... Folder 1 of 1, Sample 3 of 4\n",
      "Loading... Folder 1 of 1, Sample 4 of 4\n",
      "<bound method NDFrame.head of         flowFesto-1  DigOut-1   SSCDP30-9     Time\n",
      "0          0.000356       0.0  -30.454331    0.001\n",
      "1          0.000540       0.0  -29.753541    0.002\n",
      "2          0.000618       0.0  -28.032301    0.003\n",
      "3          0.000602       0.0  -25.472298    0.004\n",
      "4          0.000506       0.0  -22.255219    0.005\n",
      "...             ...       ...         ...      ...\n",
      "211395     0.000517       0.0  116.715775  211.396\n",
      "211396     0.000229       0.0  116.512914  211.397\n",
      "211397    -0.000180       0.0  114.592912  211.398\n",
      "211398    -0.000722       0.0  110.618692  211.399\n",
      "211399    -0.001413       0.0  104.253179  211.400\n",
      "\n",
      "[211400 rows x 4 columns]>\n"
     ]
    }
   ],
   "source": [
    "#Location = r\"C:\\Users\\Olivi\\OneDrive - TU Eindhoven\\Soft robotic matter\\data_analysis\"\n",
    "Location = r\"//sun/overvelde/group-folder/PROJECTS/Thermal_soft_robotics_Olivier/Git/Thermal_Soft_Robotics/Thermal_actuation/Experimental/Fluidic/Actuators\"\n",
    "Foldernames = [\"/Data/Alberto_boundary\"]\n",
    "\n",
    "data = FluidicSetupFunctions.LoadData(Foldernames = Foldernames,Location=Location)\n",
    "\n",
    "print(data[0][-1].head)\n"
   ]
  },
  {
   "cell_type": "code",
   "execution_count": 3,
   "metadata": {},
   "outputs": [
    {
     "name": "stdout",
     "output_type": "stream",
     "text": [
      "['4', '8', '16', '32']\n"
     ]
    }
   ],
   "source": [
    "#Extract names for plotting\n",
    "items = data[1]['Samplename']\n",
    "\n",
    "# Use regular expression to match 'w' followed by any number of digits\n",
    "Sample_names = [re.match(r'w(\\d+)_', item).group(1) if re.match(r'w(\\d+)_', item) else item for item in items]\n",
    "\n",
    "print(Sample_names)"
   ]
  },
  {
   "cell_type": "code",
   "execution_count": 4,
   "metadata": {},
   "outputs": [
    {
     "data": {
      "image/png": "[encoded data removed]",
      "text/plain": [
       "<Figure size 330x250 with 3 Axes>"
      ]
     },
     "metadata": {},
     "output_type": "display_data"
    }
   ],
   "source": [
    "P = data[0][0]['SSCDP30-9']/1000\n",
    "t = data[0][0]['Time']\n",
    "Q = data[0][0]['flowFesto-1']\n",
    "digout = data[0][0]['DigOut-1']\n",
    "\n",
    "\n",
    "ax1=plt.subplot(311)\n",
    "plt.plot(t,P)\n",
    "\n",
    "plt.ylabel('Pressure [$kPa$]')\n",
    "\n",
    "ax2 = plt.subplot(312,sharex=ax1)\n",
    "plt.plot(t,Q)\n",
    "plt.xlabel('Time[$s$]')\n",
    "plt.ylabel('Flow [$SLPM$]')\n",
    "\n",
    "\n",
    "ax3 = plt.subplot(313,sharex=ax1)\n",
    "plt.plot(t,digout)\n",
    "\n",
    "plt.show()"
   ]
  },
  {
   "cell_type": "markdown",
   "metadata": {},
   "source": [
    "Prepare data: slice per run"
   ]
  },
  {
   "cell_type": "code",
   "execution_count": 5,
   "metadata": {},
   "outputs": [
    {
     "name": "stdout",
     "output_type": "stream",
     "text": [
      "0\n",
      "1\n",
      "2\n",
      "3\n"
     ]
    }
   ],
   "source": [
    "# Slice data per run \n",
    "data_sliced = []\n",
    "for index,value in enumerate(data[0]):\n",
    "    runs = [] # new list for all the runs in data[0]\n",
    "    start = 0\n",
    "    run_count = 1  # Counter for run number\n",
    "\n",
    "    df = data[0][index]\n",
    "    print(index)\n",
    "\n",
    "    P = data[0][index]['SSCDP30-9']\n",
    "    t = data[0][index]['Time']\n",
    "    Q = data[0][index]['flowFesto-1']\n",
    "    dig_out = data[0][index]['DigOut-1']  \n",
    "   \n",
    "\n",
    "    while start < len(data[0][index]['DigOut-1']):\n",
    "        # Find the next '1' in 'DigOut-1' starting from 'start'.\n",
    "        next_ones = np.where(dig_out[start:] == 1)[0]\n",
    "        if next_ones.size == 0:  # If there are no more '1's, exit the loop.\n",
    "            break\n",
    "        start += next_ones[0]  # Adjust 'start' to the new index.\n",
    "\n",
    "        # Find the next '0' in 'DigOut-1' starting from the new 'start'.\n",
    "        next_zeros = np.where(dig_out[start:] == 0)[0]\n",
    "        if next_zeros.size == 0:  # If there are no '0's following the '1's, take the rest of the array.\n",
    "            end = len(dig_out)\n",
    "        else:\n",
    "            end = start + next_zeros[0]  # Adjust 'end' to the new index.\n",
    "        \n",
    "        \n",
    "      \n",
    "        # Create a DataFrame for this run\n",
    "        run_df = pd.DataFrame({\n",
    "            'Time': t[start:end]-t[start], \n",
    "            'Flow': Q[start:end],\n",
    "            'Pressure': P[start:end]/1000   \n",
    "        })\n",
    "\n",
    "        # Append this DataFrame to the list\n",
    "        runs.append(run_df)   \n",
    "\n",
    "        start = end + 5  # Move to next segment\n",
    "        run_count += 1  # Increment run counter\n",
    "\n",
    "   \n",
    "    data_sliced.append(runs)\n",
    "   \n",
    "\n"
   ]
  },
  {
   "cell_type": "code",
   "execution_count": 6,
   "metadata": {},
   "outputs": [],
   "source": [
    "# Butterworth filter design\n",
    "def butter_lowpass(cutoff, fs, order=5):\n",
    "    nyq = 0.5 * fs\n",
    "    normal_cutoff = cutoff / nyq\n",
    "    b, a = butter(order, normal_cutoff, btype='low', analog=False)\n",
    "    return b, a\n",
    "\n",
    "def butter_lowpass_filter(data, cutoff, fs, order=5):\n",
    "    b, a = butter_lowpass(cutoff, fs, order=order)\n",
    "    y = filtfilt(b, a, data)\n",
    "    return y\n",
    "\n",
    "# Function for moving average smoothing\n",
    "def moving_average(data, window_size):\n",
    "    return np.convolve(data, np.ones(window_size)/window_size, mode='same')\n",
    "\n",
    "\n"
   ]
  },
  {
   "cell_type": "code",
   "execution_count": 7,
   "metadata": {},
   "outputs": [
    {
     "name": "stdout",
     "output_type": "stream",
     "text": [
      "493\n"
     ]
    },
    {
     "data": {
      "text/plain": [
       "49.16234543278819"
      ]
     },
     "execution_count": 7,
     "metadata": {},
     "output_type": "execute_result"
    },
    {
     "data": {
      "image/png": "[encoded data removed]",
      "text/plain": [
       "<Figure size 330x250 with 1 Axes>"
      ]
     },
     "metadata": {},
     "output_type": "display_data"
    }
   ],
   "source": [
    "len(data_sliced[0])\n",
    "data_sliced[0][0]\n",
    "plt.plot(data_sliced[0][-1][\"Time\"],data_sliced[0][-1][\"Pressure\"])\n",
    "np.mean(data_sliced[0][-1][\"Flow\"])\n",
    "\n",
    "peaks,_ = find_peaks(data_sliced[0][-1][\"Pressure\"])\n",
    "n_peaks=len(peaks)\n",
    "print(n_peaks)\n",
    "len(data_sliced[0][-1][\"Time\"]/1000)\n",
    "measurement_t = len(data_sliced[0][-1][\"Time\"])/1000\n",
    "f = n_peaks/measurement_t \n",
    "f"
   ]
  },
  {
   "cell_type": "code",
   "execution_count": 10,
   "metadata": {},
   "outputs": [
    {
     "name": "stdout",
     "output_type": "stream",
     "text": [
      "figures/\n"
     ]
    },
    {
     "data": {
      "image/png": "[encoded data removed]",
      "text/plain": [
       "<Figure size 800x400 with 1 Axes>"
      ]
     },
     "metadata": {},
     "output_type": "display_data"
    }
   ],
   "source": [
    "# Define sampling rate and cutoff frequency\n",
    "fs = 1000  # example sampling rate\n",
    "cutoff = 150  # cutoff frequency in Hz for low-pass filter\n",
    "\n",
    "# Window size for smoothing\n",
    "window_size = 100 \n",
    "\n",
    "plt.figure(figsize=(8, 4))\n",
    "\n",
    "Q_mean = []\n",
    "f=[]\n",
    "results = []\n",
    "\n",
    "for index, runs_data in enumerate(data_sliced):\n",
    "    Q_mean = []\n",
    "    f=[]\n",
    "    for i,run_data in enumerate(runs_data):\n",
    "        #print(i,run_data)\n",
    "        time = run_data[\"Time\"]\n",
    "        P_raw = run_data[\"Pressure\"]\n",
    "        \n",
    "        \n",
    "        # Filter the signal\n",
    "        filtered_pressure = butter_lowpass_filter(P_raw, cutoff, fs)\n",
    "        P = moving_average(filtered_pressure,window_size)\n",
    "\n",
    "        # Find peaks with dynamic thresholding and minimum distance\n",
    "        peaks, _ = find_peaks(P,height=40)\n",
    "        n_peaks = len(peaks)\n",
    "\n",
    "    \n",
    "        measurement_t = len(run_data[\"Time\"])/1000\n",
    "        f.append(n_peaks/measurement_t )\n",
    "\n",
    "\n",
    "    # Correct usage of np.round and np.mean for labeling\n",
    "        mean_flow = np.round(np.mean(run_data[\"Flow\"]), 2)\n",
    "        Q_mean.append(mean_flow)\n",
    "\n",
    "    # zip and store results \n",
    "    results.append(zip(f,Q_mean))\n",
    "    plt.plot(Q_mean,f,label=Sample_names[index],marker='x')\n",
    "\n",
    "#plt.title('Current actuator welding method')\n",
    "plt.xlabel(\"Q [$SLPM$]\")\n",
    "plt.ylabel(\"Frequency [$Hz$]\")\n",
    "plt.legend(title='Width [$mm$]')\n",
    "save_plot('alberto_boundary')\n",
    "#plt.show()\n",
    "\n"
   ]
  },
  {
   "cell_type": "markdown",
   "metadata": {},
   "source": [
    "Extract opening and closing pressure"
   ]
  },
  {
   "cell_type": "markdown",
   "metadata": {},
   "source": [
    "Results"
   ]
  }
 ],
 "metadata": {
  "kernelspec": {
   "display_name": "base",
   "language": "python",
   "name": "python3"
  },
  "language_info": {
   "codemirror_mode": {
    "name": "ipython",
    "version": 3
   },
   "file_extension": ".py",
   "mimetype": "text/x-python",
   "name": "python",
   "nbconvert_exporter": "python",
   "pygments_lexer": "ipython3",
   "version": "3.11.6"
  },
  "orig_nbformat": 4
 },
 "nbformat": 4,
 "nbformat_minor": 2
}
