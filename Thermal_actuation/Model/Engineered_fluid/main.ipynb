{
 "cells": [
  {
   "cell_type": "code",
   "execution_count": 1,
   "metadata": {},
   "outputs": [],
   "source": [
    "import pandas as pd\n",
    "\n",
    "import numpy as np\n",
    "import seaborn as sns\n",
    "import matplotlib.pyplot as plt\n",
    "import math\n",
    "import scienceplots\n",
    "plt.style.use(['science','nature','no-latex','vibrant'])\n",
    "import scipy.constants as const\n",
    "\n",
    "#Import personal functions\n",
    "import sys\n",
    "#sys.path.append(\"C:/Users/Olivi/OneDrive - TU Eindhoven/Soft robotic matter/GitHub/Thermal_Soft_Robotics/Functions\")\n",
    "#sys.path.append(\"//sun/overvelde/group-folder/PROJECTS/Thermal_soft_robotics_Olivier/Git/Thermal_Soft_Robotics/Functions\")\n",
    "sys.path.append(\"C:/Users/Olivi/Documents/Git/SoRoMa/Thermal_Soft_Robotics_data/Functions\")\n",
    "import FluidicSetupFunctions\n",
    "from save_plot_func import save_plot"
   ]
  },
  {
   "cell_type": "code",
   "execution_count": 2,
   "metadata": {},
   "outputs": [],
   "source": [
    "# Novec 7000 properties\n",
    "name = 7000\n",
    "M = 200 # g/mol\n",
    "boiling_point = 273+34 # K at 1 atm \n",
    "T = np.linspace(-20,100,1000)+273\n",
    "Vapor_pressure = np.exp(-3548.6/T+22.978) # pa \n",
    "critical_pressure = 2.48e6\n",
    "rho = 1400 # kg/m3\n",
    "latent_heat = 142 # kJ/kg (heat to convert liquid to gas at boiling point)\n",
    "\n",
    "c = 1300 # specific heat [j/(kg K)]\n",
    "k = 0.075 # Thermal conductivity [w/(m*K)]\n",
    "\n"
   ]
  },
  {
   "cell_type": "code",
   "execution_count": 3,
   "metadata": {},
   "outputs": [],
   "source": [
    "# #Novec 7100\n",
    "# name=7100\n",
    "\n",
    "# # Novec 7000 properties\n",
    "# M = 250 # g/mol\n",
    "# boiling_point = 273+61 # K at 1 atm \n",
    "# T = np.linspace(-120,100,1000)+273\n",
    "# #Vapor_pressure = 27e3 # pa \n",
    "# critical_pressure = 2.48e6\n",
    "# rho = 1520 # kg/m3\n",
    "# latent_heat = 152 # kJ/kg (heat to convert liquid to gas at boiling point)\n",
    "\n",
    "# c = 1300 # specific heat [j/(kg K)]\n",
    "# k = 0.075 # Thermal conductivity [w/(m*K)]\n"
   ]
  },
  {
   "cell_type": "code",
   "execution_count": 4,
   "metadata": {},
   "outputs": [],
   "source": [
    "V = 0.525e-3\n",
    "R = 8.314"
   ]
  },
  {
   "cell_type": "code",
   "execution_count": 16,
   "metadata": {},
   "outputs": [],
   "source": [
    "\n",
    "\n",
    "#n_plot"
   ]
  },
  {
   "cell_type": "code",
   "execution_count": 19,
   "metadata": {},
   "outputs": [
    {
     "ename": "IndexError",
     "evalue": "invalid index to scalar variable.",
     "output_type": "error",
     "traceback": [
      "\u001b[1;31m---------------------------------------------------------------------------\u001b[0m",
      "\u001b[1;31mIndexError\u001b[0m                                Traceback (most recent call last)",
      "Cell \u001b[1;32mIn[19], line 15\u001b[0m\n\u001b[0;32m     13\u001b[0m \u001b[38;5;28;01mfor\u001b[39;00m ii \u001b[38;5;129;01min\u001b[39;00m \u001b[38;5;28mrange\u001b[39m(\u001b[38;5;28mlen\u001b[39m(P_mass)):\n\u001b[0;32m     14\u001b[0m     idx \u001b[38;5;241m=\u001b[39m (np\u001b[38;5;241m.\u001b[39mabs(T \u001b[38;5;241m-\u001b[39m (x_label_pos \u001b[38;5;241m+\u001b[39m \u001b[38;5;241m273\u001b[39m)))\u001b[38;5;241m.\u001b[39margmin()\n\u001b[1;32m---> 15\u001b[0m     y_label_pos \u001b[38;5;241m=\u001b[39m \u001b[43mP_mass\u001b[49m\u001b[43m[\u001b[49m\u001b[43mii\u001b[49m\u001b[43m]\u001b[49m\u001b[43m[\u001b[49m\u001b[43midx\u001b[49m\u001b[43m]\u001b[49m \u001b[38;5;241m/\u001b[39m \u001b[38;5;241m1000\u001b[39m \n\u001b[0;32m     17\u001b[0m     plt\u001b[38;5;241m.\u001b[39mplot(T\u001b[38;5;241m-\u001b[39m\u001b[38;5;241m273\u001b[39m,P_mass[ii]\u001b[38;5;241m/\u001b[39m\u001b[38;5;241m1000\u001b[39m,linestyle\u001b[38;5;241m=\u001b[39m\u001b[38;5;124m'\u001b[39m\u001b[38;5;124m--\u001b[39m\u001b[38;5;124m'\u001b[39m)\n\u001b[0;32m     18\u001b[0m     plt\u001b[38;5;241m.\u001b[39mtext(x_label_pos, y_label_pos, \u001b[38;5;28mstr\u001b[39m(m_plot[ii])\u001b[38;5;241m+\u001b[39m \u001b[38;5;124m'\u001b[39m\u001b[38;5;124m [$g$]\u001b[39m\u001b[38;5;124m'\u001b[39m, verticalalignment\u001b[38;5;241m=\u001b[39m\u001b[38;5;124m'\u001b[39m\u001b[38;5;124mbottom\u001b[39m\u001b[38;5;124m'\u001b[39m, horizontalalignment\u001b[38;5;241m=\u001b[39m\u001b[38;5;124m'\u001b[39m\u001b[38;5;124mright\u001b[39m\u001b[38;5;124m'\u001b[39m)\n",
      "\u001b[1;31mIndexError\u001b[0m: invalid index to scalar variable."
     ]
    },
    {
     "data": {
      "text/plain": [
       "<Figure size 400x400 with 0 Axes>"
      ]
     },
     "metadata": {},
     "output_type": "display_data"
    }
   ],
   "source": [
    "m_plot = [1,2,3]\n",
    "n_plot = np.divide(m_plot,M)\n",
    "\n",
    "P_mass= []\n",
    "\n",
    "for i in range(len(n_plot)):\n",
    "    pressure = n_plot[i]*R*T/V\n",
    "    P_mass.append(pressure)\n",
    "\n",
    "\n",
    "plt.figure(figsize=(4,4))\n",
    "x_label_pos = 80 \n",
    "for ii in range(len(P_mass)):\n",
    "    idx = (np.abs(T - (x_label_pos + 273))).argmin()\n",
    "    y_label_pos = P_mass[ii][idx] / 1000 \n",
    "\n",
    "    plt.plot(T-273,P_mass[ii]/1000,linestyle='--')\n",
    "    plt.text(x_label_pos, y_label_pos, str(m_plot[ii])+ ' [$g$]', verticalalignment='bottom', horizontalalignment='right')\n",
    "\n",
    "plt.plot(T-273,Vapor_pressure/1000,label='$P_{vapor}$')\n",
    "#plt.axhline(Vapor_pressure/1000,label=\"$P_{vapor}$\",color = 'red')\n",
    "plt.axvline(boiling_point-273)\n",
    "plt.text(boiling_point-273-1, 20, '$T_{boil}$', verticalalignment='bottom', horizontalalignment='right')\n",
    "\n",
    "plt.axvspan(-10,boiling_point-273,color='grey',alpha=0.5,label='Liquid phase')\n",
    "\n",
    "\n",
    "plt.xlim(-10,100)\n",
    "plt.ylim(0,200)\n",
    "plt.legend()\n",
    "plt.ylabel('Pressure [$kPa$]')\n",
    "plt.xlabel('Temperature [$^\\circ C$]')\n",
    "plt.title(f'Maximum pressure as function of the mass Novec {name}, with V = {V*1000}L')\n"
   ]
  },
  {
   "cell_type": "code",
   "execution_count": 8,
   "metadata": {},
   "outputs": [
    {
     "data": {
      "text/plain": [
       "<matplotlib.legend.Legend at 0x1ef3b0d0a10>"
      ]
     },
     "execution_count": 8,
     "metadata": {},
     "output_type": "execute_result"
    },
    {
     "data": {
      "image/png": "[encoded data removed]",
      "text/plain": [
       "<Figure size 330x250 with 1 Axes>"
      ]
     },
     "metadata": {},
     "output_type": "display_data"
    }
   ],
   "source": [
    "plt.title('Vapor pressure')\n",
    "plt.semilogy(T-273,Vapor_pressure,label='$P_{vapor}$')\n",
    "plt.xlabel('Vapor pressure [$pa$]')\n",
    "\n",
    "plt.xlabel('Temperature [$^\\circ C$]')\n",
    "plt.legend()"
   ]
  },
  {
   "cell_type": "code",
   "execution_count": 9,
   "metadata": {},
   "outputs": [],
   "source": [
    "V = 1.5e-3\n",
    "P = np.linspace(0.1,1,100)*1e5\n",
    "P_amb = 1e5\n",
    "T = 303 # K\n",
    "R = 8.314\n",
    "\n",
    "\n",
    "n = (P+P_amb)*V/(R*T)\n",
    "m = n*M\n",
    "V_liquid = m*rho/1000\n",
    "#print('Mass needed to reach', P/1000, '[kPa] is', m, '[g]')"
   ]
  },
  {
   "cell_type": "code",
   "execution_count": 10,
   "metadata": {},
   "outputs": [
    {
     "data": {
      "text/plain": [
       "<matplotlib.legend.Legend at 0x1ef3b2d7f90>"
      ]
     },
     "execution_count": 10,
     "metadata": {},
     "output_type": "execute_result"
    },
    {
     "data": {
      "image/png": "[encoded data removed]",
      "text/plain": [
       "<Figure size 330x250 with 1 Axes>"
      ]
     },
     "metadata": {},
     "output_type": "display_data"
    }
   ],
   "source": [
    "plt.plot(P/1000,V_liquid,label='Novec 7000')\n",
    "plt.title(f\"Pressure in V = {V*1000} [$L$] if all liquid evaparotes\")\n",
    "plt.xlabel('Desired P [$kPa$]')\n",
    "plt.ylabel('Volume [$cm^3$]')\n",
    "plt.legend()"
   ]
  },
  {
   "cell_type": "code",
   "execution_count": 11,
   "metadata": {},
   "outputs": [
    {
     "name": "stderr",
     "output_type": "stream",
     "text": [
      "C:\\Users\\Olivi\\AppData\\Local\\Temp\\ipykernel_22852\\77939429.py:8: RuntimeWarning: divide by zero encountered in divide\n",
      "  V  = w**3*((h/(np.pi*w)-0.142*(1-10**(-h/w))))\n",
      "C:\\Users\\Olivi\\AppData\\Local\\Temp\\ipykernel_22852\\77939429.py:8: RuntimeWarning: invalid value encountered in multiply\n",
      "  V  = w**3*((h/(np.pi*w)-0.142*(1-10**(-h/w))))\n"
     ]
    },
    {
     "data": {
      "text/plain": [
       "<matplotlib.legend.Legend at 0x1ef3b470a10>"
      ]
     },
     "execution_count": 11,
     "metadata": {},
     "output_type": "execute_result"
    },
    {
     "data": {
      "image/png": "[encoded data removed]",
      "text/plain": [
       "<Figure size 330x250 with 1 Axes>"
      ]
     },
     "metadata": {},
     "output_type": "display_data"
    }
   ],
   "source": [
    "## Teabag problem \n",
    "# https://en.wikipedia.org/wiki/Paper_bag_problem\n",
    "# Dimensions bottel = 27 * 7.5 cm (LxD)\n",
    "\n",
    "w = np.linspace(0,300,100)*1e-3\n",
    "h = 0.1 # m\n",
    "\n",
    "V  = w**3*((h/(np.pi*w)-0.142*(1-10**(-h/w))))\n",
    "\n",
    "plt.plot(w*1000,V*1000, label='Volume pouch')\n",
    "plt.title(f'Volume for fixed diameter {h} [$m$]')\n",
    "plt.ylabel('Volume [$L$]')\n",
    "plt.xlabel('Width [$mm$]')\n",
    "plt.axvline(270, label = 'Length 1L bottle ', color='red')\n",
    "plt.axvline(210, label = 'fab limit', color='blue')\n",
    "plt.axhline(0.5, label = '0.5 [$L$]', color='blue', linestyle='--')\n",
    "plt.axhline(0.25, label = '0.5 [$L$]', color='blue', linestyle='--')\n",
    "plt.axhline(0.17, label = '0.5 [$L$]', color='blue', linestyle='--')\n",
    "plt.legend()\n"
   ]
  },
  {
   "cell_type": "code",
   "execution_count": 12,
   "metadata": {},
   "outputs": [
    {
     "data": {
      "text/plain": [
       "[<matplotlib.lines.Line2D at 0x1ef3b546ad0>]"
      ]
     },
     "execution_count": 12,
     "metadata": {},
     "output_type": "execute_result"
    },
    {
     "data": {
      "image/png": "[encoded data removed]",
      "text/plain": [
       "<Figure size 330x250 with 1 Axes>"
      ]
     },
     "metadata": {},
     "output_type": "display_data"
    }
   ],
   "source": [
    "m = np.linspace(0,10,100)\n",
    "n = m/M\n",
    "P_amb = 1e5\n",
    "T_oven = 50+273\n",
    "V= n*R*T_oven/P_amb\n",
    "\n",
    "plt.plot(m,V*1000)"
   ]
  },
  {
   "cell_type": "code",
   "execution_count": 13,
   "metadata": {},
   "outputs": [
    {
     "data": {
      "text/plain": [
       "1.8618011616864198"
      ]
     },
     "execution_count": 13,
     "metadata": {},
     "output_type": "execute_result"
    }
   ],
   "source": [
    "# Ideal amount of liquid \n",
    "V = 0.5e-3 #L \n",
    "P_desired = 50e3 # Pa\n",
    "T_oven = 50+273 # K\n",
    "R = const.R\n",
    "M = 200 # g/mol\n",
    "\n",
    "n = P_desired*V/(R*T_oven)\n",
    "m = n*M\n",
    "m"
   ]
  }
 ],
 "metadata": {
  "kernelspec": {
   "display_name": "Python 3",
   "language": "python",
   "name": "python3"
  },
  "language_info": {
   "codemirror_mode": {
    "name": "ipython",
    "version": 3
   },
   "file_extension": ".py",
   "mimetype": "text/x-python",
   "name": "python",
   "nbconvert_exporter": "python",
   "pygments_lexer": "ipython3",
   "version": "3.11.4"
  }
 },
 "nbformat": 4,
 "nbformat_minor": 2
}
