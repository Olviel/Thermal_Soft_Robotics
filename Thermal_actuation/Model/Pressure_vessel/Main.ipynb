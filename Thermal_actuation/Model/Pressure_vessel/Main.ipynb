{
 "cells": [
  {
   "cell_type": "code",
   "execution_count": 5,
   "metadata": {},
   "outputs": [],
   "source": [
    "import numpy as np\n",
    "import pandas as pd\n",
    "\n",
    "import matplotlib.pyplot as plt\n",
    "import matplotlib.dates as mdates\n",
    "\n",
    "from scipy import constants \n",
    "from scipy.interpolate import CubicSpline\n",
    "from scipy.integrate import solve_ivp\n",
    "from scipy.interpolate import interp1d\n",
    "from scipy.interpolate import UnivariateSpline\n",
    "\n",
    "import seaborn as sns\n",
    "import itertools\n",
    "from compute_alpha_hour import compute_alpha_hour\n",
    "from joblib import load\n",
    "from joblib import dump\n",
    "import datetime\n",
    "\n",
    "import scienceplots\n",
    "plt.style.use(['science','nature','no-latex','vibrant'])\n",
    "\n",
    "\n",
    "\n",
    "\n",
    "#Import personal functions\n",
    "import sys\n",
    "#sys.path.append(\"C:/Users/Olivi/OneDrive - TU Eindhoven/Soft robotic matter/GitHub/Thermal_Soft_Robotics/Functions\")\n",
    "sys.path.append(\"//sun/overvelde/group-folder/PROJECTS/Thermal_soft_robotics_Olivier/Git/Thermal_Soft_Robotics/Functions\")\n",
    "from save_plot_func import save_plot\n",
    "from pathlib import Path\n"
   ]
  },
  {
   "cell_type": "code",
   "execution_count": 11,
   "metadata": {},
   "outputs": [
    {
     "name": "stdout",
     "output_type": "stream",
     "text": [
      "\\\\sun\\overvelde\\group-folder\\PROJECTS\\Thermal_soft_robotics_Olivier\\Git\\Thermal_Soft_Robotics\\Thermal_actuation\\Model\\Pressure_vessel\\Meteo_data\\Weather_data_2023_7_8_n1.csv\n"
     ]
    },
    {
     "data": {
      "text/html": [
       "<div>\n",
       "<style scoped>\n",
       "    .dataframe tbody tr th:only-of-type {\n",
       "        vertical-align: middle;\n",
       "    }\n",
       "\n",
       "    .dataframe tbody tr th {\n",
       "        vertical-align: top;\n",
       "    }\n",
       "\n",
       "    .dataframe thead th {\n",
       "        text-align: right;\n",
       "    }\n",
       "</style>\n",
       "<table border=\"1\" class=\"dataframe\">\n",
       "  <thead>\n",
       "    <tr style=\"text-align: right;\">\n",
       "      <th></th>\n",
       "      <th>t</th>\n",
       "      <th>T_amb</th>\n",
       "      <th>P_amb</th>\n",
       "      <th>v_wind</th>\n",
       "      <th>P_sun</th>\n",
       "    </tr>\n",
       "  </thead>\n",
       "  <tbody>\n",
       "    <tr>\n",
       "      <th>0</th>\n",
       "      <td>0.0</td>\n",
       "      <td>292.200000</td>\n",
       "      <td>101790.000000</td>\n",
       "      <td>1.141151</td>\n",
       "      <td>0.0</td>\n",
       "    </tr>\n",
       "    <tr>\n",
       "      <th>1</th>\n",
       "      <td>1.0</td>\n",
       "      <td>292.199833</td>\n",
       "      <td>101789.988889</td>\n",
       "      <td>1.141151</td>\n",
       "      <td>0.0</td>\n",
       "    </tr>\n",
       "    <tr>\n",
       "      <th>2</th>\n",
       "      <td>2.0</td>\n",
       "      <td>292.199667</td>\n",
       "      <td>101789.977778</td>\n",
       "      <td>1.141151</td>\n",
       "      <td>0.0</td>\n",
       "    </tr>\n",
       "    <tr>\n",
       "      <th>3</th>\n",
       "      <td>3.0</td>\n",
       "      <td>292.199500</td>\n",
       "      <td>101789.966667</td>\n",
       "      <td>1.141151</td>\n",
       "      <td>0.0</td>\n",
       "    </tr>\n",
       "    <tr>\n",
       "      <th>4</th>\n",
       "      <td>4.0</td>\n",
       "      <td>292.199333</td>\n",
       "      <td>101789.955556</td>\n",
       "      <td>1.141151</td>\n",
       "      <td>0.0</td>\n",
       "    </tr>\n",
       "    <tr>\n",
       "      <th>...</th>\n",
       "      <td>...</td>\n",
       "      <td>...</td>\n",
       "      <td>...</td>\n",
       "      <td>...</td>\n",
       "      <td>...</td>\n",
       "    </tr>\n",
       "    <tr>\n",
       "      <th>86396</th>\n",
       "      <td>86396.0</td>\n",
       "      <td>296.400000</td>\n",
       "      <td>101710.000000</td>\n",
       "      <td>1.033567</td>\n",
       "      <td>0.0</td>\n",
       "    </tr>\n",
       "    <tr>\n",
       "      <th>86397</th>\n",
       "      <td>86397.0</td>\n",
       "      <td>296.400000</td>\n",
       "      <td>101710.000000</td>\n",
       "      <td>1.033567</td>\n",
       "      <td>0.0</td>\n",
       "    </tr>\n",
       "    <tr>\n",
       "      <th>86398</th>\n",
       "      <td>86398.0</td>\n",
       "      <td>296.400000</td>\n",
       "      <td>101710.000000</td>\n",
       "      <td>1.033567</td>\n",
       "      <td>0.0</td>\n",
       "    </tr>\n",
       "    <tr>\n",
       "      <th>86399</th>\n",
       "      <td>86399.0</td>\n",
       "      <td>296.400000</td>\n",
       "      <td>101710.000000</td>\n",
       "      <td>1.033567</td>\n",
       "      <td>0.0</td>\n",
       "    </tr>\n",
       "    <tr>\n",
       "      <th>86400</th>\n",
       "      <td>86400.0</td>\n",
       "      <td>296.400000</td>\n",
       "      <td>101710.000000</td>\n",
       "      <td>1.033567</td>\n",
       "      <td>0.0</td>\n",
       "    </tr>\n",
       "  </tbody>\n",
       "</table>\n",
       "<p>86401 rows × 5 columns</p>\n",
       "</div>"
      ],
      "text/plain": [
       "             t       T_amb          P_amb    v_wind  P_sun\n",
       "0          0.0  292.200000  101790.000000  1.141151    0.0\n",
       "1          1.0  292.199833  101789.988889  1.141151    0.0\n",
       "2          2.0  292.199667  101789.977778  1.141151    0.0\n",
       "3          3.0  292.199500  101789.966667  1.141151    0.0\n",
       "4          4.0  292.199333  101789.955556  1.141151    0.0\n",
       "...        ...         ...            ...       ...    ...\n",
       "86396  86396.0  296.400000  101710.000000  1.033567    0.0\n",
       "86397  86397.0  296.400000  101710.000000  1.033567    0.0\n",
       "86398  86398.0  296.400000  101710.000000  1.033567    0.0\n",
       "86399  86399.0  296.400000  101710.000000  1.033567    0.0\n",
       "86400  86400.0  296.400000  101710.000000  1.033567    0.0\n",
       "\n",
       "[86401 rows x 5 columns]"
      ]
     },
     "execution_count": 11,
     "metadata": {},
     "output_type": "execute_result"
    }
   ],
   "source": [
    "# Load weather data \n",
    "\n",
    "# Define the network location and the rest of the path components\n",
    "network_location = r\"\\\\sun\\overvelde\"\n",
    "path_components = [\"group-folder\", \"PROJECTS\", \"Thermal_soft_robotics_Olivier\", \"Git\", \"Thermal_Soft_Robotics\", \"Thermal_actuation\", \"Model\", \"Pressure_vessel\", \"Meteo_data\"]\n",
    "folder = \"Weather_data_2023_7_8_n1.csv\"\n",
    "\n",
    "# Combine the network location and path components into a Path object\n",
    "file_path = Path(network_location, *path_components,folder)\n",
    "print(file_path)\n",
    "\n",
    "# specify the file path (use the actual path on your system)\n",
    "#file_path = 'Meteo_data/Weather_data_2023_7_8_n1'\n",
    "\n",
    "# read the CSV file into a DataFrame\n",
    "df = pd.read_csv(file_path) #Data in seconds, T in K and P in Pa, windspeed in m/s, 0.1 meter above the ground\n",
    "\n",
    "# Set time period\n",
    "n_days = int(str(folder[-5])) #Extract how many days are simulated in the file\n",
    "df"
   ]
  },
  {
   "cell_type": "code",
   "execution_count": 12,
   "metadata": {},
   "outputs": [],
   "source": [
    "smoothing_factor=1\n",
    "t=range(len(df['t']))\n",
    "T_amb_spline = UnivariateSpline(df['t'], df['T_amb'], s=smoothing_factor)\n",
    "P_amb_spline = UnivariateSpline(df['t'], df['P_amb'], s=smoothing_factor)\n",
    "P_sun_spline = UnivariateSpline(df['t'], df['P_sun'], s=smoothing_factor)"
   ]
  },
  {
   "cell_type": "code",
   "execution_count": 13,
   "metadata": {},
   "outputs": [
    {
     "data": {
      "image/png": "[encoded data removed]",
      "text/plain": [
       "<Figure size 330x250 with 1 Axes>"
      ]
     },
     "metadata": {},
     "output_type": "display_data"
    },
    {
     "data": {
      "image/png": "[encoded data removed]",
      "text/plain": [
       "<Figure size 330x250 with 1 Axes>"
      ]
     },
     "metadata": {},
     "output_type": "display_data"
    },
    {
     "data": {
      "image/png": "[encoded data removed]",
      "text/plain": [
       "<Figure size 330x250 with 1 Axes>"
      ]
     },
     "metadata": {},
     "output_type": "display_data"
    }
   ],
   "source": [
    "plt.plot(t,T_amb_spline(t))\n",
    "plt.show()\n",
    "plt.plot(t,P_amb_spline(t))\n",
    "plt.show()\n",
    "plt.plot(t,P_sun_spline(t))\n",
    "plt.show()"
   ]
  },
  {
   "cell_type": "code",
   "execution_count": null,
   "metadata": {},
   "outputs": [
    {
     "name": "stdout",
     "output_type": "stream",
     "text": [
      "Variable             Type                Data/Info\n",
      "--------------------------------------------------\n",
      "CubicSpline          type                <class 'scipy.interpolate._cubic.CubicSpline'>\n",
      "P_amb_spline         UnivariateSpline    <scipy.interpolate._fitpa<...>ct at 0x000001B7C77E7110>\n",
      "P_sun_spline         UnivariateSpline    <scipy.interpolate._fitpa<...>ct at 0x000001B7C77E72D0>\n",
      "T_amb_spline         UnivariateSpline    <scipy.interpolate._fitpa<...>ct at 0x000001B7C77E7010>\n",
      "UnivariateSpline     type                <class 'scipy.interpolate<...>tpack2.UnivariateSpline'>\n",
      "compute_alpha_hour   function            <function compute_alpha_h<...>ur at 0x000001B7C656C720>\n",
      "constants            module              <module 'scipy.constants'<...>\\constants\\\\__init__.py'>\n",
      "datetime             module              <module 'datetime' from '<...>ra8p0\\\\Lib\\\\datetime.py'>\n",
      "df                   DataFrame                               t    <...>[432005 rows x 5 columns]\n",
      "dump                 function            <function dump at 0x000001B7C76C23E0>\n",
      "file_path            str                 Meteo_data/Weather_data_2023_7_6_n5.csv\n",
      "interp1d             type                <class 'scipy.interpolate._interpolate.interp1d'>\n",
      "itertools            module              <module 'itertools' (built-in)>\n",
      "load                 function            <function load at 0x000001B7C76ED9E0>\n",
      "mdates               module              <module 'matplotlib.dates<...>s\\\\matplotlib\\\\dates.py'>\n",
      "n_days               int                 5\n",
      "np                   module              <module 'numpy' from 'C:\\<...>ges\\\\numpy\\\\__init__.py'>\n",
      "pd                   module              <module 'pandas' from 'C:<...>es\\\\pandas\\\\__init__.py'>\n",
      "plt                  module              <module 'matplotlib.pyplo<...>\\\\matplotlib\\\\pyplot.py'>\n",
      "smoothing_factor     int                 1\n",
      "sns                  module              <module 'seaborn' from 'C<...>s\\\\seaborn\\\\__init__.py'>\n",
      "solve_ivp            function            <function solve_ivp at 0x000001B7C65D0E00>\n",
      "t                    range               range(0, 432005)\n"
     ]
    }
   ],
   "source": [
    "%whos"
   ]
  },
  {
   "cell_type": "markdown",
   "metadata": {},
   "source": [
    "Simulation variables"
   ]
  },
  {
   "cell_type": "code",
   "execution_count": 14,
   "metadata": {},
   "outputs": [],
   "source": [
    "#Vessel variables\n",
    "#rho_vessel = 2.7e3 # aluminium [kg/m3]\n",
    "rho_vessel = 1.455e3 # Pet [kg/m3] Source: https://plasticranger.com/density-of-pet-plastic/#:~:text=The%20density%20of%20PET%20plastic%20is%201.38%20g%2Fcm%C2%B3%20and,(1.2%20g%2Fcm3).\n",
    "t_vessel = 0.5e-3 # Thickness [m]\n",
    "#c_vessel = 890 #J/kg aluminium\n",
    "c_vessel = 1030 #J/kg Pet Source: https://www.engineeringtoolbox.com/specific-heat-polymers-d_1862.html\n",
    "\n",
    "#Assumptions\n",
    "A_factor=0.5 #Assume half of the area of the vessel is exposed to sunlight \n",
    "e = 0.9 # emissvity factor black epoxy\n",
    "alpha=100#[W/M^2K] Convection heat transfer coeficient\n",
    "P_crit=1e3 #[pa] critical pressure where the hysterical valve opens\n",
    "cloud_factor = np.linspace(0.1,1,2) # 1 = sunny, 0 = dark \n"
   ]
  },
  {
   "cell_type": "markdown",
   "metadata": {},
   "source": [
    "Simulation constants"
   ]
  },
  {
   "cell_type": "code",
   "execution_count": 15,
   "metadata": {},
   "outputs": [],
   "source": [
    "#Vessel properties \n",
    "D = np.linspace(0.05,0.3,2) #Diameter vessel\n",
    "L = np.linspace(0.05,0.3,2) #Lenght vessel\n",
    "\n",
    "# Create a 2-D grid for D and L\n",
    "D, L = np.meshgrid(D, L)\n",
    "\n",
    "# Now D and L are 2-D arrays containing all combinations of diameter and length\n",
    "V = D**2/4*np.pi*L  # [m^3]\n",
    "A = D*L + D**2/4*np.pi  # [m^2]\n",
    "\n",
    "#Air \n",
    "rho_air=1.293 #kgm-3 \n",
    "m_air = rho_air*V #[kg]\n",
    "R = constants.R #J/K*molz ideal gas constant \n",
    "c_air = 718 #j/kg K constant volume\n",
    "n_mass = 28.96747 #molar mass [g/mol]\n",
    "n = m_air/n_mass #Amount of mol air \n",
    "sigma = constants.sigma #Boltzman constant \n",
    "\n",
    "cp = 1000 #J/kgK @ 300 K\n",
    "cv = 718 #J/kgK @ 300k\n",
    "y = cp/cv \n",
    "K = 273.15 #Kelvin \n",
    "\n",
    "#Combined properties\n",
    "m_vessel = A*t_vessel*rho_vessel\n",
    "m = m_vessel+m_air #kg\n",
    "c = m_vessel/m*c_vessel+m_air/m*c_air #j/kg K \n",
    "\n",
    "# Find the dimensions of A_exposed\n",
    "num_rows, num_cols = A.shape\n",
    "A_exposed= A_factor*A\n",
    "\n",
    "# Create an array for each hour in the day, converted to seconds\n",
    "dt=1 # Second\n",
    "day_length = n_days*24 * 60 * 60  # length of a day in seconds\n",
    "time_steps = np.linspace(0, day_length, num=day_length // dt + n_days)  # time steps\n",
    "hours = np.arange(n_days*24)*60*60\n"
   ]
  },
  {
   "cell_type": "markdown",
   "metadata": {},
   "source": [
    "Heat transfer coefficient alpha as function of windspeed and cilinder diameter"
   ]
  },
  {
   "cell_type": "code",
   "execution_count": 16,
   "metadata": {},
   "outputs": [],
   "source": [
    "#Interpolate the hourly wind data to convection per second\n",
    "alpha_hour = compute_alpha_hour(num_rows, num_cols, D, df['v_wind'], time_steps, hours)"
   ]
  },
  {
   "cell_type": "markdown",
   "metadata": {},
   "source": [
    "Define system of ODE's"
   ]
  },
  {
   "cell_type": "code",
   "execution_count": 59,
   "metadata": {},
   "outputs": [
    {
     "name": "stdout",
     "output_type": "stream",
     "text": [
      "1 1 0\n",
      "[292.2, 101790.0, 0.049999999999999996, 0, 0.8881739937697348] 0\n",
      "The solver successfully reached the end of the integration interval.\n"
     ]
    }
   ],
   "source": [
    "def system(t, y, params):\n",
    "    T, P, n_mol_liquid,n_mol_gas,n_air = y\n",
    "    \n",
    "    P_amb, solar_constants, A_Exposed, cloud_factor, T_amb,R, m, c,boiling_point, latent_heat, liquid_molar_mass, current_liquid_mass, initial_liquid_mass_0, ii, jj, ff= params\n",
    "      \n",
    "\n",
    "    P_sun = P_sun_spline(t) * A_Exposed[ii, jj] * cloud_factor[ff] *dt\n",
    "    interpolated_P_amb = P_amb_spline(t)    \n",
    "    interpolated_T_amb = T_amb_spline(t)\n",
    "    Q_rad = e * sigma * A_exposed[ii,jj] * (T**4 - interpolated_T_amb**4)\n",
    "    \n",
    "    #Interpolate alpha from hours to seconds\n",
    "    alpha_interpolated_func = interp1d(np.arange(len(T_amb)), alpha_hour[ii,jj,:], bounds_error=False, fill_value=\"extrapolate\")\n",
    "    interpolated_alpha = alpha_interpolated_func(t)\n",
    "    Q_con = interpolated_alpha * A_exposed[ii,jj] * (T - interpolated_T_amb)\n",
    "\n",
    "    evaporation_rate = 0\n",
    "    condensation_rate = 0\n",
    "\n",
    "    if T >= boiling_point and n_mol_liquid >0:\n",
    "        # Determine the amount of heat available for evaporation\n",
    "        heat_for_evaporation = P_sun - Q_rad - Q_con  # Assuming this is the available heat\n",
    "\n",
    "        # Calculate the rate of evaporation (mass per unit time)\n",
    "        evaporation_rate = min(heat_for_evaporation / latent_heat,n_mol_liquid*liquid_molar_mass/ dt)  \n",
    "\n",
    "        # Convert evaporated mass to moles and add to the gas in the vessel\n",
    "        evaporated_moles = evaporation_rate / liquid_molar_mass\n",
    "        n_mol_gas += evaporated_moles\n",
    "        n_mol_liquid -=evaporated_moles\n",
    "\n",
    "    if T < boiling_point and n_mol_gas > 0:\n",
    "        # You can define a condensation rate based on your system's specifics\n",
    "        heat_for_condensation = P_sun - Q_rad - Q_con \n",
    "        condensation_rate = min(heat_for_condensation / latent_heat, n_mol_liquid*liquid_molar_mass/ dt)\n",
    "        \n",
    "        # Convert condensed vapor to moles and subtract from gas in the vessel\n",
    "        condensed_moles = condensation_rate / liquid_molar_mass\n",
    "        n_mol_gas -= condensed_moles\n",
    "        n_mol_liquid +=condensed_moles\n",
    "\n",
    "    \n",
    "\n",
    "    #Compute pressure change in vessel due to temperature increase\n",
    "    dT_dt = (P_sun-Q_rad-Q_con) / (m[ii, jj] * c[ii, jj])\n",
    "    dP_dt = ((n_mol_liquid+n_mol_gas)*R*dT_dt)/V[ii,jj]    \n",
    "    dn_mol_liquid_dt = -evaporation_rate if T >= boiling_point else condensation_rate\n",
    "    dn_mol_gas_dt = evaporation_rate if T >= boiling_point else -condensation_rate\n",
    "    dn_air_dt = 0  # If n_air is constant or its dynamics are not considered\n",
    "\n",
    "    return [dT_dt, dP_dt, dn_mol_liquid_dt, dn_mol_gas_dt, dn_air_dt]\n",
    "\n",
    "boiling_point =34+273 # K\n",
    "latent_heat = 142e3 # j/kg\n",
    "initial_liquid_mass_0 = 10e-3 # kg\n",
    "liquid_molar_mass=200e-3 # kg\n",
    "current_vapor_mass = 0\n",
    "rho_novec = 1400 # kg/m3\n",
    "\n",
    "n_0_liquid = initial_liquid_mass_0/liquid_molar_mass\n",
    "n_0_novec_gas = 0\n",
    "\n",
    "\n",
    "#Define simulation settings\n",
    "t_span = [0, len(df['P_sun'].values)]  # start and end time\n",
    "current_time = datetime.datetime.now().strftime('%Y%m%d_%H%M%S') #Define current time for saving\n",
    "\n",
    "params_base = [df['P_amb'].values,df['P_sun'].values,A_exposed, cloud_factor,df['T_amb'].values, R,m, c ,boiling_point, latent_heat, liquid_molar_mass, current_liquid_mass, current_vapor_mass]\n",
    "\n",
    "# Use itertools.product to simplify nested loops\n",
    "\n",
    "for ii, jj, ff in itertools.product(range(len(D)), range(len(L)), range(len(cloud_factor))):\n",
    "    ii=jj=1\n",
    "    params = params_base + [ii, jj, ff]\n",
    "    print(ii,jj,ff)\n",
    "    \n",
    "    # Define initial conditions\n",
    "    n0_air = df['P_amb'][0]*(V[ii,jj]-initial_liquid_mass_0/rho_novec)/(R*df['T_amb'][0])\n",
    "    y0 = [df['T_amb'][0], df['P_amb'][0],n_0_liquid,n_0_novec_gas, n0_air]\n",
    "    \n",
    "    t_start= t_span[0]\n",
    "    nsampling = int(1*t_span[1])\n",
    "    \n",
    "    print(y0,t_start)\n",
    "    sol = solve_ivp(system, [t_start, t_span[1]], y0, dense_output=True, args=(params,),method='RK45',\n",
    "            t_eval=np.linspace(t_start,t_span[1],n_days*24*3600), rtol=1e-5, atol=1e-7)\n",
    "      \n",
    "    print(sol.message)\n",
    "    t= sol.t\n",
    "    y= sol.y   \n",
    "    #dump(sol,f\"..\\\\Saved_solutions\\wo_valve_novec7000{file_path[-15:-4]}_{current_time}_{ii}_{jj}_{ff}_sol.joblib\")\n",
    "    \n",
    "    break\n",
    "\n",
    " \n",
    "\n"
   ]
  },
  {
   "cell_type": "code",
   "execution_count": 58,
   "metadata": {},
   "outputs": [
    {
     "data": {
      "text/plain": [
       "0.021198607554588245"
      ]
     },
     "execution_count": 58,
     "metadata": {},
     "output_type": "execute_result"
    }
   ],
   "source": [
    "V[ii,jj]-initial_liquid_mass_0/rho_novec"
   ]
  },
  {
   "cell_type": "code",
   "execution_count": 57,
   "metadata": {},
   "outputs": [
    {
     "data": {
      "text/plain": [
       "14.0"
      ]
     },
     "execution_count": 57,
     "metadata": {},
     "output_type": "execute_result"
    }
   ],
   "source": [
    "initial_liquid_mass_0*rho_novec"
   ]
  },
  {
   "cell_type": "code",
   "execution_count": null,
   "metadata": {},
   "outputs": [
    {
     "name": "stdout",
     "output_type": "stream",
     "text": [
      "Solution object dumped successfully to ..\\Saved_solutions\\wo_valve_2023_7_6_n5_20231004_195746_0_0_0_sol.joblib\n"
     ]
    }
   ],
   "source": [
    "import os\n",
    "from joblib import dump  # Make sure to import dump if you haven't already\n",
    "\n",
    "# Create 'Saved_solutions' directory if it doesn't exist\n",
    "directory = \"..\\\\Saved_solutions\\\\\"\n",
    "if not os.path.exists(directory):\n",
    "    os.makedirs(directory)\n",
    "\n",
    "# Generate the file name and full path\n",
    "file_name = f\"wo_valve_{file_path[-15:-4]}_{current_time}_{ii}_{jj}_{ff}_sol.joblib\"\n",
    "full_path = os.path.join(directory, file_name)\n",
    "\n",
    "# Try to dump the solution object to the specified path\n",
    "try:\n",
    "    dump(sol, full_path)\n",
    "    print(f\"Solution object dumped successfully to {full_path}\")\n",
    "except FileNotFoundError:\n",
    "    print(f\"Could not write to {full_path}\")"
   ]
  },
  {
   "cell_type": "code",
   "execution_count": null,
   "metadata": {},
   "outputs": [],
   "source": [
    "#Load old solution\n",
    "#sol = load('..\\\\Saved_solutions\\sol.joblib')\n",
    "#t=sol.t\n",
    "#y=sol.y"
   ]
  },
  {
   "cell_type": "code",
   "execution_count": null,
   "metadata": {},
   "outputs": [],
   "source": [
    "#Set necesarry variables for plotting\n",
    "#ii=jj=ff=0\n",
    "#P_open=2e3\n",
    "#P_close =1e3"
   ]
  },
  {
   "cell_type": "code",
   "execution_count": 44,
   "metadata": {},
   "outputs": [
    {
     "data": {
      "image/png": "[encoded data removed]",
      "text/plain": [
       "<Figure size 1000x600 with 5 Axes>"
      ]
     },
     "metadata": {},
     "output_type": "display_data"
    }
   ],
   "source": [
    "# Calculate solar constants\n",
    "#t = np.linspace(0, len(df['P_sun'].values), len(df['P_sun'].values))\n",
    "solar_constants_func = interp1d(np.arange(len(df['P_sun'].values)), df['P_sun'].values, bounds_error=False, fill_value=\"extrapolate\")\n",
    "interpolated_solar_constants = solar_constants_func(t)\n",
    "\n",
    "def interpolate_data(T, t, A_exposed, alpha_hour, T_amb,P_amb, ii, jj):\n",
    "    # Interpolate T_amb\n",
    "    #T_amb_func = interp1d(np.arange(len(T_amb)), T_amb, bounds_error=False, fill_value=\"extrapolate\")\n",
    "    #interpolated_T_amb = T_amb_func(t)\n",
    "    interpolated_T_amb=T_amb_spline(t)\n",
    "    \n",
    "\n",
    "    #P_amb_func = interp1d(np.arange(len(P_amb)), P_amb, bounds_error=False, fill_value=\"extrapolate\")\n",
    "    #interpolated_P_amb = P_amb_func(t)\n",
    "    interpolated_P_amb = P_amb_spline(t)\n",
    "    \n",
    "    # Interpolate alpha_hour\n",
    "    alpha_interpolated_func = interp1d(np.arange(len(T_amb)), alpha_hour[ii,jj,:], bounds_error=False, fill_value=\"extrapolate\")\n",
    "    interpolated_alpha = alpha_interpolated_func(t)\n",
    "    \n",
    "    Q_rad = e * sigma * A_exposed[ii,jj] * (T**4 - interpolated_T_amb**4)\n",
    "    Q_con = interpolated_alpha * A_exposed[ii,jj] * (T - interpolated_T_amb)\n",
    "    return Q_rad, Q_con, interpolated_P_amb,interpolated_T_amb\n",
    "\n",
    "#Eval function\n",
    "y1 = sol.sol(t)\n",
    "\n",
    "Q_rad, Q_con,P_amb, T_amb = interpolate_data(y1[0,:], t, A_exposed, alpha_hour, df['T_amb'].values,df['P_amb'].values, ii, jj)\n",
    "#n_mol = y[1,:] * V[ii,jj] / (R * y[0,:]) \n",
    "#Plot results \n",
    "\n",
    "fig, (ax1, ax3, ax4) = plt.subplots(3, 1, sharex=True,figsize=(10,6))  # Create two subplots sharing the same x-axis\n",
    "\n",
    "# First subplot for temperature and solar constants\n",
    "ax2 = ax1.twinx()  # Create a second y-axis for the first subplot\n",
    "ax1.plot(t/3600, y[0,:]-K,color='red',label='$T_{vessel}$') \n",
    "ax1.plot(t/3600, T_amb_spline(t)-K,color='red', linestyle='--',label='$T_{amb}$') \n",
    "ax1.legend(loc='upper left')\n",
    "ax1.set_ylabel('T [$\\\\circ C$]',color='red')\n",
    "ax1.tick_params(axis='y', labelcolor='red')\n",
    "\n",
    "ax2.plot(t/3600, P_sun_spline(t), color='yellow',label='P_sun',linestyle='--')\n",
    "ax2.plot(t/3600, Q_rad/A[ii,jj], label='Q_rad', linestyle=':', color='orange')\n",
    "ax2.plot(t/3600, Q_con/A[ii,jj], label='Q_con', color='orange')\n",
    "ax2.tick_params(axis='y', labelcolor='orange')\n",
    "ax2.set_ylabel('P [$Wm^{-2}$]', color='orange')\n",
    "ax2.legend()\n",
    "\n",
    "# Second subplot for pressure and moles\n",
    "ax4 = ax3.twinx()  # Create a second y-axis for the second subplot\n",
    "ax3.plot(t/3600, y[1,:]/1000, color='green',label='Vessel') \n",
    "#ax3.plot(t/3600, y[2,:]/1000, color='red',label='Act') \n",
    "ax3.plot(t/3600, P_amb_spline(t)/1000, color='green', linestyle='--',label='$P_{amb}$')\n",
    "#ax3.plot(t/3600, (y[2,:]+P_open)/1000, color='pink', linestyle='-.',label='$P_{open}$')\n",
    "#ax3.plot(t/3600, (y[2,:]+P_close)/1000, color='pink', linestyle='-.',label='$P_{close}$')\n",
    "#ax3.plot(t/3600, (P_amb-P_in)/1000, color='pink', linestyle='--',label='$P_{in}$')\n",
    "ax3.set_ylabel('P [$kPa$]', color='green')\n",
    "ax3.tick_params(axis='y', labelcolor='green')\n",
    "ax3.legend(loc='upper left')\n",
    "\n",
    "ax4.plot(t/3600, y[2,:],label = 'Novec Liquid') \n",
    "ax4.plot(t/3600, y[3,:],label = 'Novec gas')\n",
    "ax4.plot(t/3600, y[4,:],label = 'air') # Plot n_mol on the second y-axis\n",
    "ax4.set_ylabel('n [$mol$]', color='blue')\n",
    "ax4.tick_params(axis='y', labelcolor='blue')\n",
    "#ax4.set_ylim(0,n[ii,jj]*1.1)\n",
    "\n",
    "#ax5.plot(t/3600, y[2,:], color='green',label='P_act') \n",
    "#ax5.plot(t/3600, P_amb_spline(t), color='blue',label='P_amb') \n",
    "#ax5.set_ylim(-0.1,1.1)\n",
    "#ax5.legend()\n",
    "#ax5.set_xlabel('Time [$h$]')\n",
    "\n",
    "plt.xlim(0,n_days*24)\n",
    "#plt.savefig(f\"..\\\\figures\\\\{file_path[-15:-4]}_{current_time}.svg\", format=\"svg\")\n",
    "plt.show() \n",
    "\n"
   ]
  },
  {
   "cell_type": "code",
   "execution_count": 60,
   "metadata": {},
   "outputs": [
    {
     "data": {
      "text/plain": [
       "(0.0, 1.0)"
      ]
     },
     "execution_count": 60,
     "metadata": {},
     "output_type": "execute_result"
    },
    {
     "data": {
      "image/png": "[encoded data removed]",
      "text/plain": [
       "<Figure size 330x250 with 1 Axes>"
      ]
     },
     "metadata": {},
     "output_type": "display_data"
    }
   ],
   "source": [
    "plt.plot(t/3600, y[2,:],label = 'Novec Liquid') \n",
    "plt.plot(t/3600, y[3,:],label = 'Novec gas')\n",
    "plt.plot(t/3600, y[4,:],label = 'air') # Plot n_mol on the second y-axis\n",
    "plt.legend()\n",
    "plt.ylim(0,1)\n",
    "#ax4.set_ylim(0,n[ii,jj]*1.1)"
   ]
  }
 ],
 "metadata": {
  "kernelspec": {
   "display_name": "Python 3",
   "language": "python",
   "name": "python3"
  },
  "language_info": {
   "codemirror_mode": {
    "name": "ipython",
    "version": 3
   },
   "file_extension": ".py",
   "mimetype": "text/x-python",
   "name": "python",
   "nbconvert_exporter": "python",
   "pygments_lexer": "ipython3",
   "version": "3.11.6"
  },
  "orig_nbformat": 4
 },
 "nbformat": 4,
 "nbformat_minor": 2
}
