{
 "cells": [
  {
   "cell_type": "code",
   "execution_count": 1,
   "metadata": {},
   "outputs": [],
   "source": [
    "import pandas as pd\n",
    "import numpy as np\n",
    "import matplotlib.pyplot as plt\n",
    "import math\n",
    "\n",
    "import scienceplots\n",
    "plt.style.use(['science','nature','no-latex','vibrant'])\n",
    "\n",
    "from scipy import constants\n",
    "from scipy.integrate import solve_ivp\n",
    "from scipy.constants import R\n",
    "from scipy.optimize import minimize\n",
    "from scipy.integrate import solve_ivp\n",
    "\n",
    "#Import personal functions\n",
    "import sys\n",
    "sys.path.append(\"C:/Users/Olivi/Documents/Git/SoRoMa/Thermal_Soft_Robotics_data/Functions\")\n",
    "#sys.path.append(\"C:/Users/Olivi/OneDrive - TU Eindhoven/Soft robotic matter/GitHub/Thermal_Soft_Robotics/Functions\")\n",
    "#sys.path.append(\"//sun/overvelde/group-folder/PROJECTS/Thermal_soft_robotics_Olivier/Git/Thermal_Soft_Robotics/Functions\")\n",
    "\n",
    "import FluidicSetupFunctions\n",
    "from save_plot_func import save_plot\n",
    "from main_extended_functions import *"
   ]
  },
  {
   "cell_type": "code",
   "execution_count": 2,
   "metadata": {},
   "outputs": [],
   "source": [
    "# Load constants \n",
    "k = constants.k # boltzman constant\n",
    "pi = constants.pi\n",
    "sigmna = constants.sigma # Stefan–Boltzmann constant\n",
    "R = constants.R # gas constant"
   ]
  },
  {
   "cell_type": "code",
   "execution_count": 3,
   "metadata": {},
   "outputs": [
    {
     "data": {
      "image/png": "[encoded data removed]",
      "text/plain": [
       "<Figure size 1000x500 with 1 Axes>"
      ]
     },
     "metadata": {},
     "output_type": "display_data"
    }
   ],
   "source": [
    "# Time array from 0 to 24 hours (one day)\n",
    "t_sun = np.linspace(0, 24*3600, 3600)\n",
    "\n",
    "# Solar intensity function\n",
    "def I(t, peak):\n",
    "    if 6*3600 <= t <= 18*3600:\n",
    "        return 0#peak * np.sin((np.pi / (12*3600)) * (t - 6*3600))\n",
    "    else:\n",
    "        return 0\n",
    "\n",
    "# Vectorize the function so it can operate on arrays\n",
    "vectorized_solar_intensity = np.vectorize(I)\n",
    "\n",
    "# Calculate intensity values\n",
    "intensity = vectorized_solar_intensity(t_sun, 1300)\n",
    "\n",
    "# Plotting the graph\n",
    "plt.figure(figsize=(10, 5))\n",
    "plt.plot(t_sun, intensity, label=\"Solar Intensity\")\n",
    "plt.title(\"Solar Intensity Throughout the Day\")\n",
    "plt.xlabel(\"Time (hours)\")\n",
    "plt.ylabel(\"Intensity (W/m²)\")\n",
    "#plt.xticks(np.arange(0, 25*3600, 1))\n",
    "plt.grid(True)\n",
    "plt.legend()\n",
    "plt.show()"
   ]
  },
  {
   "cell_type": "code",
   "execution_count": 4,
   "metadata": {},
   "outputs": [],
   "source": [
    "def system(t, y, **params):\n",
    "    T_g, T_co, T_air, T_p, T_n, n_g, n_l, P= y\n",
    "  \n",
    "    # Unpack parameters for use in the function\n",
    "    alpha_g = params['alpha_g']\n",
    "    A_g = params['A_g']\n",
    "    t_g = params['t_g']\n",
    "    rho_g = params['rho_g']\n",
    "    c_g = params['c_g']\n",
    "    epsilon_g = params['epsilon_g']\n",
    "    m_g = params['m_g']\n",
    "\n",
    "    alpha_c = params['alpha_c']\n",
    "    k_c = params['k_c']\n",
    "    r_c = params['r_c']\n",
    "    h_c = params['h_c']\n",
    "    A_co = params['A_co']\n",
    "    t_c = params['t_c']\n",
    "    A_ci = params['A_ci']\n",
    "    A_con = params['A_con']\n",
    "    rho_c = params['rho_c']\n",
    "    m_c = params['m_c']\n",
    "    c_c = params['c_c']\n",
    "    tau_c = params['tau_c']\n",
    "    epsilon_paint = params['epsilon_paint']\n",
    "    V_c = params['V_c']\n",
    "\n",
    "    rho_air = params['rho_air']\n",
    "    V_air = params['V_air']\n",
    "    c_air = params['c_air']\n",
    "    n0_air = params['n0_air']\n",
    "\n",
    "    A_p = params['A_p']\n",
    "    n = params['n']\n",
    "    m_p = params['m_p']\n",
    "    c_p = params['c_p']\n",
    "    D_p = params['D_p']\n",
    "\n",
    "    # Novec properties\n",
    "    c_n = params['c_n']\n",
    "    M_n = params['M_n']\n",
    "    m_n = params['m_n']\n",
    "    latent_heat = params['latent_heat']\n",
    "    boiling_point = params['boiling_point']\n",
    "    nu_n_g = params['nu_n_g']\n",
    "    n_n = params['n_n']\n",
    "\n",
    "    # Environmental properties\n",
    "    T_s = params['T_s']\n",
    "    T_amb = params['T_amb']\n",
    "    v = params['v']\n",
    "    I_peak = params['I_peak']\n",
    "\n",
    "    # fit parameters\n",
    "    #h_cgc = params['h_cgc']\n",
    "    #print('h_cgc= ', h_cgc)\n",
    "\n",
    "    # Assume inside container is a fraction colder than the outside \n",
    "    T_ci = 0.9999*T_co\n",
    "\n",
    "    #Convection of the ground \n",
    "    h_cga = 5.7+3.8*v   # Convection from ground to ambient, formula 11 from paper # F 3.29a\n",
    "    h_cgc = 5.7+3.8*v # Convection from ground to container\n",
    "    h_rgc = 0# epsilon_paint*constants.sigma*(T_g**2+T_s**2)*(T_g+T_s) # Radiation from ground to container  \n",
    "   \n",
    "    #K_air = 5.75*10**-5*(1+0.00317*T_air-0.0000021*T_air**2) # Thermal conductivity of air,doi: https://sci-hub.se/https://doi.org/10.1071/CH9510305\n",
    "    \n",
    "    # Convection from container to enclosed air \n",
    "    h_rcs = 0 #epsilon_paint*constants.sigma*(T_co**2+T_s**2)*(T_co+T_s) # Radiation from container to sky\n",
    "\n",
    "    # Calculate T_g \n",
    "    h_rga  = epsilon_g*constants.sigma*(T_g**2+T_s**2)*(T_g+T_s) # Radiation from ground to ambient\n",
    "    E_in_g = I(t,I_peak)*alpha_g*A_g \n",
    "    E_out_g = h_cga*A_g*(T_g-T_amb)+(t_c/k_c)*A_con*(T_g-T_co)+h_rga*(T_g-T_s)*A_g\n",
    "    dT_g_dt = 0#(E_in_g-E_out_g)/(m_g*c_g)\n",
    "\n",
    "    # Calculate T_co\n",
    "    h_cca = h_cpn(A_co, 2*pi*r_c ,h_c, K_air(T_air), c_air,T_air, T_ci ,rho_air,mu_air(T_air))\n",
    "    #print('h_cgc = ', h_cgc)\n",
    "    E_in_c =h_cgc*A_co*(T_amb-T_co)#h_cac(v,(2*r_c))*A_co*(T_amb-T_co) +A_co/2 *I(t,I_peak)*alpha_c+(t_c/k_c)*A_con*(T_g-T_co)\n",
    "    E_out_c = 0#h_cca*A_ci*(T_ci-T_air) # +A_co/2*h_rcs*(T_co-T_s)\n",
    "    dT_co_dt  = (E_in_c-E_out_c)/(m_c*c_c)\n",
    "    #print('h_cca = ', h_cca)\n",
    "\n",
    "    if T_ci > T_air:\n",
    "        E_in_air = h_cca*A_ci*(T_ci-T_air) #I(t,I_peak)*tau_c*A_co/2+\n",
    "        E_out_air = 0\n",
    "        #print(E_in_air, E_out_air)\n",
    "        #print(h_cca)\n",
    "    else: # T_air > T_ci\n",
    "        E_in_air =0 #I(t,I_peak)*tau_c*A_co/2\n",
    "        E_out_air = h_cca*A_ci*(T_air-T_ci)\n",
    "    dT_air_dt  = (E_in_air-E_out_air)/(rho_air*V_air*c_air)\n",
    "\n",
    "    \n",
    "    # Calculate T_pouch and T_novec \n",
    "    E_in_p = h_cap(2*(r_c-t_c),2*r_c)*A_p*(T_air-T_p)\n",
    " \n",
    "    gamma =  n_l/n_n # The ratio of the volume of liquid novec to the volume of gas novec\n",
    "    \n",
    "    #Convetion in pouches \n",
    "    V_air = n0_air*R*T_air/P # Volume of air in pouches\n",
    "    V_p = V_c - V_air # Volume of novec in pouches\n",
    "    m_n_gas = (1-gamma)*M_n # Mass of novec gas in pouches\n",
    "    rho_n_g = m_n_gas/V_p\n",
    "    h_cpn_g = h_cpn(A_p, 2*pi*D_p ,L_p, K_n, c_n, T_n, T_p, rho_n_g, nu_n_g)# Convection from pouch to novec gas \n",
    "    h_cpn_l =h_cpn(A_p, 2*pi*D_p ,L_p, K_n, c_novec(T_n),T_n, T_p, rho_n_l(T_n), mu_novec(T_n)) # Convection from pouch to novec liquid \n",
    "    E_out_p = gamma*h_cpn_g*2*A_p*(T_p-T_n) + (1-gamma)*h_cpn_l*2*A_p*(T_p-T_n) if abs(T_p-T_n)>1e-10 else 0\n",
    "\n",
    "    dT_p_dt  = (E_in_p-E_out_p)/(n*m_p*c_p)\n",
    "    #print('dT_p_dt = ', dT_p_dt, E_in_p, E_out_p, n*m_p*c_p)\n",
    "    \n",
    "    # Model T_n and boiling + evaporation\n",
    "    dT_n_dt = dT_p_dt\n",
    "    \n",
    "    evaporation_rate = 0\n",
    "    condensed_moles = 0\n",
    "    evaporated_moles = 0\n",
    "    dn_l_dt = 0\n",
    "    dn_g_dt = 0\n",
    "\n",
    "\n",
    "    \n",
    "    heat_flux_n = E_out_p\n",
    "    \n",
    "    if T_n > boiling_point: \n",
    "        if n_l > 1e-6: # Evaporating novec\n",
    "            dT_n_dt =0\n",
    "            evaporation_rate = min(abs(heat_flux_n / latent_heat )  * M_n, n_l)\n",
    "            dn_g_dt =+ evaporation_rate\n",
    "            dn_l_dt =- dn_g_dt\n",
    "        else : # Heating gas novec\n",
    "            dT_n_dt = heat_flux_n/(m_n*c_n)\n",
    "\n",
    "    else: # in other words T_n < T_boil \n",
    "        if n_g > 1e-6: # below boiling point and gas present\n",
    "            dT_n_dt = 0\n",
    "            condensation_rate = min(abs(heat_flux_n / latent_heat) * M_n, n_g)\n",
    "            dn_l_dt = min(condensation_rate, n_g)\n",
    "            dn_g_dt = -dn_l_dt\n",
    "        else: \n",
    "            dT_n_dt = heat_flux_n/(m_n*c_n)\n",
    "\n",
    "    \n",
    "    dP_dt = ((n0_air+n_g)*R*dT_air_dt)/V_c\n",
    "\n",
    "    #print('t = ', t)\n",
    "    #print(dT_g_dt, dT_co_dt, dT_air_dt, dT_p_dt, dT_n_dt, dn_g_dt, dn_l_dt, dP_dt) \n",
    "    #print(T_g, T_co, T_air, T_p, T_n, n_g, n_l, P)\n",
    "\n",
    "    return [dT_g_dt, dT_co_dt, dT_air_dt, dT_p_dt, dT_n_dt, dn_g_dt, dn_l_dt, dP_dt]\n",
    "      "
   ]
  },
  {
   "cell_type": "code",
   "execution_count": 5,
   "metadata": {},
   "outputs": [
    {
     "name": "stdout",
     "output_type": "stream",
     "text": [
      "V_c =  0.0005288478533236719\n"
     ]
    }
   ],
   "source": [
    "# System parameters \n",
    "# Ground \n",
    "alpha_g = 0.91 # Ashalth roofing, new https://www.engineeringtoolbox.com/solar-radiation-absorbed-materials-d_1568.html\n",
    "A_g = 1 # Area ground [m^2]\n",
    "t_g = 50e-3 # Thickness ground [m]\n",
    "rho_g = 2.36e3 # Density ground [kg/m^3] https://www.engineeringtoolbox.com/density-solids-d_1265.html\n",
    "m_g = rho_g*A_g*t_g # Mass ground [kg]\n",
    "c_g = 920 # Specific heat capacity ground [J/kg/K] https://www.engineeringtoolbox.com/specific-heat-capacity-d_391.html\n",
    "epsilon_g = 0.93 # Black body radiation [-] https://www.engineeringtoolbox.com/emissivity-coefficients-d_447.html\n",
    "\n",
    "# Container properties\n",
    "alpha_c =0.9 # absorption constant container \n",
    "k_c = 1200 # specific heat capacity container  ( J.K-1.kg-1 ) https://www.azom.com/article.aspx?ArticleID=2047\n",
    "\n",
    "r_c = 0.07/2 # radius container\n",
    "h_c = 0.15 # height container\n",
    "\n",
    "A_co = 2*pi*r_c*h_c # Area container [m^2], assumed cilinder \n",
    "t_c= 1.5e-3 # thickness container [m]\n",
    "A_ci = 2*pi*(r_c-t_c)*(h_c-2*t_c)# Area inside container \n",
    "A_con = 0.01*A_co\n",
    "rho_c  = 1.35e3 # density container [kg/m^3]\n",
    "m_c = 2*pi*(r_c**2-(r_c-t_c)**2)*h_c*rho_c # Mass container [kg]\n",
    "c_c = 1550 # Specific heat capacity polyethylene  [J/kg/K] https://www.engineeringtoolbox.com/specific-heat-polymers-d_1862.html\n",
    "tau_c = 0.01 # Transmission of the sun through the container (assumed)\n",
    "epsilon_paint= 0.9 # Black body radiation [-] https://help.covetool.com/en/articles/5560310-wall-emissivity\n",
    "k_c = 0.50  # Thermal conductivity of the container (Polyethylene, high density (PEH)) [W/m/K] https://www.engineeringtoolbox.com/thermal-conductivity-plastics-d_1786.html\n",
    "V_c = pi*(r_c-t_c)**2*h_c # Volume container [m^3]\n",
    "print('V_c = ', V_c)\n",
    "\n",
    "\n",
    "# Pouch properties\n",
    "D_p = 0.1 # Diameter pouch [m]\n",
    "L_p = 0.2 # Length pouch [m]\n",
    "A_p = 2*D_p*L_p # Area pouch m^2 \n",
    "n=1 # number of pouches\n",
    "t_p = 0.5e-3 # Thickness pouch [m]\n",
    "rho_p = 1.28 # Density tpu [kg/m^3] https://matweb.com/search/DataSheet.aspx?MatGUID=2fe782a31c4b4bed984b49651762b086&ckck=1\n",
    "m_p = 2*A_p*t_p*rho_p # Mass pouch [kg]\n",
    "c_p = 1500 # Specific heat capacity tpu [J/kg/K] https://matmatch.com/materials/mbas116-urethane-thermoplastic-elastomer-tpu-\n",
    "\n",
    "# Novec properties\n",
    "c_n = 1300 # Specific heat capacity novec [J/kg/K] source: datasheet\n",
    "M_n = 200e-3 # Molar mass novec [kg/mol] source: datasheet\n",
    "m_n = 3.7e-3 # Mass novec [kg] source: datasheet\n",
    "n_n = m_n/M_n # Amount of novec in pouches [mol]\n",
    "boiling_point = 34+273.15 # Boiling point novec [K] source: datasheet\n",
    "latent_heat = 142e3 # Latent heat of vaporization novec [J/kg] source: datasheet\n",
    "K_n = 0.075 # Thermal conductivity novec [W/m/K] source: datasheet\n",
    "nu_n_g = 0.32e-3 # Kinematic viscosity novec gas [m^2/s] source: datasheet \n",
    "\n",
    "\n",
    "# Env properties\n",
    "T_s = 53+273.15 # Temperature of the sky\n",
    "T_amb = 50+273.15 # Temperature of the ambient air\n",
    "v = 2 # Wind speed m/s\n",
    "I_peak = 1300 # Peak intensity of the sun W/m^2\n",
    "P_amb = 1e5 # Ambient pressure Pa\n",
    "T_room = 20+273.15 # Room temperature K\n",
    "\n",
    "#Air properties \n",
    "rho_air = 1.293 # density air kg/m^3\n",
    "V_air = 2*pi*(r_c-t_c)*h_c # Volume air in container\n",
    "c_air= \t1.0035 # specific heat capacity air J/kg/K https://en.wikipedia.org/wiki/Table_of_specific_heat_capacities\n",
    "#V_c = 0.525e-3\n",
    "n0_air = (P_amb*V_c)/(R*T_room) # initial amount of air in container\n",
    "mol_mass_air = 28.97e-3 # kg/mol https://en.wikipedia.org/wiki/Molar_mass#:~:text=Average%20molar%20mass%20of%20mixtures,-The%20average%20molar&text=As%20an%20example%2C%20the%20average,air%20is%2028.97%20g%2Fmol.\n",
    "m_air = n0_air*mol_mass_air # mass of air in container\n",
    "initial_h_cgc = 100\n",
    "\n"
   ]
  },
  {
   "cell_type": "code",
   "execution_count": 6,
   "metadata": {},
   "outputs": [],
   "source": [
    "# Make dictionary of all constants \n",
    "# System parameters in a dictionary\n",
    "params = {\n",
    "    # Ground parameters\n",
    "    \"alpha_g\": alpha_g,\n",
    "    \"A_g\": A_g,\n",
    "    \"t_g\": t_g,\n",
    "    \"rho_g\": rho_g,\n",
    "    \"c_g\": c_g,\n",
    "    \"epsilon_g\": epsilon_g,\n",
    "    # Calculate mass of ground based on other parameters\n",
    "    \"m_g\": m_g,\n",
    "\n",
    "    # Container parameters\n",
    "    \"alpha_c\": alpha_c,\n",
    "    \"k_c\": k_c,\n",
    "    \"r_c\": r_c,\n",
    "    \"h_c\": h_c,\n",
    "    # Calculate area of container assumed cylinder\n",
    "    \"A_co\": A_co,\n",
    "    \"t_c\": t_c,\n",
    "    # Calculate inner area of container\n",
    "    \"A_ci\": A_ci,\n",
    "    \"A_con\": A_con,\n",
    "    \"rho_c\": rho_c,\n",
    "    # Calculate mass of container\n",
    "    \"m_c\": m_c,\n",
    "    \"c_c\": c_c,\n",
    "    \"tau_c\": tau_c,\n",
    "    \"epsilon_paint\": epsilon_paint,\n",
    "    \"V_c\": V_c,\n",
    "\n",
    "    # Air properties\n",
    "    \"rho_air\": rho_air,\n",
    "    \"V_air\": V_air,\n",
    "    \"c_air\": c_air,\n",
    "    \"n0_air\" : n0_air,\n",
    "\n",
    "    # Pouch properties\n",
    "    \"A_p\": A_p,\n",
    "    \"n\": n,\n",
    "    \"m_p\": m_p,\n",
    "    \"c_p\": c_p,\n",
    "    \"D_p\": D_p,\n",
    "\n",
    "    # novec properties\n",
    "    \"c_n\": c_n,\n",
    "    \"M_n\": M_n,\n",
    "    \"m_n\": m_n, \n",
    "    \"latent_heat\": latent_heat,\n",
    "    \"boiling_point\": boiling_point,\n",
    "    \"K_n\": K_n,\n",
    "    \"nu_n_g\": nu_n_g,\n",
    "    \"n_n\": n_n,\n",
    "    \n",
    "    # Environmental properties\n",
    "    \"T_s\" : T_s,\n",
    "    \"T_amb\": T_amb,\n",
    "    \"v\": v,\n",
    "    \"I_peak\": I_peak,\n",
    "\n",
    "    # Fit parameters\n",
    "    \"h_cgc\" : initial_h_cgc\n",
    "}"
   ]
  },
  {
   "cell_type": "code",
   "execution_count": 7,
   "metadata": {},
   "outputs": [
    {
     "name": "stdout",
     "output_type": "stream",
     "text": [
      "[323.15, 293, 293.1, 293.2, 292.9, 1.85e-11, 0.0184999999815, 100000.0]\n",
      "100\n"
     ]
    },
    {
     "name": "stdout",
     "output_type": "stream",
     "text": [
      "The solver successfully reached the end of the integration interval.\n"
     ]
    }
   ],
   "source": [
    "# Simulation settings \n",
    "#par_con = [A_c,A_ci, h_c, 2*r_c]]\n",
    "#par_air = [K_air,Cp_air, nu_air, mu_air, beta_air]\n",
    "#par_novec = [K_novec,Cp_novec, nu_novec, mu_novec, beta_novec]\n",
    "#par_pouch = [A_pouch, peri_p, L_p, D_pouch]\n",
    "#par_env = [v, T_sky, T_amb, I, alpha_g, alpha_c, epsilon_paint]\n",
    "\n",
    "\n",
    "\n",
    "# Define initial conditions\n",
    "# Make sure temperatures are not exactly the same to avoid division by zero!\n",
    "gamma0 = 1e-9\n",
    "T_g0 = T_amb\n",
    "T_container_0 = 20+273\n",
    "T_air0 = T_container_0+0.1\n",
    "T_p0 = T_container_0+0.2\n",
    "T_n0 = T_container_0-0.1\n",
    "P_amb0 = 1e5\n",
    "y0 = [T_g0, T_container_0, T_air0, T_p0, T_n0, gamma0*n_n,(1-gamma0)* n_n, P_amb0]\n",
    "print(y0)\n",
    "\n",
    "\n",
    "params['h_cgc'] = 10\n",
    "t_sim =np.linspace(0, 120*60, 1200)\n",
    "print(initial_h_cgc)\n",
    "\n",
    "\n",
    "sol = solve_ivp(\n",
    "    lambda t, y: system(t, y, **params),  # Unpack params here\n",
    "    [t_sim[0], t_sim[-1]],\n",
    "    y0,\n",
    "    dense_output=True,\n",
    "    method='LSODA',\n",
    "    t_eval=np.linspace(0, 120*60, 1200),\n",
    "    rtol=1e-6,\n",
    "    atol=1e-9,\n",
    "    max_step=1\n",
    ")\n",
    "print(sol.message)\n",
    "t= sol.t\n",
    "y= sol.y   \n",
    "\n"
   ]
  },
  {
   "cell_type": "code",
   "execution_count": 10,
   "metadata": {},
   "outputs": [
    {
     "ename": "NameError",
     "evalue": "name 'ax' is not defined",
     "output_type": "error",
     "traceback": [
      "\u001b[1;31m---------------------------------------------------------------------------\u001b[0m",
      "\u001b[1;31mNameError\u001b[0m                                 Traceback (most recent call last)",
      "Cell \u001b[1;32mIn[10], line 37\u001b[0m\n\u001b[0;32m     35\u001b[0m axs[\u001b[38;5;241m2\u001b[39m]\u001b[38;5;241m.\u001b[39mset_ylabel(\u001b[38;5;124m'\u001b[39m\u001b[38;5;124mPressure [kPa]\u001b[39m\u001b[38;5;124m'\u001b[39m)\n\u001b[0;32m     36\u001b[0m axs[\u001b[38;5;241m2\u001b[39m]\u001b[38;5;241m.\u001b[39mlegend(loc\u001b[38;5;241m=\u001b[39m\u001b[38;5;124m'\u001b[39m\u001b[38;5;124mupper right\u001b[39m\u001b[38;5;124m'\u001b[39m)\n\u001b[1;32m---> 37\u001b[0m \u001b[43max\u001b[49m[\u001b[38;5;241m2\u001b[39m]\u001b[38;5;241m.\u001b[39mset_xlim(\u001b[38;5;241m1500\u001b[39m,\u001b[38;5;241m2500\u001b[39m)\n\u001b[0;32m     39\u001b[0m \u001b[38;5;66;03m# Show the plot\u001b[39;00m\n\u001b[0;32m     40\u001b[0m plt\u001b[38;5;241m.\u001b[39mshow()\n",
      "\u001b[1;31mNameError\u001b[0m: name 'ax' is not defined"
     ]
    },
    {
     "data": {
      "image/png": "[encoded data removed]",
      "text/plain": [
       "<Figure size 600x600 with 3 Axes>"
      ]
     },
     "metadata": {},
     "output_type": "display_data"
    }
   ],
   "source": [
    "T_g = y[0,:]\n",
    "T_co = y[1,:]\n",
    "T_air = y[2,:]\n",
    "T_p = y[3,:]\n",
    "T_n = y[4,:]\n",
    "n_g = y[5,:]\n",
    "n_l = y[6,:]\n",
    "P = y[7,:]\n",
    "\n",
    "P_sim = (n_g+n0_air)*R*T_n/(V_c)-P_amb\n",
    "\n",
    "# Create subplots\n",
    "fig, axs = plt.subplots(3, figsize=(6, 6))\n",
    "\n",
    "# Plotting on the first subplot\n",
    "axs[0].plot(sol.t, T_g-273.15, label=\"Ground\")\n",
    "axs[0].plot(sol.t, T_co-273.15, label=\"Container\", linestyle= '-.')\n",
    "axs[0].plot(sol.t, T_air-273.15, label=\"Enclosed Air\", linestyle='--')\n",
    "axs[0].plot(sol.t, T_p-273.15, label=\"Pouch\")\n",
    "axs[0].plot(sol.t, T_n-273.15, label=\"Novec\")\n",
    "axs[0].set_xlabel('Time')\n",
    "axs[0].set_ylabel('Temperature')\n",
    "axs[0].legend(loc='upper left')\n",
    "\n",
    "# Plotting on the second subplot\n",
    "axs[1].plot(sol.t, n_l, label='Novec liquid')\n",
    "axs[1].plot(sol.t, n_g, label='Novec gas')\n",
    "axs[1].set_ylabel('Mol')\n",
    "axs[1].legend(loc='upper right')\n",
    "\n",
    "# Plotting on the third subplot\n",
    "#axs[2].plot(t_exp, P_exp/1000, label='Exp')\n",
    "axs[2].plot(t, P_sim/1000, label='Sim')\n",
    "axs[2].set_xlabel('Time')\n",
    "axs[2].set_ylabel('Pressure [kPa]')\n",
    "axs[2].legend(loc='upper right')\n",
    "ax[2].set_xlim(1500,2500)\n",
    "\n",
    "# Show the plot\n",
    "plt.show()\n"
   ]
  },
  {
   "cell_type": "markdown",
   "metadata": {},
   "source": [
    "Load data"
   ]
  },
  {
   "cell_type": "code",
   "execution_count": 12,
   "metadata": {},
   "outputs": [
    {
     "name": "stdout",
     "output_type": "stream",
     "text": [
      "Loading... Folder 1 of 1, Sample 1 of 5\n",
      "Loading... Folder 1 of 1, Sample 2 of 5\n",
      "Loading... Folder 1 of 1, Sample 3 of 5\n",
      "Loading... Folder 1 of 1, Sample 4 of 5\n",
      "Loading... Folder 1 of 1, Sample 5 of 5\n"
     ]
    }
   ],
   "source": [
    "Location = r\"C:\\Users\\Olivi\\Documents\\Git\\SoRoMa\\Thermal_soft_robotics_data\\Thermal_actuation\\Experimental\\Fluidic\\Pouch\\Data\\05L\"\n",
    "Foldernames = [\"//Data\"]\n",
    "\n",
    "data = FluidicSetupFunctions.LoadData(Foldernames = Foldernames,Location=Location)\n",
    "sample_rate = data[1]['Samplerate'][-1]"
   ]
  },
  {
   "cell_type": "code",
   "execution_count": 13,
   "metadata": {},
   "outputs": [
    {
     "data": {
      "text/plain": [
       "0          -62.607184\n",
       "1          -33.465978\n",
       "2          -10.201578\n",
       "3            7.771718\n",
       "4           21.039609\n",
       "              ...    \n",
       "1706895    136.692754\n",
       "1706896    134.557085\n",
       "1706897    136.430641\n",
       "1706898    143.211097\n",
       "1706899    155.796126\n",
       "Name: SSCDP30-2, Length: 1706900, dtype: float64"
      ]
     },
     "execution_count": 13,
     "metadata": {},
     "output_type": "execute_result"
    }
   ],
   "source": [
    "# Pop failed experiments\n",
    "data[0][1].pop('SSCDP15-4')\n",
    "data[0][2].pop('SSCDP15-4')\n",
    "data[0][3].pop('SSCDP30-2')"
   ]
  },
  {
   "cell_type": "code",
   "execution_count": 14,
   "metadata": {},
   "outputs": [
    {
     "data": {
      "text/plain": [
       "{'Samplerate': [1000, 1000, 1000, 1000, 1000],\n",
       " 'Samplename': ['1740mg_ai4-novec',\n",
       "  '900mg_ai4-3570mg_ai2',\n",
       "  '0mg_ai4-900mg_ai2',\n",
       "  '0mg_ai4-',\n",
       "  '7000mg_ai4-14000mg_ai2'],\n",
       " 'Offset': [{'DigOut-1': 0.6041515555555556, 'SSCDP15-4': 2.5020817777777773},\n",
       "  {'SSCDP15-4': 2.4967462222222223, 'SSCDP30-2': 2.4914975555555556},\n",
       "  {'SSCDP15-4': 2.4967288888888888, 'SSCDP30-2': 2.4932369999999997},\n",
       "  {'SSCDP15-4': 2.4958935555555555, 'SSCDP30-2': 2.4932486666666662},\n",
       "  {'SSCDP15-4': 2.4967775555555556, 'SSCDP30-2': 2.493078333333333}]}"
      ]
     },
     "execution_count": 14,
     "metadata": {},
     "output_type": "execute_result"
    }
   ],
   "source": [
    "data[1]"
   ]
  },
  {
   "cell_type": "code",
   "execution_count": 15,
   "metadata": {},
   "outputs": [
    {
     "data": {
      "text/plain": [
       "<matplotlib.legend.Legend at 0x19e7017f250>"
      ]
     },
     "execution_count": 15,
     "metadata": {},
     "output_type": "execute_result"
    },
    {
     "data": {
      "image/png": "[encoded data removed]",
      "text/plain": [
       "<Figure size 330x250 with 1 Axes>"
      ]
     },
     "metadata": {},
     "output_type": "display_data"
    }
   ],
   "source": [
    "t_start_exp = 50*sample_rate\n",
    "t_end_exp = 1200*sample_rate\n",
    "P_sim = (n_g)*R*T_n/(0.525e-3)\n",
    "P_exp = data[0][1]['SSCDP30-2']#[t_start_exp:t_end_exp].to_numpy()\n",
    "t_exp = (data[0][1]['Time'])#[t_start_exp:t_end_exp]-data[0][-1]['Time'][t_start_exp]).to_numpy()\n",
    "\n",
    "plt.plot(t_exp/60, P_exp/1000,label = 'Exp')\n",
    "plt.plot(t/60,P_sim/1000, label=\"Sim\")\n",
    "#plt.xlim(50,60)\n",
    "plt.xlabel('Time [min]')\n",
    "plt.ylabel('Pressure [kPa]')\n",
    "plt.legend()\n",
    "plt.title('Pressure comparrison before fitting')"
   ]
  },
  {
   "cell_type": "code",
   "execution_count": null,
   "metadata": {},
   "outputs": [
    {
     "data": {
      "text/plain": [
       "True"
      ]
     },
     "execution_count": 13,
     "metadata": {},
     "output_type": "execute_result"
    }
   ],
   "source": [
    "len(t_exp)==len(P_exp)"
   ]
  },
  {
   "cell_type": "code",
   "execution_count": 29,
   "metadata": {},
   "outputs": [
    {
     "data": {
      "image/png": "[encoded data removed]",
      "text/plain": [
       "<Figure size 600x600 with 3 Axes>"
      ]
     },
     "metadata": {},
     "output_type": "display_data"
    }
   ],
   "source": [
    "T_g = y[0,:]\n",
    "T_co = y[1,:]\n",
    "T_air = y[2,:]\n",
    "T_p = y[3,:]\n",
    "T_n = y[4,:]\n",
    "n_g = y[5,:]\n",
    "n_l = y[6,:]\n",
    "P = y[7,:]\n",
    "\n",
    "P_sim = (n_g+n0_air)*R*T_n/(0.525e-3)-1e5\n",
    "\n",
    "# Create subplots\n",
    "fig, axs = plt.subplots(3, figsize=(6, 6))\n",
    "\n",
    "# Plotting on the first subplot\n",
    "axs[0].plot(sol.t, T_g-273.15, label=\"Ground\")\n",
    "axs[0].plot(sol.t, T_co-273.15, label=\"Container\")\n",
    "axs[0].plot(sol.t, T_air-273.15, label=\"Enclosed Air\", linestyle='--')\n",
    "axs[0].plot(sol.t, T_p-273.15, label=\"Pouch\")\n",
    "axs[0].plot(sol.t, T_n-273.15, label=\"Novec\")\n",
    "#axs[0].set_xlabel('Time')\n",
    "axs[0].set_ylabel('Temperature')\n",
    "axs[0].legend(loc='upper left')\n",
    "\n",
    "# Plotting on the second subplot\n",
    "axs[1].plot(sol.t, n_l, label='Novec liquid')\n",
    "axs[1].plot(sol.t, n_g, label='Novec gas')\n",
    "axs[1].set_ylabel('Mol')\n",
    "axs[1].legend(loc='upper right')\n",
    "\n",
    "# Plotting on the third subplot\n",
    "axs[2].plot(t_exp, P_exp/1000, label='Exp')\n",
    "axs[2].plot(t, P_sim/1000, label='Sim')\n",
    "axs[2].set_xlabel('Time [min]')\n",
    "axs[2].set_ylabel('Pressure [kPa]')\n",
    "axs[2].legend(loc='upper right')\n",
    "\n",
    "# Show the plot\n",
    "plt.show()\n"
   ]
  },
  {
   "cell_type": "code",
   "execution_count": null,
   "metadata": {},
   "outputs": [
    {
     "data": {
      "text/plain": [
       "<matplotlib.legend.Legend at 0x2173ec76910>"
      ]
     },
     "execution_count": 17,
     "metadata": {},
     "output_type": "execute_result"
    },
    {
     "data": {
      "image/png": "[encoded data removed]",
      "text/plain": [
       "<Figure size 330x250 with 1 Axes>"
      ]
     },
     "metadata": {},
     "output_type": "display_data"
    }
   ],
   "source": [
    "# Heat coefficient between container and enclosed air\n",
    "T_container_inside = 50 + 273.15\n",
    "h_cca_analytical = []\n",
    "for T_air_inside in np.linspace(0, 50, 500) + 273.15:\n",
    "    h_cca_analytical.append(h_cpn(A_co, 2*np.pi*r_c, h_c, K_air(T_air_inside), c_air, T_air_inside, T_container_inside, rho_air, mu_air(T_air_inside)))\n",
    "\n",
    "plt.plot(np.linspace(50,0, 500) , h_cca_analytical, label='Analytical')  # Plotting against temperature in Celsius\n",
    "\n",
    "plt.xlabel('$\\Delta$ T $[^\\circ C]$')\n",
    "plt.ylabel(' h $[Wm^{-2}K^{-1}]$')\n",
    "#plt.ylim(0, 15)\n",
    "plt.legend()"
   ]
  },
  {
   "cell_type": "code",
   "execution_count": 30,
   "metadata": {},
   "outputs": [
    {
     "data": {
      "text/plain": [
       "Text(0, 0.5, 'Heat transfer coefficient $[Wm^{-2}K^{-1}]$ ')"
      ]
     },
     "execution_count": 30,
     "metadata": {},
     "output_type": "execute_result"
    },
    {
     "data": {
      "image/png": "[encoded data removed]",
      "text/plain": [
       "<Figure size 330x250 with 1 Axes>"
      ]
     },
     "metadata": {},
     "output_type": "display_data"
    }
   ],
   "source": [
    "# plot h_cac on minimize result \n",
    "v_plot_simfit = np.linspace(0,10,10)\n",
    "h_cac_plot = h_cac(v_plot_simfit,(2*r_c))\n",
    "\n",
    "plt.plot(v_plot_simfit, h_cac_plot)\n",
    "plt.plot(2,result.x, marker='+' )\n",
    "plt.xlabel('Windspeed [$ms^{-1}$]')\n",
    "plt.ylabel('Heat transfer coefficient $[Wm^{-2}K^{-1}]$ ')"
   ]
  }
 ],
 "metadata": {
  "kernelspec": {
   "display_name": "Python 3",
   "language": "python",
   "name": "python3"
  },
  "language_info": {
   "codemirror_mode": {
    "name": "ipython",
    "version": 3
   },
   "file_extension": ".py",
   "mimetype": "text/x-python",
   "name": "python",
   "nbconvert_exporter": "python",
   "pygments_lexer": "ipython3",
   "version": "3.11.4"
  }
 },
 "nbformat": 4,
 "nbformat_minor": 2
}
