{
 "cells": [
  {
   "cell_type": "code",
   "execution_count": 2,
   "id": "c0650cb7",
   "metadata": {
    "scrolled": true
   },
   "outputs": [],
   "source": [
    "import pandas as pd\n",
    "import matplotlib.pyplot as plt\n",
    "from matplotlib.lines import Line2D\n",
    "import FluidicSetupFunctions\n",
    "import numpy as np\n",
    "np.set_printoptions(precision=2)\n",
    "pd.set_option('display.precision', 2)"
   ]
  },
  {
   "cell_type": "code",
   "execution_count": 6,
   "id": "77505fb3",
   "metadata": {
    "scrolled": false
   },
   "outputs": [
    {
     "name": "stdout",
     "output_type": "stream",
     "text": [
      "Expected pressures and voltages for 200 mL pressure tank in 800 mL water of T1:\n",
      "                T1        p1    V1    V0    dV  dP [kPa]       p0\n",
      "p0 [kPa] Index                                                   \n",
      "40.0     0      30  41981.30  2.24  2.15  0.09      1.98  40000.0\n",
      "         1      40  43366.82  2.31  2.15  0.16      3.37  40000.0\n",
      "         2      50  44752.34  2.38  2.15  0.23      4.75  40000.0\n",
      "         3      60  46137.86  2.44  2.15  0.29      6.14  40000.0\n",
      "         4      70  47523.38  2.51  2.15  0.36      7.52  40000.0\n",
      "         5      80  48908.90  2.57  2.15  0.42      8.91  40000.0\n",
      "60.0     0      30  62971.94  3.24  3.10  0.14      2.97  60000.0\n",
      "         1      40  65050.23  3.34  3.10  0.24      5.05  60000.0\n",
      "         2      50  67128.51  3.44  3.10  0.34      7.13  60000.0\n",
      "         3      60  69206.79  3.54  3.10  0.44      9.21  60000.0\n",
      "         4      70  71285.07  3.64  3.10  0.54     11.29  60000.0\n",
      "         5      80  73363.35  3.73  3.10  0.63     13.36  60000.0\n",
      "80.0     0      30  83962.59  4.24  4.05  0.19      3.96  80000.0\n",
      "         1      40  86733.63  4.37  4.05  0.32      6.73  80000.0\n",
      "         2      50  89504.68  4.50  4.05  0.45      9.50  80000.0\n",
      "         3      60  92275.72  4.63  4.05  0.58     12.28  80000.0\n",
      "         4      70  95046.76  4.76  4.05  0.71     15.05  80000.0\n",
      "         5      80  97817.80  4.90  4.05  0.85     17.82  80000.0\n"
     ]
    }
   ],
   "source": [
    "dfs = []  # list to store DataFrames for each p0\n",
    "V0_initial = 0.25;#Voltage\n",
    "for i in range(len(p0)):\n",
    "    df = pd.DataFrame(T1, columns=['T1'])\n",
    "    df['p1'] = (df['T1']+273)/T0*p0[i] #Ideal gas law assuming constant volume\n",
    "    df['V1'] = df['p1']*S + V0_initial # Estimated voltage reading of pressure sensor \n",
    "    df['V0'] = p0[i]*S + V0_initial \n",
    "    df['dV'] = df['V1'] - df['V0']\n",
    "    df['dP [kPa]']= (df['p1']-p0[i])*1/1000\n",
    "    \n",
    "    df['p0'] = p0[i]  # add p0 as a column\n",
    "    dfs.append(df)\n",
    "\n",
    "# combine all DataFrames into one multi-level DataFrame\n",
    "df_final = pd.concat(dfs, keys=np.divide(p0,1000), names=['p0 [kPa]', 'Index'])\n",
    "\n",
    "print('Expected pressures and voltages for 200 mL pressure tank in 800 mL water of T1:')\n",
    "print(df_final)\n",
    "#print(dfs)\n"
   ]
  }
 ],
 "metadata": {
  "kernelspec": {
   "display_name": "Python 3",
   "language": "python",
   "name": "python3"
  },
  "language_info": {
   "codemirror_mode": {
    "name": "ipython",
    "version": 3
   },
   "file_extension": ".py",
   "mimetype": "text/x-python",
   "name": "python",
   "nbconvert_exporter": "python",
   "pygments_lexer": "ipython3",
   "version": "3.10.11"
  }
 },
 "nbformat": 4,
 "nbformat_minor": 5
}
