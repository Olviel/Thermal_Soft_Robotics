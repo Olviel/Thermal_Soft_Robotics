{
 "cells": [
  {
   "cell_type": "code",
   "execution_count": null,
   "metadata": {},
   "outputs": [],
   "source": [
    "import numpy as np\n",
    "from scipy.integrate import odeint\n",
    "import matplotlib.pyplot as plt\n",
    "from scipy.optimize import curve_fit\n",
    "from scipy.interpolate import CubicSpline\n",
    "from scipy.interpolate import interp1d"
   ]
  },
  {
   "cell_type": "code",
   "execution_count": null,
   "metadata": {},
   "outputs": [],
   "source": [
    "import numpy as np\n",
    "from scipy.integrate import odeint\n",
    "import matplotlib.pyplot as plt\n",
    "from scipy.optimize import curve_fit\n",
    "from scipy.interpolate import CubicSpline\n",
    "from scipy.interpolate import interp1d\n",
    "# Fit PV curve\n",
    "\n",
    "# Data from Shibo groupmeeting slides pneunet actuator with h = \\inf \n",
    "v_fit = np.array([0, 5, 10, 15, 20, 25, 30, 35])*1e-6 #[m3] data in mL converted to L\n",
    "p_fit = np.array([0, 9, 16, 21, 24, 27, 28, 29])*1000 #[pa] data in kpa converted to pa\n",
    "\n",
    "# Create cubic spline\n",
    "volume_act = interp1d(p_fit, v_fit, kind='slinear',bounds_error=False, fill_value=\"extrapolate\") #L/Pa\n",
    "\n",
    "# Plot\n",
    "p_vals = np.linspace(p_fit[0], p_fit[-1], 10)\n",
    "v_vals = volume_act(p_vals)\n",
    "\n",
    "plt.figure(figsize=(8, 6))\n",
    "plt.plot(p_vals/1000, v_vals*1e6, label='Cubic Interpolation')\n",
    "plt.scatter(p_fit/1000, v_fit*1e6, color='red', label='Data')\n",
    "plt.legend()\n",
    "plt.xlabel('p [kPa]')\n",
    "plt.ylabel('v [ml]')\n",
    "plt.title('Cubic Interpolation for v(p)')\n",
    "plt.show()\n",
    "\n",
    "p = 10e3  # For example\n",
    "v = volume_act(p)\n",
    "print(v*1e6)"
   ]
  }
 ],
 "metadata": {
  "language_info": {
   "name": "python"
  },
  "orig_nbformat": 4
 },
 "nbformat": 4,
 "nbformat_minor": 2
}
