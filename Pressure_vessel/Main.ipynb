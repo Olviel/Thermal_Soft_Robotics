{
 "cells": [
  {
   "cell_type": "code",
   "execution_count": 29,
   "metadata": {},
   "outputs": [],
   "source": [
    "import numpy as np\n",
    "import matplotlib.pyplot as plt\n",
    "import matplotlib.dates as mdates\n",
    "from scipy import constants \n",
    "from scipy.interpolate import CubicSpline\n",
    "from scipy.integrate import solve_ivp\n",
    "from scipy.interpolate import interp1d\n",
    "import pandas as pd\n",
    "import seaborn as sns\n",
    "import itertools\n",
    "from compute_alpha_hour import compute_alpha_hour\n",
    "from fit_spline import df_to_spline\n",
    "\n",
    "\n"
   ]
  },
  {
   "cell_type": "markdown",
   "metadata": {},
   "source": []
  },
  {
   "cell_type": "code",
   "execution_count": 2,
   "metadata": {},
   "outputs": [
    {
     "data": {
      "text/html": [
       "<div>\n",
       "<style scoped>\n",
       "    .dataframe tbody tr th:only-of-type {\n",
       "        vertical-align: middle;\n",
       "    }\n",
       "\n",
       "    .dataframe tbody tr th {\n",
       "        vertical-align: top;\n",
       "    }\n",
       "\n",
       "    .dataframe thead th {\n",
       "        text-align: right;\n",
       "    }\n",
       "</style>\n",
       "<table border=\"1\" class=\"dataframe\">\n",
       "  <thead>\n",
       "    <tr style=\"text-align: right;\">\n",
       "      <th></th>\n",
       "      <th>t</th>\n",
       "      <th>T_amb</th>\n",
       "      <th>P_amb</th>\n",
       "      <th>v_wind</th>\n",
       "      <th>P_sun</th>\n",
       "    </tr>\n",
       "  </thead>\n",
       "  <tbody>\n",
       "    <tr>\n",
       "      <th>0</th>\n",
       "      <td>0.0</td>\n",
       "      <td>292.200000</td>\n",
       "      <td>101790.000000</td>\n",
       "      <td>1.141151</td>\n",
       "      <td>0.0</td>\n",
       "    </tr>\n",
       "    <tr>\n",
       "      <th>1</th>\n",
       "      <td>1.0</td>\n",
       "      <td>292.199833</td>\n",
       "      <td>101789.988889</td>\n",
       "      <td>1.141151</td>\n",
       "      <td>0.0</td>\n",
       "    </tr>\n",
       "    <tr>\n",
       "      <th>2</th>\n",
       "      <td>2.0</td>\n",
       "      <td>292.199667</td>\n",
       "      <td>101789.977778</td>\n",
       "      <td>1.141151</td>\n",
       "      <td>0.0</td>\n",
       "    </tr>\n",
       "    <tr>\n",
       "      <th>3</th>\n",
       "      <td>3.0</td>\n",
       "      <td>292.199500</td>\n",
       "      <td>101789.966667</td>\n",
       "      <td>1.141151</td>\n",
       "      <td>0.0</td>\n",
       "    </tr>\n",
       "    <tr>\n",
       "      <th>4</th>\n",
       "      <td>4.0</td>\n",
       "      <td>292.199333</td>\n",
       "      <td>101789.955556</td>\n",
       "      <td>1.141151</td>\n",
       "      <td>0.0</td>\n",
       "    </tr>\n",
       "    <tr>\n",
       "      <th>...</th>\n",
       "      <td>...</td>\n",
       "      <td>...</td>\n",
       "      <td>...</td>\n",
       "      <td>...</td>\n",
       "      <td>...</td>\n",
       "    </tr>\n",
       "    <tr>\n",
       "      <th>86396</th>\n",
       "      <td>86396.0</td>\n",
       "      <td>296.400000</td>\n",
       "      <td>101710.000000</td>\n",
       "      <td>1.033567</td>\n",
       "      <td>0.0</td>\n",
       "    </tr>\n",
       "    <tr>\n",
       "      <th>86397</th>\n",
       "      <td>86397.0</td>\n",
       "      <td>296.400000</td>\n",
       "      <td>101710.000000</td>\n",
       "      <td>1.033567</td>\n",
       "      <td>0.0</td>\n",
       "    </tr>\n",
       "    <tr>\n",
       "      <th>86398</th>\n",
       "      <td>86398.0</td>\n",
       "      <td>296.400000</td>\n",
       "      <td>101710.000000</td>\n",
       "      <td>1.033567</td>\n",
       "      <td>0.0</td>\n",
       "    </tr>\n",
       "    <tr>\n",
       "      <th>86399</th>\n",
       "      <td>86399.0</td>\n",
       "      <td>296.400000</td>\n",
       "      <td>101710.000000</td>\n",
       "      <td>1.033567</td>\n",
       "      <td>0.0</td>\n",
       "    </tr>\n",
       "    <tr>\n",
       "      <th>86400</th>\n",
       "      <td>86400.0</td>\n",
       "      <td>296.400000</td>\n",
       "      <td>101710.000000</td>\n",
       "      <td>1.033567</td>\n",
       "      <td>0.0</td>\n",
       "    </tr>\n",
       "  </tbody>\n",
       "</table>\n",
       "<p>86401 rows × 5 columns</p>\n",
       "</div>"
      ],
      "text/plain": [
       "             t       T_amb          P_amb    v_wind  P_sun\n",
       "0          0.0  292.200000  101790.000000  1.141151    0.0\n",
       "1          1.0  292.199833  101789.988889  1.141151    0.0\n",
       "2          2.0  292.199667  101789.977778  1.141151    0.0\n",
       "3          3.0  292.199500  101789.966667  1.141151    0.0\n",
       "4          4.0  292.199333  101789.955556  1.141151    0.0\n",
       "...        ...         ...            ...       ...    ...\n",
       "86396  86396.0  296.400000  101710.000000  1.033567    0.0\n",
       "86397  86397.0  296.400000  101710.000000  1.033567    0.0\n",
       "86398  86398.0  296.400000  101710.000000  1.033567    0.0\n",
       "86399  86399.0  296.400000  101710.000000  1.033567    0.0\n",
       "86400  86400.0  296.400000  101710.000000  1.033567    0.0\n",
       "\n",
       "[86401 rows x 5 columns]"
      ]
     },
     "execution_count": 2,
     "metadata": {},
     "output_type": "execute_result"
    }
   ],
   "source": [
    "# Load weather data \n",
    "\n",
    "# specify the file path (use the actual path on your system)\n",
    "file_path = 'Meteo_data/Weather_data_2023_7_8_n1.csv'\n",
    "\n",
    "# read the CSV file into a DataFrame\n",
    "df = pd.read_csv(file_path) #Data in seconds, T in K and P in Pa, windspeed in m/s, 0.1 meter above the ground\n",
    "\n",
    "# Set time period\n",
    "n_days = int(file_path[-5]) #Extract how many days are simulated in the file\n",
    "df"
   ]
  },
  {
   "cell_type": "code",
   "execution_count": 3,
   "metadata": {},
   "outputs": [
    {
     "data": {
      "text/plain": [
       "[<matplotlib.lines.Line2D at 0x1f3bd7bea30>]"
      ]
     },
     "execution_count": 3,
     "metadata": {},
     "output_type": "execute_result"
    },
    {
     "data": {
      "image/png": "[encoded data removed]",
      "text/plain": [
       "<Figure size 432x288 with 1 Axes>"
      ]
     },
     "metadata": {
      "needs_background": "light"
     },
     "output_type": "display_data"
    }
   ],
   "source": [
    "from scipy.interpolate import UnivariateSpline\n",
    "smoothing_factor=1\n",
    "t=range(len(df['t']))\n",
    "T_amb_spline = UnivariateSpline(df['t'], df['T_amb'], s=smoothing_factor)\n",
    "P_amb_spline = UnivariateSpline(df['t'], df['P_amb'], s=smoothing_factor)\n",
    "P_sun_spline = UnivariateSpline(df['t'], df['P_sun'], s=smoothing_factor)\n",
    "plt.plot(t,P_sun_spline(t))\n"
   ]
  },
  {
   "cell_type": "markdown",
   "metadata": {},
   "source": [
    "Simulation variables"
   ]
  },
  {
   "cell_type": "code",
   "execution_count": 4,
   "metadata": {},
   "outputs": [],
   "source": [
    "#Vessel variables\n",
    "#rho_vessel = 2.7e3 # aluminium [kg/m3]\n",
    "rho_vessel = 1.455e3 # Pet [kg/m3] Source: https://plasticranger.com/density-of-pet-plastic/#:~:text=The%20density%20of%20PET%20plastic%20is%201.38%20g%2Fcm%C2%B3%20and,(1.2%20g%2Fcm3).\n",
    "t_vessel = 0.5e-3 # Thickness [m]\n",
    "#c_vessel = 890 #J/kg aluminium\n",
    "c_vessel = 1030 #J/kg Pet Source: https://www.engineeringtoolbox.com/specific-heat-polymers-d_1862.html\n",
    "\n",
    "#Assumptions\n",
    "A_factor=0.5 #Assume half of the area of the vessel is exposed to sunlight \n",
    "e = 0.9 # emissvity factor black epoxy\n",
    "alpha=100#[W/M^2K] Convection heat transfer coeficient\n",
    "P_crit=1e3 #[pa] critical pressure where the hysterical valve opens\n",
    "cloud_factor = np.linspace(0.1,1,2) # 1 = sunny, 0 = dark \n",
    "\n",
    "\n"
   ]
  },
  {
   "cell_type": "markdown",
   "metadata": {},
   "source": [
    "Simulation constants"
   ]
  },
  {
   "cell_type": "code",
   "execution_count": 5,
   "metadata": {},
   "outputs": [],
   "source": [
    "#Vessel properties \n",
    "D = np.linspace(0.05,0.3,2) #Diameter vessel\n",
    "L = np.linspace(0.05,0.3,2) #Lenght vessel\n",
    "\n",
    "# Create a 2-D grid for D and L\n",
    "D, L = np.meshgrid(D, L)\n",
    "\n",
    "# Now D and L are 2-D arrays containing all combinations of diameter and length\n",
    "V = D**2/4*np.pi*L  # [m^3]\n",
    "A = D*L + D**2/4*np.pi  # [m^2]\n",
    "\n",
    "#Air \n",
    "rho_air=1.293 #kgm-3 \n",
    "m_air = rho_air*V #[kg]\n",
    "R = constants.R #J/K*molz ideal gas constant \n",
    "c_air = 718 #j/kg K constant volume\n",
    "n_mass = 28.96747 #molar mass [g/mol]\n",
    "n = m_air/n_mass #Amount of mol air \n",
    "sigma = constants.sigma #Boltzman constant \n",
    "\n",
    "cp = 1000 #J/kgK @ 300 K\n",
    "cv = 718 #J/kgK @ 300k\n",
    "y = cp/cv \n",
    "K = 273.15 #Kelvin \n",
    "\n",
    "#Combined properties\n",
    "m_vessel = A*t_vessel*rho_vessel\n",
    "m = m_vessel+m_air #kg\n",
    "c = m_vessel/m*c_vessel+m_air/m*c_air #j/kg K \n",
    "\n",
    "# Find the dimensions of A_exposed\n",
    "num_rows, num_cols = A.shape\n",
    "A_exposed= A_factor*A\n",
    "\n",
    "# Create an array for each hour in the day, converted to seconds\n",
    "dt=1 # Second\n",
    "day_length = n_days*24 * 60 * 60  # length of a day in seconds\n",
    "time_steps = np.linspace(0, day_length, num=day_length // dt + n_days)  # time steps\n",
    "hours = np.arange(n_days*24)*60*60\n"
   ]
  },
  {
   "cell_type": "markdown",
   "metadata": {},
   "source": [
    "Heat transfer coefficient alpha as function of windspeed and cilinder diameter"
   ]
  },
  {
   "cell_type": "code",
   "execution_count": 6,
   "metadata": {},
   "outputs": [],
   "source": [
    "#Interpolate the hourly wind data to convection per second\n",
    "alpha_hour = compute_alpha_hour(num_rows, num_cols, D, df['v_wind'], time_steps, hours)"
   ]
  },
  {
   "cell_type": "code",
   "execution_count": 7,
   "metadata": {},
   "outputs": [
    {
     "data": {
      "image/png": "[encoded data removed]",
      "text/plain": [
       "<Figure size 576x432 with 1 Axes>"
      ]
     },
     "metadata": {
      "needs_background": "light"
     },
     "output_type": "display_data"
    },
    {
     "name": "stdout",
     "output_type": "stream",
     "text": [
      "0.0001\n"
     ]
    }
   ],
   "source": [
    "# Fit PV curve\n",
    "\n",
    "# Data from Shibo groupmeeting slides pneunet actuator with h = \\inf \n",
    "v_fit = np.array([0, 5, 10, 15, 20, 25, 30, 35])*1e-6+1e-4 #[m3] data in mL converted to L\n",
    "p_fit = np.array([0, 9, 16, 21, 24, 27, 28, 29])*1000 #[pa] data in kpa converted to pa\n",
    "\n",
    "# Create cubic spline\n",
    "volume_act = interp1d(p_fit, v_fit, kind='slinear',bounds_error=False, fill_value=\"extrapolate\") #L/Pa\n",
    "\n",
    "# Plot\n",
    "p_vals = np.linspace(p_fit[0], p_fit[-1], 10)\n",
    "v_vals = volume_act(p_vals)\n",
    "\n",
    "plt.figure(figsize=(8, 6))\n",
    "plt.plot(p_vals/1000, v_vals*1e6, label='Cubic Interpolation')\n",
    "plt.scatter(p_fit/1000, v_fit*1e6, color='red', label='Data')\n",
    "plt.legend()\n",
    "plt.xlabel('p [kPa]')\n",
    "plt.ylabel('v [ml]')\n",
    "plt.title('Cubic Interpolation for v(p)')\n",
    "plt.show()\n",
    "\n",
    "p = 10e3  # For example\n",
    "v = volume_act(0)\n",
    "print(v)"
   ]
  },
  {
   "cell_type": "markdown",
   "metadata": {},
   "source": [
    "Define system of ODE's"
   ]
  },
  {
   "cell_type": "code",
   "execution_count": 41,
   "metadata": {},
   "outputs": [
    {
     "name": "stdout",
     "output_type": "stream",
     "text": [
      "0 0 0\n",
      "[292.2, 101790.0, 101790.0, 0.004113302145481862] 0\n",
      "The solver successfully reached the end of the integration interval.\n"
     ]
    }
   ],
   "source": [
    "def system(t, y, params):\n",
    "    T, P, P_act, n_mol = y\n",
    "    P_open,P_close,P_amb, solar_constants,R_in,R_valve,R_act, A_Exposed, cloud_factor, T_amb,R, m, c, ii, jj, ff = params\n",
    "    \n",
    "    #Make the state of the valve a global variable\n",
    "    global state_v\n",
    "\n",
    "    P_sun = P_sun_spline(t) * A_Exposed[ii, jj] * cloud_factor[ff] *dt\n",
    "    interpolated_P_amb = P_amb_spline(t)    \n",
    "    interpolated_T_amb = T_amb_spline(t)\n",
    "    Q_rad = e * sigma * A_exposed[ii,jj] * (T**4 - interpolated_T_amb**4)\n",
    "    \n",
    "    #Interpolate alpha from hours to seconds\n",
    "    alpha_interpolated_func = interp1d(np.arange(len(T_amb)), alpha_hour[ii,jj,:], bounds_error=False, fill_value=\"extrapolate\")\n",
    "    interpolated_alpha = alpha_interpolated_func(t)\n",
    "    Q_con = interpolated_alpha * A_exposed[ii,jj] * (T - interpolated_T_amb)\n",
    "\n",
    "    P_act_max = 1.2*interpolated_P_amb\n",
    "    if np.isinf(P_act):\n",
    "        print(\"Warning: P_act reached infinity at time t=\", t)\n",
    "                \n",
    "    if P_act > P_act_max:\n",
    "        P_act = P_act_max\n",
    "    elif P_act < -P_act_max:  # If you want to limit negative values too\n",
    "        P_act = -P_act_max\n",
    "\n",
    "\n",
    "    #Compute pressure change in actuator\n",
    "    \n",
    "    if P>P_open+P_act:\n",
    "        if state_v==1:\n",
    "            Q_tank = 0       \n",
    "        else:\n",
    "            Q_tank=0\n",
    "    else: \n",
    "        Q_tank=0\n",
    "    \n",
    "    \n",
    "    #Compute pressure change in vessel due to temperature increase\n",
    "    dT_dt = (P_sun-Q_rad-Q_con) / (m[ii, jj] * c[ii, jj])\n",
    "    dP_dt = (n_mol*R*dT_dt)/V[ii,jj]    \n",
    "\n",
    "\n",
    "    #Q_act_plot.append(Q_act)\n",
    "    #Q_tank_plot.append(Q_tank)\n",
    "    #state_v_plot.append(state_v)\n",
    "\n",
    "    #Reset vars for new itteration\n",
    "    dn_dt = 0\n",
    "    Q_act = 0#(P_act - interpolated_P_amb) / R_act \n",
    "    dP_act_dt = 0#((Q_tank - Q_act) / volume_act(P_act-interpolated_P_amb)) \n",
    "\n",
    "    Q_tank=0 \n",
    " \n",
    " \n",
    "    #State 0: inlet and valve are closed\n",
    "    if state_v == 0:\n",
    "        #Q_act = interpolated_P_amb# (P_act - interpolated_P_amb) / R_act  if P_act - interpolated_P_amb <-1e-6 else 0\n",
    "        #dP_act_dt = ((Q_tank - Q_act) / volume_act(P_act-interpolated_P_amb))\n",
    "        \n",
    "        if (P > (interpolated_P_amb+P_open)):\n",
    "            #Change state to open\n",
    "            state_v = 1\n",
    "            #dP_act_dt += compute_dP_act_dt(P_act, interpolated_P_amb, R_act, Q_tank, volume_act)\n",
    "            print('valve opens, t=', t)\n",
    "      \n",
    "            return [dT_dt, dP_dt,dP_act_dt,dn_dt]\n",
    "        \n",
    "        elif (P < (interpolated_P_amb-P_in)):\n",
    "            # If inlet is open, change state to 2\n",
    "            state_v=2\n",
    "            P = interpolated_P_amb\n",
    "            dn_dt += (V[ii,jj]/T)*(dP_dt/R-P*dT_dt/T)\n",
    "            #dP_act_dt += compute_dP_act_dt(P_act, interpolated_P_amb, R_act, Q_tank, volume_act)\n",
    "            print('inlet is open')\n",
    "            return [dT_dt, dP_dt,dP_act_dt,dn_dt]\n",
    "\n",
    "        else:\n",
    "            #print('else')    \n",
    "            \"\"\"\n",
    "            Q_act += (P_act - interpolated_P_amb) / R_act \n",
    "            if P_act - interpolated_P_amb> 1e-8:\n",
    "                #print('Q_act',Q_act)\n",
    "                dP_act_dt -=  abs(Q_act)/ volume_act(P_act-interpolated_P_amb)\n",
    "            elif P_act-interpolated_P_amb < -1e-8:\n",
    "                dP_act_dt +=  abs(Q_act)/ volume_act(0)\n",
    "            else: # P_amb > P_act\n",
    "                dP_act_dt += 0\n",
    "            \"\"\"\n",
    "            dP_act_dt = compute_dP_act_dt(P_act, interpolated_P_amb, R_act, volume_act)    \n",
    "\n",
    "            return [dT_dt, dP_dt,dP_act_dt,dn_dt]\n",
    "               \n",
    "    #State 1: Valve to actuator is open \n",
    "    if state_v ==1:\n",
    "        if P < (P_act + P_close):\n",
    "            #If pressure drops below closing pressure change state to closed\n",
    "            state_v = 0\n",
    "            #dP_act_dt += compute_dP_act_dt(P_act, interpolated_P_amb, R_act, Q_tank, volume_act)\n",
    "            print('Valve closes')            \n",
    "            return [dT_dt, dP_dt,dP_act_dt,dn_dt]                      \n",
    "        \n",
    "        else: \n",
    "        #Compute pressure changes \n",
    "            Q_tank += (P - P_act) / R_valve #if P > interpolated_P_amb else 0 \n",
    "            dP_dt -= Q_tank / V[ii,jj]  # Change in pressure in tank\n",
    "            Q_act = (P_act - interpolated_P_amb) / R_act  \n",
    "            dP_act_dt = ((Q_tank - Q_act) / volume_act(P_act-interpolated_P_amb))\n",
    "            dn_dt += (V[ii,jj]/T)*(dP_dt/R-P*dT_dt/T)          \n",
    "            print('valve stayed open t= ',t)                   \n",
    "                       \n",
    "        return [dT_dt, dP_dt,dP_act_dt,dn_dt]          \n",
    "        \n",
    "        \n",
    "\n",
    "    # state2: inlet is open\n",
    "    if state_v ==2:\n",
    "        \n",
    "        if P > 0.999*interpolated_P_amb:\n",
    "            #Inlet closes again \n",
    "            state_v=0\n",
    "            #dP_act_dt = compute_dP_act_dt(P_act, interpolated_P_amb, R_act, Q_tank, volume_act)\n",
    "            print('inlet closed')\n",
    "            return [dT_dt, dP_dt,dP_act_dt,dn_dt]\n",
    "        else:\n",
    "            # Otherwise it stays open\n",
    "            Q_tank += (P - interpolated_P_amb) / R_in \n",
    "            #dP_act_dt = compute_dP_act_dt(P_act, interpolated_P_amb, R_act, Q_tank, volume_act)\n",
    "\n",
    "            # Pressure drop is related to the volume out and the original volume \n",
    "            dP_dt -= Q_tank / V[ii,jj] \n",
    "                \n",
    "            #P = interpolated_P_amb\n",
    "            dn_dt += (V[ii,jj]/T)*(dP_dt/R-P*dT_dt/T)\n",
    "            print('inlet is open')\n",
    "            \n",
    "            return [dT_dt, dP_dt,dP_act_dt,dn_dt]\n",
    "    else:\n",
    "        print('else2')\n",
    "        return [dT_dt, dP_dt,dP_act_dt,dn_dt] \n",
    "\n",
    "\n",
    "def compute_dP_act_dt(P_act, interpolated_P_amb, R_act, volume_act):\n",
    "    difference = P_act - interpolated_P_amb\n",
    "    Q_act = difference / R_act\n",
    "    \n",
    "    if difference > 1e-6:\n",
    "        return -abs(Q_act) / volume_act(difference)\n",
    "    elif difference < -1e-6:\n",
    "        return abs(Q_act) / volume_act(0)\n",
    "    else:\n",
    "        return 0\n",
    "\n",
    "#Define simulation settings\n",
    "t_span = [0,10000]#1/24* len(df['P_sun'].values)]  # start and end time\n",
    "\n",
    "#Set limit pressures where valves open \n",
    "P_open = 5e3 #pa \n",
    "P_close = 2e3 #pa\n",
    "P_in = 0.3e3 #pa\n",
    "\n",
    "R_valve=5000#1/12 # Resistance of first valve, Pa.s/m^3\n",
    "R_in = 1/12\n",
    "R_act = 5000#1/12\n",
    "state_v = 0 #Valve starts normally closed\n",
    "params_base = [P_open,P_close,df['P_amb'].values,df['P_sun'].values, R_in,R_valve,R_act,A_exposed, cloud_factor,df['T_amb'].values, R,m, c ]\n",
    "\n",
    "# Use itertools.product to simplify nested loops\n",
    "\n",
    "for ii, jj, ff in itertools.product(range(len(D)), range(len(L)), range(len(cloud_factor))):\n",
    "    #ii=jj=1\n",
    "    params = params_base + [ii, jj, ff]\n",
    "    print(ii,jj,ff)\n",
    "    \n",
    "    # Define initial conditions\n",
    "    n0 = df['P_amb'][0]*V[ii,jj]/(R*df['T_amb'][0])\n",
    "    y0 = [df['T_amb'][0], df['P_amb'][0], df['P_amb'][0], n0]\n",
    "    \n",
    "    t_start= t_span[0]\n",
    "    nsampling = int(1*t_span[1])\n",
    "    \n",
    "    print(y0,t_start)\n",
    "    sol = solve_ivp(system, [t_start, t_span[1]], y0, dense_output=True, args=(params,),method='RK45',\n",
    "            t_eval=np.linspace(t_start,t_span[1]), rtol=1e-5, atol=1e-7)\n",
    "      \n",
    "    print(sol.message)\n",
    "    t= sol.t\n",
    "    y= sol.y   \n",
    "      \n",
    "    break\n",
    "\n",
    " \n"
   ]
  },
  {
   "cell_type": "code",
   "execution_count": 13,
   "metadata": {},
   "outputs": [
    {
     "data": {
      "text/plain": [
       "<matplotlib.legend.Legend at 0x1f3be383d30>"
      ]
     },
     "execution_count": 13,
     "metadata": {},
     "output_type": "execute_result"
    },
    {
     "data": {
      "image/png": "[encoded data removed]",
      "text/plain": [
       "<Figure size 432x288 with 1 Axes>"
      ]
     },
     "metadata": {
      "needs_background": "light"
     },
     "output_type": "display_data"
    }
   ],
   "source": [
    "plt.plot(Q_act_plot,label='act')\n",
    "plt.plot(Q_tank_plot,label='tank')\n",
    "plt.plot(state_v_plot,label = 'state')\n",
    "plt.legend()\n",
    "#plt.ylim(0,3)"
   ]
  },
  {
   "cell_type": "code",
   "execution_count": 25,
   "metadata": {},
   "outputs": [
    {
     "data": {
      "image/png": "[encoded data removed]",
      "text/plain": [
       "<Figure size 720x432 with 5 Axes>"
      ]
     },
     "metadata": {},
     "output_type": "display_data"
    }
   ],
   "source": [
    "# Calculate solar constants\n",
    "#t = np.linspace(0, len(df['P_sun'].values), len(df['P_sun'].values))\n",
    "solar_constants_func = interp1d(np.arange(len(df['P_sun'].values)), df['P_sun'].values, bounds_error=False, fill_value=\"extrapolate\")\n",
    "interpolated_solar_constants = solar_constants_func(t)\n",
    "\n",
    "def interpolate_data(T, t, A_exposed, alpha_hour, T_amb,P_amb, ii, jj):\n",
    "    # Interpolate T_amb\n",
    "    #T_amb_func = interp1d(np.arange(len(T_amb)), T_amb, bounds_error=False, fill_value=\"extrapolate\")\n",
    "    #interpolated_T_amb = T_amb_func(t)\n",
    "    interpolated_T_amb=T_amb_spline(t)\n",
    "    \n",
    "\n",
    "    #P_amb_func = interp1d(np.arange(len(P_amb)), P_amb, bounds_error=False, fill_value=\"extrapolate\")\n",
    "    #interpolated_P_amb = P_amb_func(t)\n",
    "    interpolated_P_amb = P_amb_spline(t)\n",
    "    \n",
    "    # Interpolate alpha_hour\n",
    "    alpha_interpolated_func = interp1d(np.arange(len(T_amb)), alpha_hour[ii,jj,:], bounds_error=False, fill_value=\"extrapolate\")\n",
    "    interpolated_alpha = alpha_interpolated_func(t)\n",
    "    \n",
    "    Q_rad = e * sigma * A_exposed[ii,jj] * (T**4 - interpolated_T_amb**4)\n",
    "    Q_con = interpolated_alpha * A_exposed[ii,jj] * (T - interpolated_T_amb)\n",
    "    return Q_rad, Q_con, interpolated_P_amb,interpolated_T_amb\n",
    "\n",
    "#Eval function\n",
    "y1 = sol.sol(t)\n",
    "\n",
    "Q_rad, Q_con,P_amb, T_amb = interpolate_data(y1[0,:], t, A_exposed, alpha_hour, df['T_amb'].values,df['P_amb'].values, ii, jj)\n",
    "#n_mol = y[1,:] * V[ii,jj] / (R * y[0,:]) \n",
    "#Plot results \n",
    "\n",
    "fig, (ax1, ax3,ax5) = plt.subplots(3, 1, sharex=True,figsize=(10,6))  # Create two subplots sharing the same x-axis\n",
    "\n",
    "# First subplot for temperature and solar constants\n",
    "ax2 = ax1.twinx()  # Create a second y-axis for the first subplot\n",
    "ax1.plot(t/3600, y[0,:]-K,color='red',label='$T_{vessel}$') \n",
    "ax1.plot(t/3600, T_amb_spline(t)-K,color='red', linestyle='--',label='$T_{amb}$') \n",
    "ax1.legend(loc='upper left')\n",
    "ax1.set_ylabel('T [$C$]',color='red')\n",
    "ax1.tick_params(axis='y', labelcolor='red')\n",
    "\n",
    "ax2.plot(t/3600, P_sun_spline(t), color='yellow',label='P_sun',linestyle='--')\n",
    "ax2.plot(t/3600, Q_rad/A[ii,jj], label='Q_rad', linestyle=':', color='orange')\n",
    "ax2.plot(t/3600, Q_con/A[ii,jj], label='Q_con', color='orange')\n",
    "ax2.tick_params(axis='y', labelcolor='orange')\n",
    "ax2.set_ylabel('P [$Wm^{-2}$]', color='orange')\n",
    "ax2.legend()\n",
    "\n",
    "# Second subplot for pressure and moles\n",
    "ax4 = ax3.twinx()  # Create a second y-axis for the second subplot\n",
    "ax3.plot(t/3600, y[1,:]/1000, color='green',label='Vessel') \n",
    "ax3.plot(t/3600, y[2,:]/1000, color='red',label='Act') \n",
    "ax3.plot(t/3600, P_amb_spline(t)/1000, color='green', linestyle='--',label='$P_{amb}$')\n",
    "ax3.plot(t/3600, (y[2,:]+P_open)/1000, color='pink', linestyle='-.',label='$P_{open}$')\n",
    "ax3.plot(t/3600, (y[2,:]+P_close)/1000, color='pink', linestyle='-.',label='$P_{close}$')\n",
    "ax3.plot(t/3600, (P_amb-P_in)/1000, color='pink', linestyle='--',label='$P_{in}$')\n",
    "ax3.set_ylabel('P [$kPa$]', color='green')\n",
    "ax3.tick_params(axis='y', labelcolor='green')\n",
    "ax3.legend(loc='upper left')\n",
    "\n",
    "ax4.plot(t/3600, y[-1,:], color='blue',linestyle=':')  # Plot n_mol on the second y-axis\n",
    "ax4.set_ylabel('n [$mol$]', color='blue')\n",
    "ax4.tick_params(axis='y', labelcolor='blue')\n",
    "#ax4.set_ylim(0,n[ii,jj]*1.1)\n",
    "\n",
    "ax5.plot(t/3600, y[2,:], color='green',label='P_act') \n",
    "ax5.plot(t/3600, P_amb_spline(t), color='blue',label='P_amb') \n",
    "#ax5.set_ylim(-0.1,1.1)\n",
    "ax5.legend()\n",
    "#ax5.set_xlabel('Time [$h$]')\n",
    "\n",
    "plt.xlim(0,24)\n",
    "plt.show() "
   ]
  },
  {
   "cell_type": "code",
   "execution_count": 42,
   "metadata": {},
   "outputs": [
    {
     "data": {
      "text/plain": [
       "<matplotlib.legend.Legend at 0x1f3c44c8d00>"
      ]
     },
     "execution_count": 42,
     "metadata": {},
     "output_type": "execute_result"
    },
    {
     "data": {
      "image/png": "[encoded data removed]",
      "text/plain": [
       "<Figure size 432x288 with 1 Axes>"
      ]
     },
     "metadata": {
      "needs_background": "light"
     },
     "output_type": "display_data"
    }
   ],
   "source": [
    "plt.plot(y[2,:],label='P_act')\n",
    "plt.plot(P_amb_spline(t),label='P_amb')\n",
    "plt.xlim\n",
    "plt.legend()"
   ]
  },
  {
   "cell_type": "code",
   "execution_count": null,
   "metadata": {},
   "outputs": [
    {
     "data": {
      "text/plain": [
       "(0.0, 10.0)"
      ]
     },
     "execution_count": 116,
     "metadata": {},
     "output_type": "execute_result"
    },
    {
     "data": {
      "image/png": "[encoded data removed]",
      "text/plain": [
       "<Figure size 432x288 with 1 Axes>"
      ]
     },
     "metadata": {
      "needs_background": "light"
     },
     "output_type": "display_data"
    }
   ],
   "source": [
    "plt.plot(Q_act_plot,label='act')\n",
    "plt.plot(Q_tank_plot,label='tank')\n",
    "plt.legend()\n",
    "plt.ylim(0,10)"
   ]
  },
  {
   "cell_type": "markdown",
   "metadata": {},
   "source": [
    "Equations for actuator"
   ]
  },
  {
   "cell_type": "markdown",
   "metadata": {},
   "source": [
    "if P_act - interpolated_P_amb>1e-8:\n",
    "        print('P_act>P_amb')\n",
    "        \n",
    "        # must be postive because Q is flowing out of system\n",
    "        Q_act = (P_act - interpolated_P_amb) / R_act\n",
    "        print(P_act,interpolated_P_amb)\n",
    "        print('Q_tank', Q_tank, 'Q_act', Q_act, )\n",
    "\n",
    "        dP_act_dt +=((Q_tank - Q_act) / volume_act(P_act - interpolated_P_amb) )*P_act\n",
    "    elif P_act - interpolated_P_amb<-1e8:\n",
    "        print('P_act<P_amb')\n",
    "        Q_act = (P_act - interpolated_P_amb)/ R_act\n",
    "        print('Q_tank', Q_tank, 'Q_act', Q_act, )\n",
    "        dP_act_dt += (Q_act/ abs(volume_act(0)))*P_act\n",
    "        \n",
    "        \n",
    "    else:\n",
    "        print('P_act=P_amb')\n",
    "        Q_act = 0\n",
    "        print('Q_tank', Q_tank, 'Q_act', Q_act, )\n",
    "        #dP_act_dt += Q_act/ abs(volume_act(0))"
   ]
  },
  {
   "cell_type": "markdown",
   "metadata": {},
   "source": [
    "Plotting"
   ]
  },
  {
   "cell_type": "markdown",
   "metadata": {},
   "source": [
    "\"\"\"\n",
    "def compute_dP_act_dt(P,P_act, interpolated_P_amb, R_act, Q_tank, volume_act):\n",
    "\n",
    "    Compute the value of dP_act_dt based on the provided conditions and formulae.\n",
    "    \n",
    "    Parameters:\n",
    "    - P_act: Active pressure\n",
    "    - interpolated_P_amb: Interpolated ambient pressure\n",
    "    - R_act: Resistance\n",
    "    - Q_tank: Tank flow rate\n",
    "    - volume_act: Function to compute volume based on pressure difference\n",
    "    \n",
    "    Returns:\n",
    "    - dP_act_dt: The computed value of dP_act_dt\n",
    "\n",
    "   \n",
    "    dP_act_dt =0\n",
    "    #Q_act = (P_act - interpolated_P_amb) / R_act\n",
    "    #dP_act_dt = -(Q_tank - Q_act) / volume_act(P_act - interpolated_P_amb)\n",
    "    #print(volume_act(P_act - interpolated_P_amb))\n",
    "    if P-P_act <0:\n",
    "        Q_act = 0\n",
    "        dP_act_dt = 0\n",
    "    elif P_act - interpolated_P_amb <0:\n",
    "        Q_act = 0\n",
    "        dP_act_dt = 0\n",
    "    else: \n",
    "            if volume_act(P_act-interpolated_P_amb) > 35*1e-6:\n",
    "                volume_act_limit=35e-6\n",
    "                Q_act = (P_act - interpolated_P_amb) / R_act\n",
    "                dP_act_dt -= (Q_tank - Q_act) / volume_act_limit\n",
    "            else:\n",
    "                Q_act = (P_act - interpolated_P_amb) / R_act\n",
    "                dP_act_dt -=(Q_tank - Q_act) / volume_act(P_act - interpolated_P_amb)\n",
    "    \"\"\"\n",
    "    if  P_act - interpolated_P_amb < 1e-12:\n",
    "        if P_act - interpolated_P_amb > -1e-12:\n",
    "            Q_act = 0\n",
    "            dP_act_dt = 0\n",
    "        else:\n",
    "            Q_act = (P_act - interpolated_P_amb) / R_act\n",
    "            dP_act_dt = -(Q_tank - Q_act) / volume_act(P_act - interpolated_P_amb)\n",
    "    else:\n",
    "        Q_act = (P_act - interpolated_P_amb) / R_act\n",
    "        dP_act_dt = -(Q_tank - Q_act) / volume_act(P_act - interpolated_P_amb)\n",
    "    \n",
    "    \n",
    "    #print(volume_act(P_act - interpolated_P_amb))\n",
    "    if  volume_act(P_act - interpolated_P_amb) < 1e-12:\n",
    "        if volume_act(P_act - interpolated_P_amb) > -1e-12:\n",
    "            dP_act_dt = 0\n",
    "        else:\n",
    "            dP_act_dt = (Q_tank - Q_act) / volume_act(P_act - interpolated_P_amb)\n",
    "    else:\n",
    "        dP_act_dt = (Q_tank - Q_act) / volume_act(P_act - interpolated_P_amb)\n",
    "\n",
    "    \n",
    "    return dP_act_dt"
   ]
  }
 ],
 "metadata": {
  "kernelspec": {
   "display_name": "Python 3",
   "language": "python",
   "name": "python3"
  },
  "language_info": {
   "codemirror_mode": {
    "name": "ipython",
    "version": 3
   },
   "file_extension": ".py",
   "mimetype": "text/x-python",
   "name": "python",
   "nbconvert_exporter": "python",
   "pygments_lexer": "ipython3",
   "version": "3.8.8"
  },
  "orig_nbformat": 4
 },
 "nbformat": 4,
 "nbformat_minor": 2
}
